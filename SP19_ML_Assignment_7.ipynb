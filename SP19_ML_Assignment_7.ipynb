{
 "cells": [
  {
   "cell_type": "code",
   "execution_count": 61,
   "metadata": {},
   "outputs": [],
   "source": [
    "import pandas as pd\n",
    "from sklearn import svm\n",
    "import matplotlib.pyplot as plt"
   ]
  },
  {
   "cell_type": "code",
   "execution_count": 62,
   "metadata": {},
   "outputs": [],
   "source": [
    "ta_eval_raw = pd.read_csv(\"C:\\\\Users\\\\sures\\\\Downloads\\\\tae_data.csv\")\n",
    "#Adding column-names to dataset for readability and usability\n",
    "ta_eval_raw.columns = [\"N\",\"I\",\"C\",\"S\",\"P\",\"Class\"]\n",
    "\n",
    "#Using holdout set cross-validation method here\n",
    "#Randomize data\n",
    "\n",
    "ta_eval_raw = ta_eval_raw.sample(frac=1)\n",
    "ta_eval_training = ta_eval_raw.iloc[0:int(ta_eval_raw.shape[0]/2),]\n",
    "ta_eval_test = ta_eval_raw.iloc[int(ta_eval_raw.shape[0]/2):,]\n",
    "\n",
    "\n",
    "features_train = ta_eval_training[['N','I','C','S','P']]\n",
    "Y_train = ta_eval_training[\"Class\"].tolist()\n"
   ]
  },
  {
   "cell_type": "code",
   "execution_count": 95,
   "metadata": {},
   "outputs": [
    {
     "name": "stdout",
     "output_type": "stream",
     "text": [
      "Training Accuracy_svc:  48.0 %\n",
      "Training Accuracy_rbf_svc:  98.67 %\n",
      "Training Accuracy_poly_svc:  97.33 %\n",
      "Training Accuracy_lin_svc:  34.67 %\n",
      "Test Accuracy_svc:  58.67 %\n",
      "Test Accuracy_rbf_svc:  52.0 %\n",
      "Test Accuracy_poly_svc:  61.33 %\n",
      "Test Accuracy_lin_svc:  33.33 %\n"
     ]
    }
   ],
   "source": [
    "#Creating and fitting the SVM model using the training x/y data\n",
    "\n",
    "C = 2  # SVM regularization parameter\n",
    "svc = svm.SVC(kernel='linear', C=C).fit(features_train, Y_train)\n",
    "rbf_svc = svm.SVC(kernel='rbf', gamma=20, C=C).fit(features_train, Y_train)\n",
    "poly_svc = svm.SVC(kernel='poly', degree=4, C=C).fit(features_train, Y_train)\n",
    "lin_svc = svm.LinearSVC(C=C).fit(features_train, Y_train)\n",
    "\n",
    "#SVMModel = svm.SVC(C=C)\n",
    "#SVMModel.fit(features_train, Y_train)\n",
    "\n",
    "y_train_predict_svc = svc.predict(features_train)\n",
    "y_train_predict_rbf_svc = rbf_svc.predict(features_train)\n",
    "y_train_predict_poly_svc = poly_svc.predict(features_train)\n",
    "y_train_predict_lin_svc = lin_svc.predict(features_train)\n",
    "\n",
    "print(\"Training Accuracy_svc: \", round(100*sum(Y_train == y_train_predict_svc)/len(y_train_predict_svc),2), \"%\")\n",
    "print(\"Training Accuracy_rbf_svc: \",round(100*sum(Y_train == y_train_predict_rbf_svc)/len(y_train_predict_rbf_svc),2), \"%\")\n",
    "print(\"Training Accuracy_poly_svc: \", round(100*sum(Y_train == y_train_predict_poly_svc)/len(y_train_predict_poly_svc),2), \"%\")\n",
    "print(\"Training Accuracy_lin_svc: \", round(100*sum(Y_train == y_train_predict_lin_svc)/len(y_train_predict_lin_svc),2), \"%\")\n",
    "\n",
    "\n",
    "#how well we do on the test data\n",
    "features_test = ta_eval_test[['N','I','C','S','P']]\n",
    "y_test_true = ta_eval_test[\"Class\"].tolist()\n",
    "y_test_predict_svc = svc.predict(features_test)\n",
    "y_test_predict_rbf_svc = rbf_svc.predict(features_test)\n",
    "y_test_predict_poly_svc = poly_svc.predict(features_test)\n",
    "y_test_predict_lin_svc = lin_svc.predict(features_test)\n",
    "\n",
    "print(\"Test Accuracy_svc: \", round(100*sum(y_test_true == y_test_predict_svc)/len(y_test_predict_svc),2), \"%\")\n",
    "print(\"Test Accuracy_rbf_svc: \", round(100*sum(y_test_true == y_test_predict_rbf_svc)/len(y_test_predict_rbf_svc),2), \"%\")\n",
    "print(\"Test Accuracy_poly_svc: \", round(100*sum(y_test_true == y_test_predict_poly_svc)/len(y_test_predict_poly_svc),2), \"%\")\n",
    "print(\"Test Accuracy_lin_svc: \", round(100*sum(y_test_true == y_test_predict_lin_svc)/len(y_test_predict_lin_svc),2), \"%\")\n",
    "\n",
    "# Using the above code, I have created all 4 types of SVMModels - svc, rbf_svc, polynomial and linear. After iterating over \n",
    "# multiple values of C ranging from 0.1 to 2, it was noticed that the most optimal combination of training and test accuracy was\n",
    "# noticed with the polynomial model. After that, the polynomial model was tested for multiple values of degrees ranging from\n",
    "# 1 to 5. The highest test accuracy was noted for degree = 4. The results based on the various models as well as the best \n",
    "# performing and optimized model providing the highest test accuracy of 61% is printed below"
   ]
  }
 ],
 "metadata": {
  "kernelspec": {
   "display_name": "Python 3",
   "language": "python",
   "name": "python3"
  },
  "language_info": {
   "codemirror_mode": {
    "name": "ipython",
    "version": 3
   },
   "file_extension": ".py",
   "mimetype": "text/x-python",
   "name": "python",
   "nbconvert_exporter": "python",
   "pygments_lexer": "ipython3",
   "version": "3.7.0"
  }
 },
 "nbformat": 4,
 "nbformat_minor": 2
}
