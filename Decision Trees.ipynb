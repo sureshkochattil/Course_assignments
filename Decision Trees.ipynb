{
 "cells": [
  {
   "cell_type": "markdown",
   "metadata": {},
   "source": [
    "## Importing Data"
   ]
  },
  {
   "cell_type": "code",
   "execution_count": 3,
   "metadata": {},
   "outputs": [],
   "source": [
    "import pandas as pd\n",
    "from sklearn import tree\n",
    "\n",
    "#Dataset used: https://archive.ics.uci.edu/ml/datasets/Teaching+Assistant+Evaluation\n",
    "ta_eval_raw = pd.read_csv(\"C:\\\\Users\\\\sures\\\\Downloads\\\\tae_data.csv\")\n",
    "\n",
    "#Used for sampling (previous data) and (future data) \n",
    "total_sample_num = ta_eval_raw.shape[0]\n",
    "\n",
    "\n",
    "#in order to simulate what would happen in real life scenarios, we choose\n",
    "#50% of this dataset at random to be our previous (training) data\n",
    "previous_data_to_train_on = ta_eval_raw.sample(int(0.5*total_sample_num), replace=True)"
   ]
  },
  {
   "cell_type": "markdown",
   "metadata": {},
   "source": [
    "## Assignment: Write code to build a decision tree classifier on this dataset"
   ]
  },
  {
   "cell_type": "code",
   "execution_count": 38,
   "metadata": {},
   "outputs": [],
   "source": [
    "#TODO: Build your decision tree model here (keep the name of your decision tree consistent throughout the program)\n",
    "#Hint: Read the sklearn DecisionTreeClassifier docs:\n",
    "#http://scikit-learn.org/stable/modules/generated/sklearn.tree.DecisionTreeClassifier.html\n",
    "#Hint: You may also find it useful to visualize the tree in Graphviz as we've done in the lecture\n",
    "\n",
    "ta_eval_X = ta_eval_raw.iloc[:, :5]\n",
    "ta_eval_Y = ta_eval_raw.iloc[:, 5:6]\n",
    "decision_tree = tree.DecisionTreeClassifier(min_samples_leaf = 2, max_depth = 20)\n",
    "decision_tree = decision_tree.fit(ta_eval_X, ta_eval_Y)\n",
    "ta_eval_feature_names = list(ta_eval_X.columns.values)\n",
    "ta_eval_Y_Classes = ['1','2','3']\n",
    "tree.export_graphviz(decision_tree, out_file = 'ta_eval_1.dot', feature_names = ta_eval_feature_names, class_names = ta_eval_Y_Classes,  \n",
    "                         filled=True, rounded=True)  \n",
    "\n",
    "\n",
    "\n",
    "#TODO ENDS HERE  "
   ]
  },
  {
   "cell_type": "markdown",
   "metadata": {},
   "source": [
    "## Testing classifier on previous (training) data and future (test) data"
   ]
  },
  {
   "cell_type": "code",
   "execution_count": 39,
   "metadata": {},
   "outputs": [
    {
     "name": "stdout",
     "output_type": "stream",
     "text": [
      "Data We Trained On Prediction Accuracy:  0.9066666666666666 %\n",
      "Future Data Prediction Accuracy:  0.9066666666666666 %\n"
     ]
    }
   ],
   "source": [
    "#in order to simulate what would happen in real life scenarios, we choose\n",
    "#50% of this dataset at random to be our future (test) data\n",
    "future_data_we_will_test_on = ta_eval_raw.sample(int(0.5*total_sample_num), replace=True)\n",
    "\n",
    "#True values so that we can compare how good our classifier that we built performs\n",
    "true_value_training = list(previous_data_to_train_on.iloc[:,5])\n",
    "true_value_future = list(future_data_we_will_test_on.iloc[:,5])\n",
    "\n",
    "#Using Decision Tree to predict the labels i.e. 1, 2, or 3 for training and test data\n",
    "prediction_on_trainingdata = decision_tree.predict(previous_data_to_train_on.iloc[:, :5])\n",
    "prediction_on_futuredata = decision_tree.predict(future_data_we_will_test_on.iloc[:, :5])\n",
    "\n",
    "print(\"Data We Trained On Prediction Accuracy: \", sum(true_value_training == prediction_on_trainingdata)/len(prediction_on_trainingdata), \"%\")\n",
    "print(\"Future Data Prediction Accuracy: \", sum(true_value_future == prediction_on_futuredata)/len(prediction_on_futuredata), \"%\")"
   ]
  }
 ],
 "metadata": {
  "kernelspec": {
   "display_name": "Python 3",
   "language": "python",
   "name": "python3"
  },
  "language_info": {
   "codemirror_mode": {
    "name": "ipython",
    "version": 3
   },
   "file_extension": ".py",
   "mimetype": "text/x-python",
   "name": "python",
   "nbconvert_exporter": "python",
   "pygments_lexer": "ipython3",
   "version": "3.7.0"
  }
 },
 "nbformat": 4,
 "nbformat_minor": 1
}
