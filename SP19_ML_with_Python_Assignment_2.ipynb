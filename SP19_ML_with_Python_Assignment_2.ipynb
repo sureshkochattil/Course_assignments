{
 "cells": [
  {
   "cell_type": "code",
   "execution_count": null,
   "metadata": {},
   "outputs": [],
   "source": [
    "# Question 1"
   ]
  },
  {
   "cell_type": "code",
   "execution_count": 1,
   "metadata": {},
   "outputs": [
    {
     "name": "stdout",
     "output_type": "stream",
     "text": [
      "Please input an integer : 8\n",
      "00001000\n"
     ]
    }
   ],
   "source": [
    "def D2B():\n",
    "\n",
    "    integer_number = int(input('Please input an integer : '))\n",
    "\n",
    "    converted_string = ''\n",
    "\n",
    "    for x in range(8):\n",
    "        r = integer_number % 2\n",
    "        integer_number = integer_number//2\n",
    "        converted_string += str(r)\n",
    "        converted_string_reversed = converted_string[::-1]\n",
    "\n",
    "    print(converted_string_reversed)\n",
    "\n",
    "D2B()"
   ]
  },
  {
   "cell_type": "code",
   "execution_count": null,
   "metadata": {},
   "outputs": [],
   "source": [
    "# Question 2"
   ]
  },
  {
   "cell_type": "code",
   "execution_count": 2,
   "metadata": {},
   "outputs": [
    {
     "name": "stdout",
     "output_type": "stream",
     "text": [
      "Enter 4 binary numbers into array one at a time\n",
      "num : 1\n",
      "num : 0\n",
      "num : 0\n",
      "num : 0\n",
      "ARRAY:  [1, 0, 0, 0]\n",
      "The converted digit is :  8\n"
     ]
    }
   ],
   "source": [
    "def B2D():\n",
    "    num_array = list()\n",
    "    print('Enter 4 binary numbers into array one at a time')\n",
    "    for i in range(4):\n",
    "        n = input(\"num : \")\n",
    "        num_array.append(int(n))\n",
    "    print('ARRAY: ', num_array)\n",
    "    convert_string = ''.join(str(e) for e in num_array)\n",
    "    decnum = int(convert_string,2)\n",
    "    print(\"The converted digit is : \", decnum)\n",
    "\n",
    "B2D()"
   ]
  },
  {
   "cell_type": "code",
   "execution_count": null,
   "metadata": {},
   "outputs": [],
   "source": [
    "# Question 3"
   ]
  },
  {
   "cell_type": "code",
   "execution_count": 3,
   "metadata": {},
   "outputs": [
    {
     "name": "stdout",
     "output_type": "stream",
     "text": [
      "Abelcet 2016-08-01 00:00:00\n",
      "Azithromycin 2016-12-24 00:00:00\n",
      "Arava 2019-01-01 00:00:00\n",
      "Anadrol-50 2010-11-14 00:00:00\n"
     ]
    }
   ],
   "source": [
    "myMedDict={\"Abelcet\":\"Aug 1 2016\",\"Azithromycin\":\"Dec 24 2016\",\"Arava\":\"Jan 1 2019\",\"Arixtra\":\"May 31 2022\",\"Aplenzin\":\"Jan 3 2020\",\"Antizol\":\"Aug 31 2023\",\n",
    "               \"Anadrol-50\":\"Nov 14 2010\"}\n",
    "\n",
    "def expired_list (myMedDict):\n",
    "\n",
    "    import datetime\n",
    "\n",
    "    for key in myMedDict:\n",
    "        expiry_date = datetime.datetime.strptime(myMedDict[key], '%b %d %Y')\n",
    "        if expiry_date < datetime.datetime.now():\n",
    "            print(key, expiry_date)\n",
    "\n",
    "expired_list(myMedDict)"
   ]
  },
  {
   "cell_type": "code",
   "execution_count": null,
   "metadata": {},
   "outputs": [],
   "source": [
    "# Qquestion 4"
   ]
  },
  {
   "cell_type": "code",
   "execution_count": 4,
   "metadata": {},
   "outputs": [
    {
     "name": "stdout",
     "output_type": "stream",
     "text": [
      "Enter an integer: 8\n",
      "1000"
     ]
    }
   ],
   "source": [
    "def bin_convert(n):\n",
    "    if n > 1:\n",
    "        bin_convert(n // 2)\n",
    "    print(n % 2, end='')\n",
    "\n",
    "dec = int(input(\"Enter an integer: \"))\n",
    "bin_convert(dec)"
   ]
  },
  {
   "cell_type": "code",
   "execution_count": null,
   "metadata": {},
   "outputs": [],
   "source": [
    "# Question 5"
   ]
  },
  {
   "cell_type": "code",
   "execution_count": 5,
   "metadata": {},
   "outputs": [
    {
     "name": "stdout",
     "output_type": "stream",
     "text": [
      "Please enter crime type : ARSON\n",
      "Mean of ARSON : 0.06\n",
      "List of addresses where ARSON is higher than average :  ['MENDELL ST / HUDSON AV', '500 Block of COLLEGE AV', '400 Block of CASTRO ST', '700 Block of MARKET ST', '0 Block of 3RD ST', '0 Block of SANSOME ST', '0 Block of MARKET ST', '400 Block of HYDE ST', '1900 Block of MISSION ST', '4600 Block of 18TH ST', '600 Block of VANNESS AV', '400 Block of EDDY ST', '0 Block of 6TH ST', '1200 Block of MARKET ST', '0 Block of DANIELBURNHAM CT', '0 Block of WHITFIELD CT', '700 Block of GEARY ST', '500 Block of JOHNFKENNEDY DR', '1300 Block of MISSION ST', '100 Block of EDDY ST', '1100 Block of FILLMORE ST', '0 Block of BROOK ST', 'CALIFORNIA ST / STOCKTON ST', '800 Block of BRYANT ST', '100 Block of KISKA RD', '1600 Block of 20TH ST', '900 Block of POTRERO AV', '2000 Block of CALIFORNIA ST', '0 Block of GROVE ST', '1000 Block of MISSION ST', '1600 Block of HAIGHT ST', '3600 Block of LYON ST', '300 Block of BAY ST', '17TH ST / MISSION ST', '700 Block of VALLEJO ST', '200 Block of BLYTHDALE AV', '500 Block of LARKIN ST', '1000 Block of BUSH ST', 'VALENCIA ST / 17TH ST', '600 Block of EDDY ST', '1200 Block of UNION ST', '2000 Block of MISSION ST', 'HAIGHT ST / STANYAN ST', 'CRESCENT AV / FOLSOM ST', 'ELLIS ST / JONES ST', '2000 Block of MARKET ST', '1600 Block of SUNNYDALE AV', '1800 Block of EDDY ST', '3700 Block of CALIFORNIA ST', '900 Block of OFARRELL ST', '1000 Block of POLK ST', '400 Block of STOCKTON ST', '3100 Block of MISSION ST', '300 Block of 11TH AV', '200 Block of EDDY ST', '900 Block of CONNECTICUT ST', '3200 Block of 17TH ST', '2600 Block of SAN BRUNO AV', '200 Block of MARKET ST', '0 Block of BROOKDALE AV', '3200 Block of 20TH AV', '300 Block of BROADWAY ST', '1000 Block of CONNECTICUT ST', '1000 Block of MARKET ST', '200 Block of GRANT AV', '400 Block of OFARRELL ST', '0 Block of SGTJOHNVYOUNG LN', '0 Block of 9TH ST', '2500 Block of MARIN ST', '0 Block of TURNER TR', 'LAKE MERCED BL / SUNSET BL', '3RD ST / CHINABASIN ST', '400 Block of 6TH AV', '800 Block of MARKET ST', '0 Block of OSCEOLA LN', '17TH ST / CONNECTICUT ST', '100 Block of MAIDEN LN', '400 Block of ELLIS ST', '5TH ST / MARKET ST', '200 Block of 11TH ST', '1100 Block of FRANCISCO ST', '100 Block of FONT BL', '0 Block of DELONG ST', '500 Block of SANSOME ST', '0 Block of CLAY ST', '500 Block of 5TH ST', '1400 Block of SELBY ST', '1100 Block of HOWARD ST', '1000 Block of POTRERO AV', '500 Block of ALEMANY BL', '600 Block of ELLIS ST', '200 Block of TURK ST', '3500 Block of 17TH ST', '3900 Block of 24TH ST', '1100 Block of FITZGERALD AV', '1800 Block of SUNNYDALE AV', '1500 Block of REVERE AV', '1600 Block of MCALLISTER ST', '0 Block of MOSS ST', '3100 Block of CESAR CHAVEZ ST', '3000 Block of 16TH ST', '300 Block of LAGUNAHONDA BL', '1500 Block of MISSION ST', '500 Block of JONES ST', '0 Block of BLYTHDALE AV', '1300 Block of STOCKTON ST', '100 Block of 9TH ST', '2200 Block of LINCOLN WY', '3200 Block of 22ND ST', 'BAY SHORE BL / PAUL AV', '1300 Block of STEINER ST', '1000 Block of HOWARD ST', '0 Block of POST ST', '200 Block of FOLSOM ST', '1100 Block of MISSION ST', '1600 Block of BRYANT ST', '1700 Block of CESAR CHAVEZ ST', '4000 Block of 17TH ST', '2400 Block of GRIFFITH ST', '2400 Block of SAN JOSE AV', '300 Block of ELLIS ST', '200 Block of INTERSTATE80 HY', '800 Block of HOWARD ST', '0 Block of VALMAR TR', 'BRAZIL AV / LAGRANDE AV', '200 Block of 8TH ST', '100 Block of LEAVENWORTH ST', '20TH ST / CAPP ST', '800 Block of BRANNAN ST', '1000 Block of GRIFFITH ST', '0 Block of LAGUNA ST', '900 Block of MARKET ST', '700 Block of CHESTNUT ST', '1600 Block of UNION ST', '100 Block of CAINE AV', '800 Block of 3RD ST', '100 Block of OTIS ST', 'OFARRELL ST / TAYLOR ST', '100 Block of 6TH ST', '1500 Block of BRYANT ST', '600 Block of VALENCIA ST', '500 Block of SELBY ST', '700 Block of SUTTER ST', '0 Block of MIDDLEFIELD DR', 'SUNNYDALE AV / HAHN ST', '3RD ST / CESAR CHAVEZ ST', '3100 Block of 16TH ST', '0 Block of DAKOTA ST', '3000 Block of 25TH AV', '0 Block of SANTOS ST', 'OLIVE ST / VANNESS AV', '100 Block of BLYTHDALE AV', '500 Block of VALENCIA ST', '0 Block of TURK ST', '1100 Block of REVERE AV', '3500 Block of FILLMORE ST', '2400 Block of MARKET ST', '25TH ST / ILLINOIS ST', '1100 Block of CARROLL AV', '1300 Block of MARKET ST', '1500 Block of SLOAT BL', '400 Block of THE EMBARCADEROSOUTH ST', '1500 Block of PINE ST', '1500 Block of EDDY ST', 'HYDE ST / OFARRELL ST', '300 Block of SAN JOSE AV', '400 Block of JESSIE ST', '200 Block of 11TH AV', '200 Block of ELLIS ST', '300 Block of EDDY ST', '400 Block of BROADWAY ST', '2600 Block of MISSION ST', '700 Block of ELLIS ST', '500 Block of CAPP ST', '500 Block of MARKET ST', '700 Block of HARRISON ST', 'INGALLS ST / LASALLE AV', '200 Block of MCALLISTER ST', '300 Block of FREMONT ST', '3000 Block of CESAR CHAVEZ ST', '1800 Block of MARKET ST', '500 Block of SOUTH VAN NESS AV', '900 Block of POST ST', '2400 Block of GEARY BL', '200 Block of CALIFORNIA ST', '500 Block of NATOMA ST', '5TH ST / HARRISON ST', '3400 Block of 18TH ST', '0 Block of MANSELL ST', '1600 Block of HAYES ST', '3RD ST / MARKET ST', '0 Block of DRUMM ST', '1500 Block of SUNNYDALE AV', '1000 Block of GILMAN AV', '0 Block of PHELAN AV', '800 Block of POTRERO AV', '100 Block of COLLINGWOOD ST', '1200 Block of PENNSYLVANIA AV', '800 Block of POST ST', '400 Block of 30TH AV', '12TH ST / MARKET ST', '24TH ST / ILLINOIS ST', '1400 Block of 6TH AV', '1100 Block of YORK ST', '800 Block of LA PLAYA ST', '2300 Block of MARKET ST', '600 Block of JAMESTOWN AV', '800 Block of SUTTER ST', '800 Block of PACIFIC AV', '1300 Block of UNDERWOOD AV', '0 Block of HARBOR RD', '100 Block of POST ST', '600 Block of POST ST', '2600 Block of HARRISON ST', '2900 Block of DIAMOND ST', 'LEAVENWORTH ST / OFARRELL ST', '200 Block of SHOTWELL ST', '800 Block of MANSELL ST', '200 Block of COLUMBUS AV', '1000 Block of NEWHALL ST', '1700 Block of LASALLE AV', '400 Block of CENTRAL AV', '400 Block of SUTTER ST', '1400 Block of ARMSTRONG AV', '900 Block of FOLSOM ST', '100 Block of LARKIN ST', '800 Block of ELLIS ST', '1200 Block of FOLSOM ST', '400 Block of MINNA ST', '1000 Block of FITZGERALD AV', '15TH ST / JULIAN AV', '500 Block of MINNA ST', '0 Block of REARDON RD', '1300 Block of POLK ST', '12TH ST / FOLSOM ST', '1300 Block of VANNESS AV', '4500 Block of MISSION ST', '600 Block of VERMONT ST', '100 Block of PARNASSUS AV', '900 Block of MISSION ST', '1100 Block of SUTTER ST', '0 Block of GRANT AV', '800 Block of SACRAMENTO ST', '1800 Block of PAGE ST', '0 Block of CAMERON WY', '400 Block of JONES ST', '2900 Block of VANNESS AV', '2100 Block of MARKET ST', '1500 Block of ALEMANY BL', '400 Block of RAYMOND AV', '300 Block of LAGRANDE AV', '600 Block of POLK ST', '2100 Block of 24TH AV', '1300 Block of GOLDEN GATE AV', '0 Block of MONTGOMERY ST', '700 Block of 23RD AV', '0 Block of SYCAMORE ST', 'OAKDALE AV / 3RD ST', '0 Block of NORTHRIDGE RD', '600 Block of CALIFORNIA ST', 'VANDYKE AV / INGALLS ST', '700 Block of EDDY ST', '2800 Block of LEAVENWORTH ST', '600 Block of LARCH ST', '2500 Block of LOMBARD ST', '1200 Block of GENEVA AV', '18TH ST / SOUTH VAN NESS AV', '2400 Block of 23RD ST', '1400 Block of PINE ST', '3900 Block of GEARY BL', '2200 Block of 14TH AV', '0 Block of CHUMASERO DR', '0 Block of SOUTHPARK AV', 'EDDY ST / HYDE ST', '100 Block of 3RD ST', '100 Block of POWELL ST', '1200 Block of GILMAN AV', '1400 Block of HAIGHT ST', '700 Block of HOWARD ST', '0 Block of MAIDEN LN', '1200 Block of 25TH AV', 'FILLMORE ST / POST ST', '1600 Block of EDDY ST', '500 Block of HARRISON ST', '800 Block of GONZALEZ DR', '500 Block of PACIFIC AV', '1200 Block of GIRARD ST', '1400 Block of LASALLE AV', '200 Block of 6TH ST', '100 Block of BROAD ST', '1800 Block of SCOTT ST', '1900 Block of OAKDALE AV', '2900 Block of 16TH ST', '500 Block of 25TH AV', '300 Block of FELL ST', '600 Block of JOHNMUIR DR', '500 Block of DOLORES ST', '2500 Block of SUTTER ST', 'FELL ST / OCTAVIA ST', '1100 Block of POTRERO AV', '1100 Block of TURK ST', '1100 Block of SOUTH VAN NESS AV', '1600 Block of KIRKWOOD AV', '800 Block of OFARRELL ST', '0 Block of CASHMERE ST', '700 Block of WEBSTER ST', '100 Block of KEARNY ST', '600 Block of MENDELL ST', '100 Block of TOWNSEND ST', '1100 Block of POLK ST', '300 Block of 11TH ST', '900 Block of ELLSWORTH ST', '0 Block of 12TH ST', '4800 Block of 3RD ST', '100 Block of SOUTHPARK AV', '400 Block of MANSELL ST', '100 Block of GRANT AV', 'MARKET ST / STOCKTON ST', '600 Block of CAYUGA AV', '2900 Block of DIVISADERO ST', '2800 Block of 24TH ST', '0 Block of VANBUREN ST', '0 Block of NOE ST', 'INGERSON AV / GRIFFITH ST', 'HAYES ST / POLK ST', 'TURK ST / MASON ST', '1000 Block of OAKDALE AV', '5600 Block of MISSION ST', '1000 Block of SUTTER ST', '2000 Block of POLK ST', '2300 Block of LARKIN ST', '1700 Block of 27TH AV', 'GEARY BL / GOUGH ST', '1100 Block of SCOTT ST', '1100 Block of GEARY BL', '0 Block of VANDEWATER ST', '21ST ST / FOLSOM ST', '0 Block of JONES ST', 'HAIGHT ST / CLAYTON ST', '200 Block of TAYLOR ST', '700 Block of MISSOURI ST', '100 Block of FELL ST', '1000 Block of LARKIN ST', '200 Block of MONTANA ST', '1800 Block of FOLSOM ST', '0 Block of WATCHMAN WY', '700 Block of PORTOLA DR', '2100 Block of POLK ST', '300 Block of CAPP ST', '400 Block of JEFFERSON ST', '1200 Block of FELL ST', '900 Block of HAMPSHIRE ST', '500 Block of PORTOLA DR', '0 Block of CORTLAND AV', '2200 Block of UNION ST', '600 Block of 32ND AV', '0 Block of PAGE ST', '1500 Block of PALOU AV', '1000 Block of POST ST', '2400 Block of ALEMANY BL', '0 Block of GOUGH ST', '400 Block of 7TH ST', '0 Block of NICHOLS WY', '1500 Block of ALABAMA ST', 'KEITH ST / PALOU AV', '800 Block of INGERSON AV', '1500 Block of TREAT AV', '1300 Block of PINE ST', '0 Block of SIERRA ST', '0 Block of MCCOPPIN ST', '700 Block of MENDELL ST', '900 Block of PINE ST', '2800 Block of HARRISON ST', '600 Block of 3RD ST', '600 Block of 48TH AV', '1200 Block of ELCAMINODELMAR ST', '400 Block of ARGUELLO BL', '0 Block of MASON ST', '300 Block of SENECA AV', '2000 Block of BAY SHORE BL', '0 Block of VEGA ST', '1900 Block of SUNNYDALE AV', '500 Block of OFARRELL ST', '1300 Block of 10TH AV', '100 Block of COLUMBUS AV', '2500 Block of TAYLOR ST', '400 Block of PIERCE ST', '3500 Block of FULTON ST', 'BRYANT ST / DIVISION ST', '600 Block of 5TH AV', '2200 Block of IRVING ST', '3000 Block of 23RD ST', '600 Block of 23RD AV', '200 Block of TUNNEL AV', '1600 Block of PINE ST', '500 Block of ELLIS ST', '700 Block of FILLMORE ST', '2400 Block of 44TH AV', '1400 Block of LAGUNA ST', '1700 Block of UNION ST', '1200 Block of MCALLISTER ST', '1000 Block of STEINER ST', '1900 Block of LEAVENWORTH ST', '400 Block of 20TH AV', '1700 Block of FILBERT ST', '1300 Block of SHAFTER AV', 'SAN JOSE AV / SENECA AV', 'BERRY ST / 4TH ST', '500 Block of CARTER ST', 'EVANS AV / RANKIN ST', '300 Block of FRANCISCO ST', '100 Block of DAKOTA ST', '0 Block of OTIS ST', '100 Block of MAIN ST', '600 Block of FILBERT ST', '1000 Block of GOUGH ST', '600 Block of UNION ST', '4100 Block of 18TH ST', '1400 Block of THOMAS AV', '0 Block of 4TH ST', '300 Block of SERRANO DR', '1300 Block of CASTRO ST', '1500 Block of NEWCOMB AV', '0 Block of CLARENCE PL', '200 Block of BRANNAN ST', '800 Block of CLAYTON ST', '3800 Block of NORIEGA ST', '700 Block of CLAYTON ST', '800 Block of FULTON ST', 'TAYLOR ST / ELLIS ST', '30TH ST / MISSION ST', '1500 Block of INNES AV', '200 Block of SANCHEZ ST', '1500 Block of THOMAS AV', '2400 Block of FILBERT ST', '0 Block of HARRIET ST', 'KING ST / 4TH ST', '0 Block of SHERMAN ST', '100 Block of CHURCH ST', '9TH ST / MARKET ST', '800 Block of 39TH AV', '1200 Block of INGALLS ST', '200 Block of NOE ST', '1400 Block of VALENCIA ST', '1200 Block of VANNESS AV', '400 Block of 10TH AV', '1100 Block of QUESADA AV', '300 Block of SPEAR ST', '1300 Block of PACIFIC AV', '900 Block of MARIN ST', '2500 Block of MARIPOSA ST', '900 Block of VALENCIA ST', '1600 Block of PACIFIC AV', '1000 Block of HOLLISTER AV', 'MCCOPPIN ST / STEVENSON ST', 'DOLORES ST / 16TH ST', '1800 Block of CHESTNUT ST', '500 Block of TAYLOR ST', '200 Block of WESTPORTAL AV', '200 Block of MADRID ST', '300 Block of LEAVENWORTH ST', '1200 Block of FITZGERALD AV', '900 Block of SACRAMENTO ST', '10TH ST / HOWARD ST', '1500 Block of FOLSOM ST', '2500 Block of GREENWICH ST', '700 Block of TAYLOR ST', '1900 Block of 46TH AV', '0 Block of LANDERS ST', '300 Block of HYDE ST', '0 Block of HALLAM ST', '800 Block of RUSSIA AV', '3300 Block of 23RD ST', 'VALENCIA ST / 18TH ST', '1200 Block of THOMAS AV', '100 Block of AVENUE OF THE PALMS', '1500 Block of HAYES ST', '0 Block of GEARY ST', '500 Block of THE EMBARCADEROSOUTH ST', '5800 Block of 3RD ST', 'BOSWORTH ST / LYELL ST', '100 Block of SHIPLEY ST', '3200 Block of BAKER ST', '100 Block of SHOTWELL ST', 'STILLMAN ST / 2ND ST', '1100 Block of OAKDALE AV', '200 Block of HARBOR RD', '0 Block of 14TH ST', 'TURK ST / GOUGH ST', '600 Block of IRVING ST', '400 Block of MARINA BL', 'KEARNY ST / WASHINGTON ST', '1600 Block of MCKINNON AV', 'ARMSTRONG AV / INGALLS ST', '1600 Block of OCEAN AV', '1000 Block of GOLDEN GATE AV', '1400 Block of FOLSOM ST', '19TH ST / VALENCIA ST', '3700 Block of 20TH ST', '900 Block of SANSOME ST', '0 Block of CAINE AV', '0 Block of NAPOLEON ST', '1500 Block of WALLACE AV', '1700 Block of THE EMBARCADERONORTH ST', '0 Block of WESTBROOK CT', 'BAY ST / BUCHANAN ST', '3700 Block of 18TH ST', '1600 Block of ARMSTRONG AV', '200 Block of WESTPOINT RD', '100 Block of CORA ST', '5300 Block of GEARY BL', '400 Block of ATHENS ST', '100 Block of GROVE ST', '1300 Block of FAIRFAX AV', '2700 Block of POLK ST', '200 Block of JOOST AV', '1400 Block of CLAY ST', '700 Block of JERROLD AV', '1100 Block of 9TH AV', '100 Block of APTOS AV', 'DOLORES ST / 20TH ST', '1800 Block of 25TH ST', '1500 Block of CUSTER AV', '1000 Block of CAYUGA AV', '300 Block of SUTTER ST', '6200 Block of 3RD ST', '1300 Block of HAWES ST', '2600 Block of FULTON ST', '1300 Block of OCEAN AV', '200 Block of FREMONT ST', 'CLAYTON ST / TWINPEAKS BL', '1000 Block of FULTON ST', '2900 Block of GEARY BL', 'RICHLAND AV / MISSION ST', '2400 Block of MARIPOSA ST', 'LARKIN ST / MYRTLE ST', '0 Block of CONKLING ST', '3100 Block of ORTEGA ST', '1200 Block of SHAFTER AV', '300 Block of MOSCOW ST', '100 Block of BANKS ST', '700 Block of OFARRELL ST', '1300 Block of RHODEISLAND ST', 'GROVE ST / HYDE ST', '1300 Block of MANSELL ST', 'BROTHERHOOD WAY / LAKE MERCED BL', '0 Block of BEMIS ST', '100 Block of CAMERON WY', 'VALLEJO ST / BATTERY ST', '0 Block of CAMPTON PL', '100 Block of THE EMBARCADERONORTH ST', '600 Block of TENNESSEE ST', '1000 Block of ASHBURY ST', 'JOHNFKENNEDY DR / TRANSVERSE DR', 'CRISP RD / PALOU AV', '700 Block of ROLPH ST', 'MINNA ST / 8TH ST', '100 Block of UTAH ST', '2000 Block of GROVE ST', '300 Block of CORNWALL ST', '100 Block of SANCHEZ ST', 'OFARRELL ST / POLK ST', '600 Block of FULTON ST', '800 Block of HYDE ST', '0 Block of MINT ST', '1600 Block of DAVIDSON AV', '1500 Block of VALENCIA ST', '1200 Block of NEWHALL ST', '5000 Block of MISSION ST', '400 Block of SERRANO DR', '1000 Block of GEARY ST', '300 Block of SANCARLOS ST', '100 Block of WESTPOINT RD', 'FITCH ST / INNES AV', '1300 Block of CALIFORNIA ST', '100 Block of EXCELSIOR AV', '500 Block of JOHNMUIR DR', '1400 Block of QUESADA AV', '1500 Block of JONES ST', '0 Block of GRACE ST', '1200 Block of OCEAN AV', 'TURNER TR / MISSOURI ST', '900 Block of GUERRERO ST', '1900 Block of 25TH ST', '3RD ST / JERROLD AV', '400 Block of BRIGHT ST', '0 Block of WATERLOO ST', '200 Block of CUMBERLAND ST', '2200 Block of MCKINNON AV', '1700 Block of SACRAMENTO ST', '100 Block of FRANKLIN ST', '1300 Block of NATOMA ST', 'GROVE ST / MASONIC AV', '1400 Block of FELTON ST', '1100 Block of INGALLS ST', '1400 Block of HAWES ST', 'SUTTER ST / MASON ST', '100 Block of BRIGHTON AV', '1000 Block of FLORIDA ST', 'JERROLD AV / BARNEVELD AV', 'GILMAN AV / GRIFFITH ST', '800 Block of BUSH ST', '200 Block of 8TH AV', '1600 Block of NEWCOMB AV', '400 Block of 18TH AV', '700 Block of COMMERCIAL ST', '800 Block of WISCONSIN ST', '1600 Block of FILLMORE ST', 'SHOTWELL ST / 17TH ST', '1800 Block of OAKDALE AV', '1200 Block of BOWDOIN ST', '1300 Block of 29TH AV', '0 Block of DOUBLEROCK ST', '700 Block of JAMESTOWN AV', '0 Block of COTTER ST', '100 Block of HARBOR RD', '0 Block of RINGOLD ST', 'OAK ST / SCOTT ST', '400 Block of ELIZABETH ST', '400 Block of MISSION ST', '1200 Block of BROADWAY ST', '900 Block of BRYANT ST', '0 Block of FREMONT ST', 'SOUTH VAN NESS AV / 21ST ST', '1900 Block of CARROLL AV', '1400 Block of VALLEJO ST', 'MANSELL ST / UNIVERSITY ST', 'LYELL ST / BOSWORTH ST', 'CARROLL AV / FITCH ST', '300 Block of VICTORIA ST', '600 Block of DEHARO ST', '800 Block of SHOTWELL ST', 'PHELPS ST / JERROLD AV', '0 Block of BRIGHTON AV', '2000 Block of POST ST', '200 Block of SCHWERIN ST', '600 Block of HEAD ST', '600 Block of BUSH ST', '1500 Block of 43RD AV', '300 Block of CASTRO ST', '0 Block of OTSEGO AV', '500 Block of 14TH ST', '600 Block of STEVENSON ST', 'GILMAN AV / JENNINGS ST', '900 Block of INGERSON AV', '0 Block of WASHBURN ST', '0 Block of DUKES CT', 'CLAYTON ST / PAGE ST', 'HOOPER ST / 7TH ST', '16TH ST / FOLSOM ST', '3200 Block of DIVISADERO ST', '0 Block of DEDMAN CT', '400 Block of 24TH AV', '700 Block of BAY ST', '2100 Block of BUSH ST', '400 Block of BURROWS ST', '1400 Block of 42ND AV', '0 Block of MIDDLEPOINT RD', 'ELLIS ST / VANNESS AV', '2500 Block of CLAY ST', '100 Block of BARNEVELD AV', '3RD AV / CLEMENT ST', '1500 Block of SHAFTER AV', '500 Block of JESSIE ST', '17TH ST / VERMONT ST', '0 Block of ARKANSAS ST', '2300 Block of GOLDEN GATE AV', '1600 Block of CHESTNUT ST', '100 Block of VERNON ST', '2400 Block of SUTTER ST', '0 Block of BAYVIEW ST', '800 Block of 24TH AV', '2400 Block of CHESTNUT ST', '900 Block of CLAY ST', '300 Block of SAWYER ST', '200 Block of PUTNAM ST', '1500 Block of GOUGH ST', '2000 Block of SUNNYDALE AV', '100 Block of MISSION ST', 'HEMLOCK ST / POLK ST', '1400 Block of MANSELL ST', '100 Block of LOBOS ST', '600 Block of FELTON ST', '0 Block of LEE AV', '1400 Block of HUDSON AV', 'SANTIAGO ST / 24TH AV', '100 Block of ARCH ST', 'STEINER ST / POST ST', '1300 Block of 43RD AV', '200 Block of DORADO TR', 'HUDSON AV / PHELPS ST', '0 Block of CEDAR ST', '500 Block of 30TH AV', 'INNES AV / HAWES ST', '2200 Block of SAN BRUNO AV', '5800 Block of MISSION ST', 'ALAMEDA ST / VERMONT ST', '400 Block of KANSAS ST', '900 Block of SOUTH VAN NESS AV', '0 Block of HARTFORD ST', '200 Block of JENNINGS ST', 'JUNIPER ST / FOLSOM ST', '1200 Block of HAIGHT ST', '300 Block of SUNRISE WY', '1300 Block of HAYES ST', '2900 Block of FOLSOM ST', '2900 Block of PACIFIC AV', '4000 Block of 19TH ST', '10TH AV / LINCOLN WY', '0 Block of BALDWIN CT', '400 Block of MANGELS AV', '1300 Block of YOSEMITE AV', '600 Block of VALLEJO ST', '600 Block of LOMBARD ST', '26TH ST / WISCONSIN ST', '200 Block of JOHNFSHELLEY DR', '3300 Block of 26TH ST', '1000 Block of BRANNAN ST', 'SUTTER ST / GRANT AV', 'FOLSOM ST / 19TH ST', 'ALEMANY BL / CRYSTAL ST', 'CHUMASERO DR / GALINDO AV', '0 Block of BERTHA LN', 'NEWHALL ST / EVANS AV', '1400 Block of BANCROFT AV', '1700 Block of ALAMEDA ST', '700 Block of ALABAMA ST', '1300 Block of POWELL ST', '100 Block of OLIVE ST', '300 Block of 25TH AV', '0 Block of BRUCE AV', '100 Block of TOPEKA AV', '2600 Block of STEINER ST', 'DIVISION ST / POTRERO AV', '100 Block of 5TH ST', '0 Block of WESTPOINT RD', '100 Block of PARIS ST', '700 Block of POWELL ST', '26TH ST / HARRISON ST', '2600 Block of 37TH AV', '4100 Block of 24TH ST', 'HARLAN PL / GRANT AV', '100 Block of DOWNEY ST', '1400 Block of 40TH AV', 'INNES AV / FITCH ST', '200 Block of BRIDGEVIEW DR', '3300 Block of NORIEGA ST', '2400 Block of PACIFIC AV', '200 Block of STAPLES AV', '2600 Block of CALIFORNIA ST', '1200 Block of CAPITOL AV', '0 Block of LATONA ST', '100 Block of CENTRAL AV', 'CONNECTICUT ST / 25TH ST', '100 Block of TUCKER AV', '1700 Block of OAKDALE AV', '1500 Block of 26TH AV', '2300 Block of JONES ST', '0 Block of MELROSE AV', '800 Block of ELLSWORTH ST', '100 Block of GARRISON AV', 'POLK ST / HAYES ST', '0 Block of GEORGE CT', '0 Block of LAPIDGE ST', '200 Block of CAPP ST', 'SILLIMAN ST / GIRARD ST', '1800 Block of FELTON ST', '0 Block of SHOTWELL ST', '900 Block of BATTERY ST', '1500 Block of CARROLL AV', '3600 Block of CESAR CHAVEZ ST', '1800 Block of 15TH ST', '200 Block of LILY ST', '400 Block of MISSISSIPPI ST', '2800 Block of CESAR CHAVEZ ST', 'FITZGERALD AV / HAWES ST', '4700 Block of BALBOA ST', 'GEARY BL / 25TH AV', '100 Block of HARTFORD ST', '1700 Block of LANE ST', '0 Block of HARE ST', 'WEBSTER ST / TURK ST', '0 Block of RESTANI WY', '3700 Block of MISSION ST', '100 Block of DWIGHT ST', '100 Block of CHATTANOOGA ST', '800 Block of MOSCOW ST', '1100 Block of LEAVENWORTH ST', '3000 Block of JENNINGS ST', '200 Block of ONEIDA AV', 'NEWMONTGOMERY ST / MISSION ST', '100 Block of 27TH ST', '900 Block of TREAT AV', 'OCEAN AV / ALEMANY BL', '200 Block of MIDDLEPOINT RD', '700 Block of GOETTINGEN ST', '300 Block of RITCH ST', '100 Block of CUVIER ST', '1500 Block of QUESADA AV', '400 Block of LAGRANDE AV', '100 Block of RALSTON ST', '300 Block of 23RD AV', '1400 Block of 25TH ST', '600 Block of POTRERO AV', '800 Block of LAWTON ST', '300 Block of 24TH AV', '200 Block of HAIGHT ST', 'QUESADA AV / KEITH ST', '2600 Block of PINE ST', '11TH ST / DIVISION ST', '500 Block of CLARENDON AV', '0 Block of HENRY ST', '1000 Block of MASONIC AV', '1200 Block of EDDY ST', '1200 Block of FLORIDA ST', '1300 Block of OAKDALE AV', '600 Block of PRENTISS ST', '0 Block of BEATRICE LN', 'LOMBARD ST / POLK ST', '9TH ST / JESSIE ST', '600 Block of HAIGHT ST', 'INGALLS ST / BANCROFT AV', '400 Block of CAPITOL AV', '500 Block of CORTLAND AV', '1100 Block of WISCONSIN ST', '200 Block of BRAZIL AV', '0 Block of THOMASMORE WY', '2000 Block of PALOU AV', '1200 Block of EGBERT AV', '100 Block of ALBATROSS CT', '300 Block of NEWHALL ST', '1600 Block of JENNINGS ST', '100 Block of DOUGLASS ST', '100 Block of SWEENY ST', '2900 Block of 18TH ST', '600 Block of GILMAN AV', 'FULTON ST / 30TH AV', 'LINCOLN WY / 24TH AV', '400 Block of VIDAL DR', 'CHURCH ST / HERMANN ST', '400 Block of DEWEY BL', '0 Block of COMMER CT', '1000 Block of PERSIA AV', 'NATOMA ST / 5TH ST', '1400 Block of 17TH ST', 'BOSWORTH ST / ELK ST', '500 Block of MADRID ST', '1200 Block of VANDYKE AV', '2100 Block of POWELL ST', '600 Block of FONT BL', '700 Block of FUNSTON AV', '500 Block of ARGONAUT AV', '400 Block of WOOLSEY ST', '5900 Block of GEARY BL', '500 Block of JAMESTOWN AV', '2000 Block of OAKDALE AV', '1100 Block of THOMAS AV', '1200 Block of FAIRFAX AV', '1300 Block of GRIFFITH ST', '5TH ST / SHIPLEY ST', '0 Block of CHENERY ST', '100 Block of FLOOD AV', 'FAIRFAX AV / MENDELL ST', 'QUINT ST / JERROLD AV', 'SENECA AV / CAYUGA AV', 'DOLORES ST / CUMBERLAND ST', 'SUNNYDALE AV / PERSIA AV', '3200 Block of CLAY ST', 'VALLEJO ST / POLK ST', '2700 Block of JACKSON ST', '1400 Block of DONNER AV', '24TH ST / MICHIGAN ST', 'CAPITOL AV / THRIFT ST', '900 Block of NEWHALL ST', '0 Block of DIAMOND ST', '1300 Block of 26TH AV', '2000 Block of 42ND AV', 'ILLINOIS ST / 25TH ST', '1700 Block of ALABAMA ST', '0 Block of OLIVER ST', '3300 Block of 25TH ST', '900 Block of HUDSON AV', '100 Block of DOUBLEROCK ST', '4100 Block of 23RD ST', '1900 Block of JACKSON ST', '400 Block of 3RD AV', '1300 Block of QUESADA AV', '1100 Block of ALABAMA ST', '800 Block of INDIANA ST', '0 Block of MAJESTIC AV', '1200 Block of CHURCH ST', '1200 Block of FILBERT ST', '0 Block of SANANDREAS WY', '2700 Block of SCOTT ST', 'MANSELL ST / DARTMOUTH ST', '2100 Block of QUESADA AV', 'QUESADA AV / INGALLS ST', 'BANCROFT AV / JENNINGS ST', 'SANTIAGO ST / 41ST AV', '500 Block of CLAYTON ST', '1800 Block of BEACH ST', '100 Block of LANDERS ST', '1000 Block of DOUGLASS ST', '1000 Block of PAGE ST', '14TH ST / CASTRO ST', '2700 Block of CABRILLO ST', '3100 Block of MARKET ST', '0 Block of VALPARAISO ST', '1300 Block of EGBERT AV', '2100 Block of 22ND AV', '1100 Block of SHAFTER AV', '800 Block of HAMPSHIRE ST', '0 Block of BYXBEE ST', '200 Block of CARDENAS AV', '0 Block of LINCOLN WY', 'ELLSWORTH ST / ALEMANY BL', '1100 Block of GOLDEN GATE AV', '0 Block of MATTHEW CT', 'QUINT ST / NEWCOMB AV', 'FULTON ST / 37TH AV', '400 Block of BOSWORTH ST', '100 Block of SCOTIA AV', '300 Block of CRESTAVISTA DR', '1200 Block of WILLARD ST', '2800 Block of ALEMANY BL', 'NEWHALL ST / 3RD ST', 'CHESTNUT ST / BUCHANAN ST', '500 Block of LAKEVIEW AV', '1100 Block of SUNNYDALE AV', '1300 Block of CARROLL AV', '400 Block of HARRISON ST', 'GOLDEN GATE AV / BUCHANAN ST', '400 Block of LILY ST', '3800 Block of SAN BRUNO AV', '600 Block of SILVER AV', '700 Block of BURNETT AV', '14TH AV / FULTON ST', 'DIVISADERO ST / JACKSON ST', '1700 Block of ARMSTRONG AV', '800 Block of ASHBURY ST', '300 Block of HOWTH ST', '1100 Block of NEWHALL ST', '1800 Block of 32ND AV', '1200 Block of LANE ST', 'THOMAS AV / INGALLS ST', '0 Block of DASHIELL HAMMETT ST', '0 Block of JUNIOR TR', '100 Block of SWISS AV', '500 Block of 47TH AV', 'MENDELL ST / GALVEZ AV', '100 Block of GRANDVIEW AV', '100 Block of ANZAVISTA AV', '1300 Block of VALLEJO ST', '400 Block of EDNA ST', '48TH AV / JUDAH ST', '2000 Block of 3RD ST', '200 Block of ELMIRA ST', '2100 Block of FRANKLIN ST', '0 Block of ELLSWORTH ST', '0 Block of LOOMIS ST', 'GEARY BL / 34TH AV', '1700 Block of HYDE ST', 'JACKSON ST / FILLMORE ST', '800 Block of PRAGUE ST', '0 Block of PRENTISS ST', '0 Block of MYRTLE ST', 'JUDAH ST / 40TH AV', '900 Block of INDIANA ST', '4000 Block of BALBOA ST', '2100 Block of SCOTT ST', '1200 Block of ILLINOIS ST', '23RD ST / DAKOTA ST', 'SOMERSET ST / BACON ST', '0 Block of WAVERLY PL', '1400 Block of YOSEMITE AV', '1300 Block of SELBY ST', 'NEWCOMB AV / SELBY ST', '400 Block of PAUL AV', '1300 Block of BOWDOIN ST', '3900 Block of NORIEGA ST', '1600 Block of DIAMOND ST', '1500 Block of GALVEZ AV', '900 Block of LECONTE AV', '0 Block of PICO AV', '900 Block of LOMBARD ST', '800 Block of PIERCE ST', '700 Block of CLARENDON AV', '600 Block of 44TH AV', '1100 Block of CAYUGA AV', '22ND ST / INDIANA ST', 'OCTAVIA ST / FULTON ST', '1300 Block of QUINT ST', '700 Block of 6TH ST', '6700 Block of GEARY BL', '400 Block of MIDDLE DR', 'GRIFFITH ST / GILMAN AV', '0 Block of PLEASANT ST', '2700 Block of 36TH AV', '500 Block of DAVIS ST', '6600 Block of 3RD ST', 'ROSE ST / GOUGH ST', '2700 Block of FULTON ST', '1200 Block of POST ST', '2900 Block of 21ST AV', '1500 Block of GRIFFITH ST', '0 Block of INDUSTRIAL ST', 'BLYTHDALE AV / SANTOS ST', '100 Block of HUNTERSPTEXPWY EX', '1200 Block of GRIFFITH ST', '4400 Block of IRVING ST', 'LASALLE AV / EARL ST', '1100 Block of CLAYTON ST', 'RIVERA ST / 45TH AV', '4400 Block of FULTON ST', '1300 Block of DONNER AV', '100 Block of ROSE ST', '9TH AV / LAKE ST', '900 Block of PERALTA AV', '700 Block of PRESIDIO AV', '1500 Block of FRANCISCO ST', 'JAMESTOWN AV / GILROY ST', 'CAROLINA ST / 15TH ST', '100 Block of OMAR WY', '3000 Block of 23RD AV', 'FERN ST / FRANKLIN ST', '600 Block of ALEMANY BL', 'EDWARD ST / ARGUELLO BL', '200 Block of ALPHA ST', '700 Block of FITCH ST', '1000 Block of MANSELL ST', '1000 Block of BUCHANAN ST', '43RD AV / JUDAH ST', '0 Block of STEUART ST', 'BROADWAY ST / SANSOME ST', '1000 Block of 26TH ST', '700 Block of MANSELL ST', '3000 Block of ANZA ST', '3500 Block of JENNINGS ST', '2600 Block of INGALLS ST', 'GRIFFITH ST / PALOU AV', 'VISITACION AV / BRITTON ST', '500 Block of MOSCOW ST', '500 Block of RAYMOND AV', '900 Block of IOWA ST', 'NEWCOMB AV / BARNEVELD AV', '0 Block of BOUTWELL ST', '800 Block of GILMAN AV', '1100 Block of IOWA ST', '1200 Block of CARROLL AV', 'ANZA ST / 6TH AV', '500 Block of GONZALEZ DR', 'BARNEVELD AV / OAKDALE AV', '1200 Block of KANSAS ST', '2400 Block of NEWCOMB AV', '400 Block of MARIPOSA ST', 'LOCKSLEY AV / WARREN DR', '400 Block of AVALON AV', '700 Block of INGERSON AV', '1300 Block of 22ND ST', '900 Block of WAWONA ST', 'IRVING ST / 37TH AV', '0 Block of SALINAS AV', '0 Block of BERKSHIRE WY', '1200 Block of QUINT ST', '300 Block of BAYVIEW RD', '300 Block of TUNNEL AV', '2900 Block of WAWONA ST', 'MUNICH ST / ROLPH ST', '1100 Block of MANSELL ST', '2700 Block of VALLEJO ST', 'GIANTS DR / INGERSON AV', '400 Block of MENDELL ST', '1000 Block of SELBY ST', 'BALBOA ST / 21ST AV', '2600 Block of WEBSTER ST', '500 Block of 19TH ST', '3300 Block of KEITH ST', '0 Block of EXECUTIVEPARK BL', '800 Block of FITCH ST', '1500 Block of VICENTE ST', '700 Block of 25TH ST', '24TH ST / TENNESSEE ST', 'AVALON AV / EDINBURGH ST', 'DONNER AV / JENNINGS ST', 'RANKIN ST / CUSTER AV', 'MCKINNON AV / SELBY ST', '200 Block of SAN CARLOS ST', '500 Block of JOHN F KENNEDY DR', '200 Block of I-80', '400 Block of VAN NESS AV', '1300 Block of VAN NESS AV', '5200 Block of DIAMOND HEIGHTS BL', '2700 Block of VAN NESS AV', 'JOHN F SHELLEY DR / CAMBRIDGE ST', '300 Block of DE HARO ST', '800 Block of VAN NESS AV', 'JOHN MUIR DR / LAKE MERCED BL', '1400 Block of LA SALLE AV', '200 Block of JOHN F SHELLEY DR', '1600 Block of NORTH POINT ST', '2100 Block of NORTH POINT ST', '2100 Block of MC KINNON AV', '2100 Block of NEWCOMB AV', '0 Block of THOMAS MORE WY', '0 Block of HUNTERS PT EXPWY EX']\n"
     ]
    }
   ],
   "source": [
    "def CrimeStat ():\n",
    "\n",
    "   import os\n",
    "   import pandas\n",
    "\n",
    "   dataFilePath = \"C:\\\\Users\\\\sures\\\\PycharmProjects\\\\SP19\\\\SP19_MLPy\\\\Resources\\\\crimeData.csv\"\n",
    "   data = pandas.read_csv(dataFilePath)  # Read the csv file and create a data frame\n",
    "\n",
    "\n",
    "   crime = input('Please enter crime type : ')\n",
    "   subset_crime = data[crime]\n",
    "   mean_crime = round(subset_crime.mean(),2)\n",
    "   print(\"Mean of\", crime, \":\", mean_crime)\n",
    "\n",
    "   Higher_than_average = data[subset_crime > mean_crime]\n",
    "   subset_higher = Higher_than_average[[\"Address\", crime]]\n",
    "   Address_list = subset_higher[\"Address\"].tolist()\n",
    "   print(\"List of addresses where\", crime, \"is higher than average : \", Address_list)\n",
    "\n",
    "CrimeStat()"
   ]
  },
  {
   "cell_type": "code",
   "execution_count": null,
   "metadata": {},
   "outputs": [],
   "source": [
    "# Question 6"
   ]
  },
  {
   "cell_type": "code",
   "execution_count": 6,
   "metadata": {},
   "outputs": [
    {
     "name": "stdout",
     "output_type": "stream",
     "text": [
      "Enter start time in format hour:minute:second (eg: 10:55:00): 10:55:00\n",
      "Enter end time in format hour:minute:second (eg 18:55:00: 18:55:00\n",
      "The list of crimes during the entered time interval sorted descending is:                         Time  Descript  Unnamed: 3\n",
      "Category                                          \n",
      "LARCENY/THEFT            273       273           0\n",
      "NON-CRIMINAL             271       271           0\n",
      "OTHER OFFENSES           238       238           0\n",
      "ASSAULT                  115       115           0\n",
      "BURGLARY                 114       114           0\n",
      "MISSING PERSON            89        89           0\n",
      "WARRANTS                  76        76           0\n",
      "VEHICLE THEFT             71        71           0\n",
      "VANDALISM                 65        65           0\n",
      "DRUG/NARCOTIC             57        57           0\n",
      "SUSPICIOUS OCC            57        57           0\n",
      "FRAUD                     33        33           0\n",
      "ROBBERY                   29        29           0\n",
      "SECONDARY CODES           24        24           0\n",
      "TRESPASS                  21        21           0\n",
      "WEAPON LAWS               15        15           0\n",
      "DISORDERLY CONDUCT        11        11           0\n",
      "DRUNKENNESS               10        10           0\n",
      "KIDNAPPING                 9         9           0\n",
      "SEX OFFENSES FORCIBLE      8         8           0\n",
      "STOLEN PROPERTY            8         8           0\n",
      "FORGERY/COUNTERFEITING     6         6           0\n",
      "RUNAWAY                    5         5           0\n",
      "FAMILY OFFENSES            2         2           0\n",
      "EMBEZZLEMENT               2         2           0\n",
      "ARSON                      2         2           0\n",
      "LOITERING                  1         1           0\n",
      "LIQUOR LAWS                1         1           0\n",
      "PROSTITUTION               1         1           0\n",
      "RECOVERED VEHICLE          1         1           0\n",
      "SUICIDE                    1         1           0\n",
      "EXTORTION                  1         1           0\n"
     ]
    }
   ],
   "source": [
    "def time_filter ():\n",
    "    start_time = str(input('Enter start time in format hour:minute:second (eg: 10:55:00): '))\n",
    "    end_time = str(input('Enter end time in format hour:minute:second (eg 18:55:00: '))\n",
    "\n",
    "    import os\n",
    "    import pandas as pd\n",
    "    import datetime\n",
    "    import numpy as np\n",
    "\n",
    "    dataFilePath = \"C:\\\\Users\\\\sures\\\\PycharmProjects\\\\SP19\\\\SP19_MLPy\\\\Resources\\\\timeData3.csv\"\n",
    "    data = pd.read_csv(dataFilePath, low_memory=False)  # Read the csv file and create a data frame\n",
    "\n",
    "\n",
    "    data_filtered = (data[(data.Time > start_time) & (data.Time < end_time)])\n",
    "    data_grouped = data_filtered.groupby('Category').count()\n",
    "    data_sorted = data_grouped.sort_values(by=['Descript'], ascending=False)\n",
    "    print(\"The list of crimes during the entered time interval sorted descending is:\", data_sorted)\n",
    "\n",
    "time_filter()\n"
   ]
  }
 ],
 "metadata": {
  "kernelspec": {
   "display_name": "Python 3",
   "language": "python",
   "name": "python3"
  },
  "language_info": {
   "codemirror_mode": {
    "name": "ipython",
    "version": 3
   },
   "file_extension": ".py",
   "mimetype": "text/x-python",
   "name": "python",
   "nbconvert_exporter": "python",
   "pygments_lexer": "ipython3",
   "version": "3.7.0"
  }
 },
 "nbformat": 4,
 "nbformat_minor": 2
}
