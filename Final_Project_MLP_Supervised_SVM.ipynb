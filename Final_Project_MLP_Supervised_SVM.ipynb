{
 "cells": [
  {
   "cell_type": "code",
   "execution_count": 24,
   "metadata": {},
   "outputs": [],
   "source": [
    "import pandas as pd\n",
    "import math\n",
    "import matplotlib.pyplot as plt\n",
    "from sklearn import svm"
   ]
  },
  {
   "cell_type": "code",
   "execution_count": 25,
   "metadata": {},
   "outputs": [],
   "source": [
    "#reading data\n",
    "adult_raw = pd.read_csv(\"C:\\\\Users\\\\sures\\\\OneDrive\\\\Documents\\\\Adult_UCI.csv\")\n",
    "\n",
    "#turning  as categorical and numerical\n",
    "\n",
    "adult_raw['Work_class'] = adult_raw['Work_class'].astype('category')\n",
    "adult_raw['Work_class'] = adult_raw['Work_class'].cat.codes\n",
    "\n",
    "adult_raw['Education'] = adult_raw['Education'].astype('category')\n",
    "adult_raw['Education'] = adult_raw['Education'].cat.codes\n",
    "\n",
    "adult_raw['Marital_status'] = adult_raw['Marital_status'].astype('category')\n",
    "adult_raw['Marital_status'] = adult_raw['Marital_status'].cat.codes\n",
    "\n",
    "adult_raw['Occupation'] = adult_raw['Occupation'].astype('category')\n",
    "adult_raw['Occupation'] = adult_raw['Occupation'].cat.codes\n",
    "\n",
    "adult_raw['Relationship'] = adult_raw['Relationship'].astype('category')\n",
    "adult_raw['Relationship'] = adult_raw['Relationship'].cat.codes\n",
    "\n",
    "adult_raw['Race'] = adult_raw['Race'].astype('category')\n",
    "adult_raw['Race'] = adult_raw['Race'].cat.codes\n",
    "\n",
    "adult_raw['Sex'] = adult_raw['Sex'].astype('category')\n",
    "adult_raw['Sex'] = adult_raw['Sex'].cat.codes\n",
    "\n",
    "adult_raw['Native_country'] = adult_raw['Native_country'].astype('category')\n",
    "adult_raw['Native_country'] = adult_raw['Native_country'].cat.codes\n",
    "\n",
    "adult_raw['Class'] = adult_raw['Class'].astype('category')\n",
    "adult_raw['Class'] = adult_raw['Class'].cat.codes\n"
   ]
  },
  {
   "cell_type": "code",
   "execution_count": 26,
   "metadata": {},
   "outputs": [
    {
     "name": "stdout",
     "output_type": "stream",
     "text": [
      "Accuracy Training rbf: 99.99336913997745 %\n",
      "Accuracy Test rbf: 74.96187255487037 %\n"
     ]
    }
   ],
   "source": [
    "adult_raw = adult_raw.sample(frac=1)\n",
    "adult_training = adult_raw.iloc[0:int(adult_raw.shape[0]/2),]\n",
    "adult_test = adult_raw.iloc[int(adult_raw.shape[0]/2):,]\n",
    "\n",
    "\n",
    "adult_X_training = adult_training.iloc[:, :14]\n",
    "adult_Y_training = adult_training.iloc[:, 14:15]\n",
    "\n",
    "adult_X_test = adult_test.iloc[:, :14]\n",
    "adult_Y_test = adult_test.iloc[:, 14:15]\n",
    "    \n",
    "\n",
    "rbf_svc = svm.SVC(kernel='rbf', gamma=20, C=1).fit(adult_X_training, adult_Y_training.values.ravel())\n",
    "y_train_predict_rbf_svc = [rbf_svc.predict(adult_X_training)]\n",
    "y_test_predict_rbf_svc = [rbf_svc.predict(adult_X_test)]\n",
    "\n",
    "\n",
    "comparison_list_training_rbf= (y_train_predict_rbf_svc == adult_Y_training).values.T.tolist()\n",
    "accuracy_training_rbf = sum(comparison_list_training_rbf[0])/adult_Y_training.shape[0]\n",
    "print(\"Accuracy Training rbf:\", accuracy_training_rbf*100, \"%\")\n",
    "\n",
    "\n",
    "comparison_list_test_rbf= (y_test_predict_rbf_svc == adult_Y_test).values.T.tolist()\n",
    "accuracy_test_rbf = sum(comparison_list_test_rbf[0])/adult_Y_test.shape[0]\n",
    "print(\"Accuracy Test rbf:\", accuracy_test_rbf*100, \"%\")\n",
    "\n"
   ]
  },
  {
   "cell_type": "code",
   "execution_count": null,
   "metadata": {},
   "outputs": [],
   "source": []
  }
 ],
 "metadata": {
  "kernelspec": {
   "display_name": "Python 3",
   "language": "python",
   "name": "python3"
  },
  "language_info": {
   "codemirror_mode": {
    "name": "ipython",
    "version": 3
   },
   "file_extension": ".py",
   "mimetype": "text/x-python",
   "name": "python",
   "nbconvert_exporter": "python",
   "pygments_lexer": "ipython3",
   "version": "3.7.0"
  }
 },
 "nbformat": 4,
 "nbformat_minor": 2
}
