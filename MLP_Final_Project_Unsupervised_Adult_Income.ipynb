{
 "cells": [
  {
   "cell_type": "code",
   "execution_count": 196,
   "metadata": {},
   "outputs": [],
   "source": [
    "import pandas as pd\n",
    "import matplotlib.pyplot as plt\n",
    "from sklearn.cluster import KMeans"
   ]
  },
  {
   "cell_type": "code",
   "execution_count": 197,
   "metadata": {},
   "outputs": [],
   "source": [
    "#reading data\n",
    "#https://archive.ics.uci.edu/ml/datasets/Adult\n",
    "\n",
    "adult_raw = pd.read_csv(\"C:\\\\Users\\\\sures\\\\OneDrive\\\\Documents\\\\Adult_UCI.csv\")\n",
    "\n",
    "#turning  as categorical and numerical\n",
    "\n",
    "adult_raw['Work_class'] = adult_raw['Work_class'].astype('category')\n",
    "adult_raw['Work_class'] = adult_raw['Work_class'].cat.codes\n",
    "\n",
    "adult_raw['Education'] = adult_raw['Education'].astype('category')\n",
    "adult_raw['Education'] = adult_raw['Education'].cat.codes\n",
    "\n",
    "adult_raw['Marital_status'] = adult_raw['Marital_status'].astype('category')\n",
    "adult_raw['Marital_status'] = adult_raw['Marital_status'].cat.codes\n",
    "\n",
    "adult_raw['Occupation'] = adult_raw['Occupation'].astype('category')\n",
    "adult_raw['Occupation'] = adult_raw['Occupation'].cat.codes\n",
    "\n",
    "adult_raw['Relationship'] = adult_raw['Relationship'].astype('category')\n",
    "adult_raw['Relationship'] = adult_raw['Relationship'].cat.codes\n",
    "\n",
    "adult_raw['Race'] = adult_raw['Race'].astype('category')\n",
    "adult_raw['Race'] = adult_raw['Race'].cat.codes\n",
    "\n",
    "adult_raw['Sex'] = adult_raw['Sex'].astype('category')\n",
    "adult_raw['Sex'] = adult_raw['Sex'].cat.codes\n",
    "\n",
    "adult_raw['Native_country'] = adult_raw['Native_country'].astype('category')\n",
    "adult_raw['Native_country'] = adult_raw['Native_country'].cat.codes\n",
    "\n",
    "adult_raw['Class'] = adult_raw['Class'].astype('category')\n",
    "adult_raw['Class'] = adult_raw['Class'].cat.codes\n"
   ]
  },
  {
   "cell_type": "code",
   "execution_count": 198,
   "metadata": {},
   "outputs": [],
   "source": [
    "kmeans = KMeans(n_clusters=2, init='k-means++', n_init=10, max_iter=300, tol=0.001,precompute_distances='auto', verbose=0, random_state=None, copy_x=True, n_jobs=None, algorithm='auto')"
   ]
  },
  {
   "cell_type": "code",
   "execution_count": 199,
   "metadata": {},
   "outputs": [
    {
     "data": {
      "text/plain": [
       "KMeans(algorithm='auto', copy_x=True, init='k-means++', max_iter=300,\n",
       "    n_clusters=2, n_init=10, n_jobs=None, precompute_distances='auto',\n",
       "    random_state=None, tol=0.001, verbose=0)"
      ]
     },
     "execution_count": 199,
     "metadata": {},
     "output_type": "execute_result"
    }
   ],
   "source": [
    "kmeans.fit(adult_raw)"
   ]
  },
  {
   "cell_type": "code",
   "execution_count": 200,
   "metadata": {},
   "outputs": [],
   "source": [
    "y_kmeans = kmeans.predict(adult_raw)"
   ]
  },
  {
   "cell_type": "code",
   "execution_count": 201,
   "metadata": {},
   "outputs": [
    {
     "name": "stdout",
     "output_type": "stream",
     "text": [
      "Accuracy Test: 61.25588488827 %\n"
     ]
    }
   ],
   "source": [
    "predicted_values = []\n",
    "accuracy_accumulation_test = []\n",
    "predicted_values.append(y_kmeans)\n",
    "Y_true = adult_raw.iloc[:, 14:15]\n",
    "comparison_list_test = (Y_true == predicted_values).values.T.tolist()\n",
    "accuracy_test = sum(comparison_list_test[0])/adult_raw.shape[0]\n",
    "print(\"Accuracy Test:\", accuracy_test*100, \"%\")\n",
    "accuracy_accumulation_test.append(accuracy_test)"
   ]
  },
  {
   "cell_type": "code",
   "execution_count": null,
   "metadata": {},
   "outputs": [],
   "source": []
  },
  {
   "cell_type": "code",
   "execution_count": null,
   "metadata": {},
   "outputs": [],
   "source": []
  }
 ],
 "metadata": {
  "kernelspec": {
   "display_name": "Python 3",
   "language": "python",
   "name": "python3"
  },
  "language_info": {
   "codemirror_mode": {
    "name": "ipython",
    "version": 3
   },
   "file_extension": ".py",
   "mimetype": "text/x-python",
   "name": "python",
   "nbconvert_exporter": "python",
   "pygments_lexer": "ipython3",
   "version": "3.7.0"
  }
 },
 "nbformat": 4,
 "nbformat_minor": 2
}
