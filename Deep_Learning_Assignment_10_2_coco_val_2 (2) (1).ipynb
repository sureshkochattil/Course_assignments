{
 "cells": [
  {
   "cell_type": "code",
   "execution_count": 48,
   "metadata": {},
   "outputs": [],
   "source": [
    "import numpy as np\n",
    "W= np.load(\"W_coco_val_newer.npy\")\n",
    "id2word =[w.strip() for w in open(\"coco_val_newer.txt\")]\n",
    "word2id = {w:i for i,w in enumerate(id2word)}"
   ]
  },
  {
   "cell_type": "code",
   "execution_count": 49,
   "metadata": {},
   "outputs": [
    {
     "data": {
      "text/plain": [
       "array([[-0.11776736, -0.02214624,  0.25439596, ...,  0.17768185,\n",
       "        -0.94560534,  0.7690013 ],\n",
       "       [ 0.18271548,  0.15488063,  0.19089527, ..., -0.19574301,\n",
       "         0.5605203 ,  1.0901375 ],\n",
       "       [ 0.20374803, -0.03974609, -0.45830786, ...,  0.7548938 ,\n",
       "         0.47588712, -0.02808652],\n",
       "       ...,\n",
       "       [-0.26966155,  0.64500356,  1.0570655 , ...,  0.5889324 ,\n",
       "        -0.30192262,  0.28903794],\n",
       "       [-0.28609926, -0.17132397, -0.10276785, ...,  0.6116154 ,\n",
       "         0.29895425,  0.29451463],\n",
       "       [ 0.31538153,  0.9849304 ,  1.8993207 , ...,  1.1043595 ,\n",
       "         0.13660835,  0.9297342 ]], dtype=float32)"
      ]
     },
     "execution_count": 49,
     "metadata": {},
     "output_type": "execute_result"
    }
   ],
   "source": [
    "W"
   ]
  },
  {
   "cell_type": "code",
   "execution_count": 50,
   "metadata": {},
   "outputs": [],
   "source": [
    "from sklearn.preprocessing import normalize\n",
    "W = normalize(W)"
   ]
  },
  {
   "cell_type": "code",
   "execution_count": 51,
   "metadata": {},
   "outputs": [],
   "source": [
    "def print_similar_words(word, topk = 10):\n",
    "    word_vec1 = W[word2id[word]]\n",
    "\n",
    "    sim = np.dot(W, word_vec1)\n",
    "    sim_idx = np.argsort(sim)[::-1]\n",
    "\n",
    "    for idx in sim_idx[1:topk+1]:\n",
    "        print(id2word[idx])"
   ]
  },
  {
   "cell_type": "code",
   "execution_count": 54,
   "metadata": {},
   "outputs": [
    {
     "name": "stdout",
     "output_type": "stream",
     "text": [
      "beer\n",
      "bottles\n",
      "nearly\n",
      "liquid\n",
      "glasses\n",
      "cups\n",
      "pocket\n",
      "speaking\n",
      "one\n",
      "facing\n"
     ]
    }
   ],
   "source": [
    "print_similar_words('wine')"
   ]
  },
  {
   "cell_type": "code",
   "execution_count": 55,
   "metadata": {},
   "outputs": [
    {
     "name": "stdout",
     "output_type": "stream",
     "text": [
      "men\n",
      "adults\n",
      "are\n",
      "guys\n",
      "children\n",
      "young\n",
      "people\n",
      "girls\n",
      "ladies\n",
      "friends\n"
     ]
    }
   ],
   "source": [
    "print_similar_words('women')"
   ]
  },
  {
   "cell_type": "code",
   "execution_count": 56,
   "metadata": {},
   "outputs": [
    {
     "name": "stdout",
     "output_type": "stream",
     "text": [
      "yellow\n",
      "purple\n",
      "white\n",
      "pink\n",
      "black\n",
      "blue\n",
      "orange\n",
      "gold\n",
      "green\n",
      "grey\n"
     ]
    }
   ],
   "source": [
    "print_similar_words('red')"
   ]
  },
  {
   "cell_type": "code",
   "execution_count": 57,
   "metadata": {},
   "outputs": [
    {
     "name": "stdout",
     "output_type": "stream",
     "text": [
      "bar\n",
      "counter\n",
      "desk\n",
      "tables\n",
      "stove\n",
      "dining\n",
      "cart\n",
      "surface\n",
      "street\n",
      "long\n"
     ]
    }
   ],
   "source": [
    "print_similar_words('table')"
   ]
  },
  {
   "cell_type": "code",
   "execution_count": null,
   "metadata": {},
   "outputs": [],
   "source": []
  }
 ],
 "metadata": {
  "kernelspec": {
   "display_name": "Python 3",
   "language": "python",
   "name": "python3"
  },
  "language_info": {
   "codemirror_mode": {
    "name": "ipython",
    "version": 3
   },
   "file_extension": ".py",
   "mimetype": "text/x-python",
   "name": "python",
   "nbconvert_exporter": "python",
   "pygments_lexer": "ipython3",
   "version": "3.7.3"
  }
 },
 "nbformat": 4,
 "nbformat_minor": 2
}
