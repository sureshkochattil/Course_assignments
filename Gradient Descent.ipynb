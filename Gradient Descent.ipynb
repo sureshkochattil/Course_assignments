{
 "cells": [
  {
   "cell_type": "markdown",
   "metadata": {},
   "source": [
    "# Stochastic Gradient Descent Using Linear Regression and the HealthInCities Dataset"
   ]
  },
  {
   "cell_type": "markdown",
   "metadata": {},
   "source": [
    "### Importing/Preparing Data"
   ]
  },
  {
   "cell_type": "code",
   "execution_count": 205,
   "metadata": {},
   "outputs": [],
   "source": [
    "import pandas as pd\n",
    "import numpy as np\n",
    "import random\n",
    "\n",
    "health_cities_raw = pd.read_csv(\"HealthInCities.csv\")\n",
    "\n",
    "#Standardize data\n",
    "for column in health_cities_raw:\n",
    "    col_mean = np.mean(health_cities_raw[column])\n",
    "    col_stdev = np.std(health_cities_raw[column])\n",
    "    health_cities_raw[column] = (health_cities_raw[column] - col_mean)/col_stdev\n",
    "    \n",
    "#Adding a column of ones to generate an intercept feature i.e. y = mx + b, b will be the intercept\n",
    "health_cities_raw[\"normalized_ones\"] = 0\n",
    "\n",
    "#DeathRate = DoctorAvailability*w0 + Hospital Availability*w1 + ... + 1*w5\n",
    "\n",
    "training_data = health_cities_raw.sample(frac=0.5, replace=True)\n",
    "test_data = health_cities_raw.sample(frac=0.5, replace=True)\n",
    "\n",
    "#Selecting DeathRate as our Y dependent variable (as ndarray)\n",
    "Y_train = training_data.iloc[:, 0].values\n",
    "\n",
    "#Selecting the rest of the features, for now we just select the DoctorAvailability and normalized_ones \n",
    "#as our indepedent variables (as ndarray) for plotting purposes\n",
    "X_train = training_data[['DoctorAvailability','normalized_ones']].values\n",
    "\n",
    "#DeathRate = DoctorAvailability*w0 + w1\n",
    "#Test Data\n",
    "Y_test = test_data.iloc[:, 0].values\n",
    "X_test = test_data[['DoctorAvailability','normalized_ones']].values\n",
    "\n",
    "#Note: we use numpy ndarrays here because they allow us to do quick, efficient matrix computations in the gradient descent step\n"
   ]
  },
  {
   "cell_type": "markdown",
   "metadata": {},
   "source": [
    "### Gradient Descent  - Doctors Availability"
   ]
  },
  {
   "cell_type": "code",
   "execution_count": 184,
   "metadata": {},
   "outputs": [],
   "source": [
    "#Note that Linear Regression does have a closed form solution for w (meaning we can just solve for it\n",
    "#without having to iterate)\n",
    "#However, we want to show that almost any Machine Learning problem can be solved by Gradient Descent (iteration process)\n",
    "#Regardless of whether it has a closed form solution or not, but in practice we will use this if it does not have a\n",
    "#closed form solution or the closed form solution is too computationally demanding\n",
    "\n",
    "#Randomly generated weights for our Linear model\n",
    "w = np.array([random.random() for x in range(X_train.shape[1])])\n",
    "iter_error = 0\n",
    "error = 100000000000000\n",
    "tolerance = 0.00001\n",
    "iteration = 0\n",
    "samples = X_train.shape[0]\n",
    "epochs = 8\n",
    "\n",
    "for e in range(epochs):\n",
    "    \n",
    "    train_data_sample = training_data.sample(frac=0.5, replace=True)\n",
    "    X_train_sample = train_data_sample[['DoctorAvailability','normalized_ones']].values  \n",
    "    Y_train_sample = train_data_sample.iloc[:, 0].values\n",
    "\n",
    "    \n",
    "    while abs(iter_error - error) > tolerance:\n",
    "        iteration = iteration + 1\n",
    "        error = iter_error\n",
    "\n",
    "    \n",
    "    #w_errors = 1/n*(X^T * (X*w - Y))\n",
    "    #1/n used here to better select the step size (eta) by normalizing (X^T * (X*w - Y)) by the number of samples\n",
    "        w_errors = 1/samples*(np.dot(X_train_sample.transpose(), np.dot(X_train_sample , w) - Y_train_sample))\n",
    "        iter_error = sum([w**2 for w in w_errors])\n",
    "    \n",
    "    \n",
    "    #search for good eta value which decreases the error for this iteration (to guarantee convergence)\n",
    "        search_iter = 0\n",
    "        eta_error = iter_error\n",
    "        eta_rate = 0.00000000000000000000000000001\n",
    "        w_test = w\n",
    "        while eta_error >= iter_error:\n",
    "            seach_iter = search_iter + 1\n",
    "            eta_rate = eta_rate * 10\n",
    "            w_test = w_test - eta_rate*eta_error\n",
    "            eta_errors = 1/samples*(np.dot(X_train_sample.transpose(), np.dot(X_train_sample , w_test) - Y_train_sample))\n",
    "            eta_error = sum([w**2 for w in eta_errors])\n",
    "            if search_iter == 50:\n",
    "                print(\"takes too long to converge, reconsider your problem formulation\")\n",
    "                break\n",
    "    \n",
    "    #Gradient step: found optimal eta rate so now we step in that direction of w parameter convergence\n",
    "        w = w - eta_rate*w_errors\n",
    "\n",
    "    #percaution to not allow our algorithm to run forever\n",
    "        if iteration == 10000:\n",
    "            break"
   ]
  },
  {
   "cell_type": "markdown",
   "metadata": {},
   "source": [
    "### Plotting Results Against Training Set"
   ]
  },
  {
   "cell_type": "code",
   "execution_count": 185,
   "metadata": {},
   "outputs": [
    {
     "data": {
      "image/png": "[encoded data removed]",
      "text/plain": [
       "<Figure size 432x288 with 1 Axes>"
      ]
     },
     "metadata": {
      "needs_background": "light"
     },
     "output_type": "display_data"
    }
   ],
   "source": [
    "import matplotlib.pyplot as plt\n",
    "\n",
    "train_prediction = [sum(X_train_sample[i] * w) for i in range(X_train_sample.shape[0])]\n",
    "\n",
    "#Plotting our points and line of fit (model) \n",
    "plt.plot(train_data_sample['DoctorAvailability'], Y_train_sample, 'bo')\n",
    "plt.plot(train_data_sample['DoctorAvailability'], train_prediction, linewidth=2)\n",
    "plt.title(\"Doctor Availability vs. Death Rate and Line of Fit\")\n",
    "plt.xlabel(\"Doctor Availability\")\n",
    "plt.ylabel(\"Death Rate\")\n",
    "plt.show()"
   ]
  },
  {
   "cell_type": "markdown",
   "metadata": {},
   "source": [
    "### Plotting Results Against Test Set"
   ]
  },
  {
   "cell_type": "code",
   "execution_count": 186,
   "metadata": {},
   "outputs": [
    {
     "data": {
      "image/png": "[encoded data removed]",
      "text/plain": [
       "<Figure size 432x288 with 1 Axes>"
      ]
     },
     "metadata": {
      "needs_background": "light"
     },
     "output_type": "display_data"
    }
   ],
   "source": [
    "import matplotlib.pyplot as plt\n",
    "\n",
    "test_prediction = [sum(X_test[i] * w) for i in range(X_test.shape[0])]\n",
    "\n",
    "#Plotting our points and line of fit (model) \n",
    "plt.plot(test_data['DoctorAvailability'], Y_test, 'bo')\n",
    "plt.plot(test_data['DoctorAvailability'], test_prediction, linewidth=2)\n",
    "plt.title(\"Test Set: Doctor Availability vs. Death Rate and Line of Fit\")\n",
    "plt.xlabel(\"Doctor Availability\")\n",
    "plt.ylabel(\"Death Rate\")\n",
    "plt.show()"
   ]
  },
  {
   "cell_type": "code",
   "execution_count": 187,
   "metadata": {},
   "outputs": [
    {
     "name": "stdout",
     "output_type": "stream",
     "text": [
      "[0.44754277 0.24261776]\n"
     ]
    }
   ],
   "source": [
    "print(w)"
   ]
  },
  {
   "cell_type": "markdown",
   "metadata": {},
   "source": [
    "### Cross Validation Performance Results, no Regularization"
   ]
  },
  {
   "cell_type": "code",
   "execution_count": 188,
   "metadata": {},
   "outputs": [
    {
     "name": "stdout",
     "output_type": "stream",
     "text": [
      "Training sum of squared errors, no regularization: 7.74829804175851\n",
      "Test sum of squared errors, no regularization: 31.167583484776905\n"
     ]
    }
   ],
   "source": [
    "print(\"Training sum of squared errors, no regularization:\", sum([res**2 for res in Y_train_sample-train_prediction]))\n",
    "print(\"Test sum of squared errors, no regularization:\", sum([res**2 for res in Y_test-test_prediction]))"
   ]
  },
  {
   "cell_type": "code",
   "execution_count": 204,
   "metadata": {},
   "outputs": [],
   "source": [
    "#print(\"Interpretation : Using the Stochastic gradient method, we observe a lower sum of squared errors for both Training \n",
    "      #8% for stochastic as compared to 38% for vanilla and Test - 31% in stochastic as compared to 41% in vanilla). The weights \n",
    "      #for vanilla are 0.825 and .066 and for stochastic are 0.45 and 0.24\")\n",
    "     "
   ]
  },
  {
   "cell_type": "markdown",
   "metadata": {},
   "source": [
    "### Stochastic Gradient Descent  -  HospitalAvailability"
   ]
  },
  {
   "cell_type": "code",
   "execution_count": 189,
   "metadata": {},
   "outputs": [],
   "source": [
    "import pandas as pd\n",
    "import numpy as np\n",
    "import random\n",
    "\n",
    "health_cities_raw = pd.read_csv(\"HealthInCities.csv\")\n",
    "#Standardize data\n",
    "for column in health_cities_raw:\n",
    "    col_mean = np.mean(health_cities_raw[column])\n",
    "    col_stdev = np.std(health_cities_raw[column])\n",
    "    health_cities_raw[column] = (health_cities_raw[column] - col_mean)/col_stdev\n",
    "    \n",
    "#Adding a column of ones to generate an intercept feature i.e. y = mx + b, b will be the intercept\n",
    "health_cities_raw[\"normalized_ones\"] = 0\n",
    "\n",
    "#DeathRate = DoctorAvailability*w0 + Hospital Availability*w1 + ... + 1*w5\n",
    "\n",
    "training_data = health_cities_raw.sample(frac=0.5, replace=True)\n",
    "test_data = health_cities_raw.sample(frac=0.5, replace=True)\n",
    "\n",
    "#Selecting DeathRate as our Y dependent variable (as ndarray)\n",
    "Y_train = training_data.iloc[:, 0].values\n",
    "\n",
    "#Selecting the rest of the features, for now we just select the DoctorAvailability and normalized_ones \n",
    "#as our indepedent variables (as ndarray) for plotting purposes\n",
    "X_train = training_data[['HospitalAvailability','normalized_ones']].values\n",
    "\n",
    "#DeathRate = DoctorAvailability*w0 + w1\n",
    "#Test Data\n",
    "Y_test = test_data.iloc[:, 0].values\n",
    "X_test = test_data[['HospitalAvailability','normalized_ones']].values\n",
    "\n",
    "#Note: we use numpy ndarrays here because they allow us to do quick, efficient matrix computations in the gradient descent step\n"
   ]
  },
  {
   "cell_type": "code",
   "execution_count": 190,
   "metadata": {},
   "outputs": [],
   "source": [
    "#Note that Linear Regression does have a closed form solution for w (meaning we can just solve for it\n",
    "#without having to iterate)\n",
    "#However, we want to show that almost any Machine Learning problem can be solved by Gradient Descent (iteration process)\n",
    "#Regardless of whether it has a closed form solution or not, but in practice we will use this if it does not have a\n",
    "#closed form solution or the closed form solution is too computationally demanding\n",
    "\n",
    "#Randomly generated weights for our Linear model\n",
    "w = np.array([random.random() for x in range(X_train.shape[1])])\n",
    "iter_error = 0\n",
    "error = 100000000000000\n",
    "tolerance = 0.00001\n",
    "iteration = 0\n",
    "samples = X_train.shape[0]\n",
    "epochs = 8\n",
    "\n",
    "for e in range(epochs):\n",
    "    \n",
    "    train_data_sample = training_data.sample(frac=0.5, replace=True)\n",
    "    X_train_sample = train_data_sample[['HospitalAvailability','normalized_ones']].values  \n",
    "    Y_train_sample = train_data_sample.iloc[:, 0].values\n",
    "\n",
    "    \n",
    "    while abs(iter_error - error) > tolerance:\n",
    "        iteration = iteration + 1\n",
    "        error = iter_error\n",
    "\n",
    "    \n",
    "    #w_errors = 1/n*(X^T * (X*w - Y))\n",
    "    #1/n used here to better select the step size (eta) by normalizing (X^T * (X*w - Y)) by the number of samples\n",
    "        w_errors = 1/samples*(np.dot(X_train_sample.transpose(), np.dot(X_train_sample , w) - Y_train_sample))\n",
    "        iter_error = sum([w**2 for w in w_errors])\n",
    "    \n",
    "    \n",
    "    #search for good eta value which decreases the error for this iteration (to guarantee convergence)\n",
    "        search_iter = 0\n",
    "        eta_error = iter_error\n",
    "        eta_rate = 0.00000000000000000000000000001\n",
    "        w_test = w\n",
    "        while eta_error >= iter_error:\n",
    "            seach_iter = search_iter + 1\n",
    "            eta_rate = eta_rate * 10\n",
    "            w_test = w_test - eta_rate*eta_error\n",
    "            eta_errors = 1/samples*(np.dot(X_train_sample.transpose(), np.dot(X_train_sample , w_test) - Y_train_sample))\n",
    "            eta_error = sum([w**2 for w in eta_errors])\n",
    "            if search_iter == 50:\n",
    "                print(\"takes too long to converge, reconsider your problem formulation\")\n",
    "                break\n",
    "    \n",
    "    #Gradient step: found optimal eta rate so now we step in that direction of w parameter convergence\n",
    "        w = w - eta_rate*w_errors\n",
    "\n",
    "    #percaution to not allow our algorithm to run forever\n",
    "        if iteration == 10000:\n",
    "            break"
   ]
  },
  {
   "cell_type": "code",
   "execution_count": 191,
   "metadata": {},
   "outputs": [
    {
     "data": {
      "image/png": "[encoded data removed]",
      "text/plain": [
       "<Figure size 432x288 with 1 Axes>"
      ]
     },
     "metadata": {
      "needs_background": "light"
     },
     "output_type": "display_data"
    }
   ],
   "source": [
    "import matplotlib.pyplot as plt\n",
    "\n",
    "train_prediction = [sum(X_train_sample[i] * w) for i in range(X_train_sample.shape[0])]\n",
    "\n",
    "#Plotting our points and line of fit (model) \n",
    "plt.plot(train_data_sample['HospitalAvailability'], Y_train_sample, 'bo')\n",
    "plt.plot(train_data_sample['HospitalAvailability'], train_prediction, linewidth=2)\n",
    "plt.title(\"Hospital Availability vs. Death Rate and Line of Fit\")\n",
    "plt.xlabel(\"Hospital Availability\")\n",
    "plt.ylabel(\"Death Rate\")\n",
    "plt.show()"
   ]
  },
  {
   "cell_type": "markdown",
   "metadata": {},
   "source": []
  },
  {
   "cell_type": "code",
   "execution_count": 192,
   "metadata": {},
   "outputs": [
    {
     "data": {
      "image/png": "[encoded data removed]",
      "text/plain": [
       "<Figure size 432x288 with 1 Axes>"
      ]
     },
     "metadata": {
      "needs_background": "light"
     },
     "output_type": "display_data"
    }
   ],
   "source": [
    "import matplotlib.pyplot as plt\n",
    "\n",
    "test_prediction = [sum(X_test[i] * w) for i in range(X_test.shape[0])]\n",
    "\n",
    "#Plotting our points and line of fit (model) \n",
    "plt.plot(test_data['HospitalAvailability'], Y_test, 'bo')\n",
    "plt.plot(test_data['HospitalAvailability'], test_prediction, linewidth=2)\n",
    "plt.title(\"Test Set: Hospital Availability vs. Death Rate and Line of Fit\")\n",
    "plt.xlabel(\"Hospital Availability\")\n",
    "plt.ylabel(\"Death Rate\")\n",
    "plt.show()"
   ]
  },
  {
   "cell_type": "code",
   "execution_count": 193,
   "metadata": {},
   "outputs": [
    {
     "name": "stdout",
     "output_type": "stream",
     "text": [
      "[0.64121754 0.29353222]\n"
     ]
    }
   ],
   "source": [
    "print(w)"
   ]
  },
  {
   "cell_type": "code",
   "execution_count": 194,
   "metadata": {},
   "outputs": [
    {
     "name": "stdout",
     "output_type": "stream",
     "text": [
      "Training sum of squared errors, no regularization: 24.87931374132098\n",
      "Test sum of squared errors, no regularization: 33.48894593187492\n"
     ]
    }
   ],
   "source": [
    "print(\"Training sum of squared errors, no regularization:\", sum([res**2 for res in Y_train_sample-train_prediction]))\n",
    "print(\"Test sum of squared errors, no regularization:\", sum([res**2 for res in Y_test-test_prediction]))"
   ]
  },
  {
   "cell_type": "code",
   "execution_count": null,
   "metadata": {},
   "outputs": [],
   "source": []
  },
  {
   "cell_type": "markdown",
   "metadata": {},
   "source": [
    "### Stochastic Gradient Descent  -  IncomePerCapita"
   ]
  },
  {
   "cell_type": "code",
   "execution_count": 195,
   "metadata": {},
   "outputs": [],
   "source": [
    "import pandas as pd\n",
    "import numpy as np\n",
    "import random\n",
    "\n",
    "health_cities_raw = pd.read_csv(\"HealthInCities.csv\")\n",
    "#Standardize data\n",
    "for column in health_cities_raw:\n",
    "    col_mean = np.mean(health_cities_raw[column])\n",
    "    col_stdev = np.std(health_cities_raw[column])\n",
    "    health_cities_raw[column] = (health_cities_raw[column] - col_mean)/col_stdev\n",
    "    \n",
    "#Adding a column of ones to generate an intercept feature i.e. y = mx + b, b will be the intercept\n",
    "health_cities_raw[\"normalized_ones\"] = 0\n",
    "\n",
    "#DeathRate = DoctorAvailability*w0 + Hospital Availability*w1 + ... + 1*w5\n",
    "\n",
    "training_data = health_cities_raw.sample(frac=0.5, replace=True)\n",
    "test_data = health_cities_raw.sample(frac=0.5, replace=True)\n",
    "\n",
    "#Selecting DeathRate as our Y dependent variable (as ndarray)\n",
    "Y_train = training_data.iloc[:, 0].values\n",
    "\n",
    "#Selecting the rest of the features, for now we just select the DoctorAvailability and normalized_ones \n",
    "#as our indepedent variables (as ndarray) for plotting purposes\n",
    "X_train = training_data[['IncomePerCapita','normalized_ones']].values\n",
    "\n",
    "#DeathRate = DoctorAvailability*w0 + w1\n",
    "#Test Data\n",
    "Y_test = test_data.iloc[:, 0].values\n",
    "X_test = test_data[['IncomePerCapita','normalized_ones']].values\n",
    "\n",
    "#Note: we use numpy ndarrays here because they allow us to do quick, efficient matrix computations in the gradient descent step\n"
   ]
  },
  {
   "cell_type": "code",
   "execution_count": 196,
   "metadata": {},
   "outputs": [],
   "source": [
    "#Note that Linear Regression does have a closed form solution for w (meaning we can just solve for it\n",
    "#without having to iterate)\n",
    "#However, we want to show that almost any Machine Learning problem can be solved by Gradient Descent (iteration process)\n",
    "#Regardless of whether it has a closed form solution or not, but in practice we will use this if it does not have a\n",
    "#closed form solution or the closed form solution is too computationally demanding\n",
    "\n",
    "#Randomly generated weights for our Linear model\n",
    "w = np.array([random.random() for x in range(X_train.shape[1])])\n",
    "iter_error = 0\n",
    "error = 100000000000000\n",
    "tolerance = 0.00001\n",
    "iteration = 0\n",
    "samples = X_train.shape[0]\n",
    "epochs = 8\n",
    "\n",
    "for e in range(epochs):\n",
    "    \n",
    "    train_data_sample = training_data.sample(frac=0.5, replace=True)\n",
    "    X_train_sample = train_data_sample[['IncomePerCapita','normalized_ones']].values  \n",
    "    Y_train_sample = train_data_sample.iloc[:, 0].values\n",
    "\n",
    "    \n",
    "    while abs(iter_error - error) > tolerance:\n",
    "        iteration = iteration + 1\n",
    "        error = iter_error\n",
    "\n",
    "    \n",
    "    #w_errors = 1/n*(X^T * (X*w - Y))\n",
    "    #1/n used here to better select the step size (eta) by normalizing (X^T * (X*w - Y)) by the number of samples\n",
    "        w_errors = 1/samples*(np.dot(X_train_sample.transpose(), np.dot(X_train_sample , w) - Y_train_sample))\n",
    "        iter_error = sum([w**2 for w in w_errors])\n",
    "    \n",
    "    \n",
    "    #search for good eta value which decreases the error for this iteration (to guarantee convergence)\n",
    "        search_iter = 0\n",
    "        eta_error = iter_error\n",
    "        eta_rate = 0.00000000000000000000000000001\n",
    "        w_test = w\n",
    "        while eta_error >= iter_error:\n",
    "            seach_iter = search_iter + 1\n",
    "            eta_rate = eta_rate * 10\n",
    "            w_test = w_test - eta_rate*eta_error\n",
    "            eta_errors = 1/samples*(np.dot(X_train_sample.transpose(), np.dot(X_train_sample , w_test) - Y_train_sample))\n",
    "            eta_error = sum([w**2 for w in eta_errors])\n",
    "            if search_iter == 50:\n",
    "                print(\"takes too long to converge, reconsider your problem formulation\")\n",
    "                break\n",
    "    \n",
    "    #Gradient step: found optimal eta rate so now we step in that direction of w parameter convergence\n",
    "        w = w - eta_rate*w_errors\n",
    "\n",
    "    #percaution to not allow our algorithm to run forever\n",
    "        if iteration == 10000:\n",
    "            break"
   ]
  },
  {
   "cell_type": "code",
   "execution_count": 197,
   "metadata": {},
   "outputs": [
    {
     "data": {
      "image/png": "[encoded data removed]",
      "text/plain": [
       "<Figure size 432x288 with 1 Axes>"
      ]
     },
     "metadata": {
      "needs_background": "light"
     },
     "output_type": "display_data"
    }
   ],
   "source": [
    "import matplotlib.pyplot as plt\n",
    "\n",
    "train_prediction = [sum(X_train_sample[i] * w) for i in range(X_train_sample.shape[0])]\n",
    "\n",
    "#Plotting our points and line of fit (model) \n",
    "plt.plot(train_data_sample['IncomePerCapita'], Y_train_sample, 'bo')\n",
    "plt.plot(train_data_sample['IncomePerCapita'], train_prediction, linewidth=2)\n",
    "plt.title(\"Income Per Capita vs. Death Rate and Line of Fit\")\n",
    "plt.xlabel(\"Income Per Capita\")\n",
    "plt.ylabel(\"Death Rate\")\n",
    "plt.show()"
   ]
  },
  {
   "cell_type": "code",
   "execution_count": 198,
   "metadata": {},
   "outputs": [
    {
     "data": {
      "image/png": "[encoded data removed]",
      "text/plain": [
       "<Figure size 432x288 with 1 Axes>"
      ]
     },
     "metadata": {
      "needs_background": "light"
     },
     "output_type": "display_data"
    }
   ],
   "source": [
    "import matplotlib.pyplot as plt\n",
    "\n",
    "test_prediction = [sum(X_test[i] * w) for i in range(X_test.shape[0])]\n",
    "\n",
    "#Plotting our points and line of fit (model) \n",
    "plt.plot(test_data['IncomePerCapita'], Y_test, 'bo')\n",
    "plt.plot(test_data['IncomePerCapita'], test_prediction, linewidth=2)\n",
    "plt.title(\"Test Set: Income Per Capita vs. Death Rate and Line of Fit\")\n",
    "plt.xlabel(\"Income Per Capita\")\n",
    "plt.ylabel(\"Death Rate\")\n",
    "plt.show()"
   ]
  },
  {
   "cell_type": "code",
   "execution_count": 199,
   "metadata": {},
   "outputs": [
    {
     "name": "stdout",
     "output_type": "stream",
     "text": [
      "[0.18089589 0.53599265]\n"
     ]
    }
   ],
   "source": [
    "print(w)"
   ]
  },
  {
   "cell_type": "code",
   "execution_count": 200,
   "metadata": {},
   "outputs": [
    {
     "name": "stdout",
     "output_type": "stream",
     "text": [
      "Training sum of squared errors, no regularization: 5.807230101589909\n",
      "Test sum of squared errors, no regularization: 31.500849729717647\n"
     ]
    }
   ],
   "source": [
    "print(\"Training sum of squared errors, no regularization:\", sum([res**2 for res in Y_train_sample-train_prediction]))\n",
    "print(\"Test sum of squared errors, no regularization:\", sum([res**2 for res in Y_test-test_prediction]))"
   ]
  },
  {
   "cell_type": "code",
   "execution_count": null,
   "metadata": {},
   "outputs": [],
   "source": []
  },
  {
   "cell_type": "code",
   "execution_count": null,
   "metadata": {},
   "outputs": [],
   "source": []
  }
 ],
 "metadata": {
  "kernelspec": {
   "display_name": "Python 3",
   "language": "python",
   "name": "python3"
  },
  "language_info": {
   "codemirror_mode": {
    "name": "ipython",
    "version": 3
   },
   "file_extension": ".py",
   "mimetype": "text/x-python",
   "name": "python",
   "nbconvert_exporter": "python",
   "pygments_lexer": "ipython3",
   "version": "3.7.0"
  }
 },
 "nbformat": 4,
 "nbformat_minor": 1
}
