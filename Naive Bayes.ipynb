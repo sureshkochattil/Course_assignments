{
 "cells": [
  {
   "cell_type": "code",
   "execution_count": 84,
   "metadata": {},
   "outputs": [
    {
     "name": "stdout",
     "output_type": "stream",
     "text": [
      "Training Accuracy: 98.87640449438203 %\n",
      "Test Accuracy: 96.62921348314607 %\n",
      "The dataset used here is Wine data set of UCI:https://archive.ics.uci.edu/ml/datasets/Wine. The dataset has 13 features and 3 classifiers. The dataset was also recommended as suitable for classification. All attributes werecontinuous and there were no missing values\n"
     ]
    }
   ],
   "source": [
    "import pandas as pd\n",
    "from sklearn.naive_bayes import GaussianNB\n",
    "\n",
    "#Student Data\n",
    "#https://archive.ics.uci.edu/ml/machine-learning-databases/wine/wine.data\n",
    "\n",
    "#reading data\n",
    "wines_raw = pd.read_csv(\"C:\\\\Users\\\\sures\\\\OneDrive\\\\Documents\\\\Downloaded_data_files\\\\wine.csv\")\n",
    "\n",
    "\n",
    "# creating training and test data sets\n",
    "\n",
    "training_data = wines_raw.sample(frac = 0.5, replace = True)\n",
    "test_data = wines_raw.sample(frac = 0.5, replace = True)\n",
    "\n",
    "# mapping training data\n",
    "wine_X_training = training_data[['Alcohol', 'Malic acid', 'Ash', 'Alcalinity of ash','Magnesium', 'Total phenols',\n",
    "' Flavanoids', ' Nonflavanoid phenols', 'Proanthocyanins', 'Color intensity', 'Hue',\n",
    "                               'OD280/OD315 of diluted wines', 'Proline']]\n",
    "\n",
    "wine_Y_training = training_data['Class']\n",
    "\n",
    "\n",
    "wine_X_test = test_data[['Alcohol', 'Malic acid', 'Ash', 'Alcalinity of ash','Magnesium', 'Total phenols',\n",
    "' Flavanoids', ' Nonflavanoid phenols', 'Proanthocyanins', 'Color intensity', 'Hue',\n",
    "                               'OD280/OD315 of diluted wines', 'Proline']]\n",
    "\n",
    "wine_Y_test = test_data['Class']\n",
    "\n",
    "\n",
    "# Assigining gaussian model and fitting to data\n",
    "\n",
    "naive_bayes_gaussianlearner = GaussianNB()\n",
    "\n",
    "nb_solver = naive_bayes_gaussianlearner.fit(wine_X_training, wine_Y_training)\n",
    "\n",
    "prediction_training = nb_solver.predict(wine_X_training)\n",
    "prediction_test = nb_solver.predict(wine_X_test)\n",
    "\n",
    "print(\"Training Accuracy:\",100*sum(prediction_training == wine_Y_training)/len(prediction_training),\"%\")\n",
    "print(\"Test Accuracy:\",100*sum(prediction_test == wine_Y_test)/len(prediction_test),\"%\")\n",
    "\n",
    "print(\"The dataset used here is Wine data set of UCI:https://archive.ics.uci.edu/ml/datasets/Wine. The dataset has 13 features and 3 classifiers. The dataset was also recommended as suitable for classification. All attributes werecontinuous and there were no missing values\")\n"
   ]
  }
 ],
 "metadata": {
  "kernelspec": {
   "display_name": "Python 3",
   "language": "python",
   "name": "python3"
  },
  "language_info": {
   "codemirror_mode": {
    "name": "ipython",
    "version": 3
   },
   "file_extension": ".py",
   "mimetype": "text/x-python",
   "name": "python",
   "nbconvert_exporter": "python",
   "pygments_lexer": "ipython3",
   "version": "3.7.0"
  }
 },
 "nbformat": 4,
 "nbformat_minor": 2
}
