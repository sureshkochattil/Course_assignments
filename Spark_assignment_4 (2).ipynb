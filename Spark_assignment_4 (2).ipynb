{
 "cells": [
  {
   "cell_type": "code",
   "execution_count": 222,
   "metadata": {},
   "outputs": [],
   "source": [
    "import findspark\n",
    "findspark.init()\n",
    "from pyspark import SparkContext\n",
    "from pyspark.sql import SparkSession\n",
    "sc = SparkContext()\n",
    "#sc.stop()"
   ]
  },
  {
   "cell_type": "code",
   "execution_count": 223,
   "metadata": {},
   "outputs": [],
   "source": [
    "spark = SparkSession \\\n",
    ".builder \\\n",
    ".appName(\"Spark Assignment 3\") \\\n",
    ".config(\"spark.some.config.option\", \"some-value\") \\\n",
    ".getOrCreate()"
   ]
  },
  {
   "cell_type": "code",
   "execution_count": 224,
   "metadata": {},
   "outputs": [],
   "source": [
    "df = spark.read.csv(\"C:\\\\Users\\\\sures\\\\Downloads\\\\Fake_data.csv\", header = True)"
   ]
  },
  {
   "cell_type": "code",
   "execution_count": 225,
   "metadata": {},
   "outputs": [
    {
     "name": "stdout",
     "output_type": "stream",
     "text": [
      "+---+--------------------+--------------------+----------+------+--------------------+---------+-------------+-----------+\n",
      "|_c0|       Birth_Country|               Email|First_Name|Income|                 Job|Last_name|Loan_Approved|        SSN|\n",
      "+---+--------------------+--------------------+----------+------+--------------------+---------+-------------+-----------+\n",
      "|  0|Bosnia and Herzeg...|emily15@whitehead...|   Melissa|109957|Telecommunication...|  Miranda|        FALSE|129-41-7773|\n",
      "|  1|             Belgium|  ronald87@yahoo.com|    Curtis|301884| Animal nutritionist|  Garrett|         TRUE|212-74-3976|\n",
      "|  2|      United Kingdom|  hannah29@gmail.com|    Connor|341584|English as a fore...|   Steele|        FALSE|024-35-3834|\n",
      "|  3|            Kiribati|derrick59@hotmail...|      Adam|448293|Surveyor, commerc...|   Newman|        FALSE|157-82-4486|\n",
      "|  4|            Malaysia|wendycarpenter@wa...|     Jared| 53621|   Drilling engineer|     Mann|         TRUE|199-56-2824|\n",
      "|  5|             Austria|hcisneros@hotmail...|   Stephen|195746|Commercial/reside...|    Smith|        FALSE|856-86-2689|\n",
      "|  6|              Cyprus|cookdawn@harringt...|Alexandria|121200|   Designer, graphic|    Berry|         TRUE|526-65-0200|\n",
      "|  7|                Cuba|robertrodriguez@g...|   Natasha| 68126|Chief Strategy Of...|     Kemp|         TRUE|246-26-3710|\n",
      "|  8|      Western Sahara|lfreeman@cervante...|     James|199588|Engineer, mainten...|   Taylor|         TRUE|868-13-4858|\n",
      "|  9|               Sudan| bryan65@booker.info|    Briana| 77960|Psychotherapist, ...|  Swanson|         TRUE|102-09-9465|\n",
      "| 10|             Armenia|jennifer24@lynch-...| Alexandra| 75778|      Water engineer|    Simon|        FALSE|217-96-3391|\n",
      "| 11|        Turkmenistan| pwilliams@gmail.com|    Angela|411687|Occupational psyc...|   Abbott|        FALSE|638-49-9216|\n",
      "| 12|          Costa Rica|  xflores@carter.biz|    Robert|141750|Control and instr...|    House|         TRUE|639-07-5705|\n",
      "| 13|             Albania|amberphillips@hot...|     Holly|344920|Maintenance engineer|   Hodges|        FALSE|144-88-5955|\n",
      "| 14|           Nicaragua| swerner@randall.com|     David| 95188|Research officer,...|      Fox|         TRUE|783-99-1364|\n",
      "| 15|United States Vir...| uanderson@leach.net|    Calvin|333718|     Arboriculturist|  Hopkins|        FALSE|771-16-4394|\n",
      "| 16|Falkland Islands ...|    imccoy@gmail.com|     James|404292|    Doctor, hospital|    Payne|         TRUE|026-73-1259|\n",
      "| 17|               Aruba|josephdavis@duart...|   Zachary|366990|Rural practice su...|  Stanley|        FALSE|488-61-6413|\n",
      "| 18|               Kenya|    kboyle@yahoo.com|    Martha|364873|Designer, ceramic...|   Taylor|         TRUE|702-67-7925|\n",
      "| 19|      Norfolk Island|    xjones@yahoo.com|     Dylan|479768|Engineer, mainten...|      Lee|        FALSE|548-15-3563|\n",
      "+---+--------------------+--------------------+----------+------+--------------------+---------+-------------+-----------+\n",
      "only showing top 20 rows\n",
      "\n"
     ]
    }
   ],
   "source": [
    "df.show()"
   ]
  },
  {
   "cell_type": "code",
   "execution_count": 226,
   "metadata": {},
   "outputs": [
    {
     "name": "stdout",
     "output_type": "stream",
     "text": [
      "root\n",
      " |-- _c0: string (nullable = true)\n",
      " |-- Birth_Country: string (nullable = true)\n",
      " |-- Email: string (nullable = true)\n",
      " |-- First_Name: string (nullable = true)\n",
      " |-- Income: string (nullable = true)\n",
      " |-- Job: string (nullable = true)\n",
      " |-- Last_name: string (nullable = true)\n",
      " |-- Loan_Approved: string (nullable = true)\n",
      " |-- SSN: string (nullable = true)\n",
      "\n"
     ]
    }
   ],
   "source": [
    "df.printSchema()"
   ]
  },
  {
   "cell_type": "code",
   "execution_count": 227,
   "metadata": {},
   "outputs": [],
   "source": [
    "df.createOrReplaceTempView(\"people\")"
   ]
  },
  {
   "cell_type": "code",
   "execution_count": 228,
   "metadata": {},
   "outputs": [
    {
     "name": "stdout",
     "output_type": "stream",
     "text": [
      "+-------------+-------+\n",
      "|Birth_Country|maximum|\n",
      "+-------------+-------+\n",
      "|        Korea|     91|\n",
      "+-------------+-------+\n",
      "only showing top 1 row\n",
      "\n"
     ]
    }
   ],
   "source": [
    "#1) Find birth country which has highest amount of people\n",
    "sqlDF = spark.sql(\"SELECT Birth_Country, count(*) maximum FROM people GROUP BY Birth_Country ORDER BY maximum DESC\")\n",
    "sqlDF.show(1)"
   ]
  },
  {
   "cell_type": "code",
   "execution_count": 229,
   "metadata": {},
   "outputs": [
    {
     "name": "stdout",
     "output_type": "stream",
     "text": [
      "+------------------------+\n",
      "|avg(CAST(Income AS INT))|\n",
      "+------------------------+\n",
      "|      208759.82352941178|\n",
      "+------------------------+\n",
      "\n"
     ]
    }
   ],
   "source": [
    "#2) Find average income of people who are born in united states of america\n",
    "sqlDF = spark.sql(\"SELECT AVG(cast(Income as int)) FROM people WHERE people.Birth_Country = 'United States of America' \")\n",
    "sqlDF.show()"
   ]
  },
  {
   "cell_type": "code",
   "execution_count": 230,
   "metadata": {},
   "outputs": [
    {
     "name": "stdout",
     "output_type": "stream",
     "text": [
      "+-------------+\n",
      "|count(Income)|\n",
      "+-------------+\n",
      "|         4009|\n",
      "+-------------+\n",
      "\n"
     ]
    }
   ],
   "source": [
    "#3) How many people has income over 100,000 but their loan is not approved.\n",
    "sqlDF = spark.sql(\"SELECT COUNT(people.Income) FROM people WHERE cast(Income as int) > 100000 AND Loan_Approved = 'FALSE'\")\n",
    "sqlDF.show()"
   ]
  },
  {
   "cell_type": "code",
   "execution_count": 231,
   "metadata": {},
   "outputs": [
    {
     "name": "stdout",
     "output_type": "stream",
     "text": [
      "+----------+------+--------------------+\n",
      "|First_Name|Income|                 Job|\n",
      "+----------+------+--------------------+\n",
      "|    Alyssa|482588|Amenity horticult...|\n",
      "|    Hunter|468946|Psychologist, pri...|\n",
      "|      Rose|426115|Adult guidance wo...|\n",
      "|  Danielle|389810|Furniture conserv...|\n",
      "|     Terry|380410|       Meteorologist|\n",
      "|     Cindy|370322|Research scientis...|\n",
      "|     Scott|368913|       Art therapist|\n",
      "|   Christy|355150|      Engineer, land|\n",
      "|     Kelly|341448|           Press sub|\n",
      "|  Kristina|338804|           Herbalist|\n",
      "+----------+------+--------------------+\n",
      "only showing top 10 rows\n",
      "\n"
     ]
    }
   ],
   "source": [
    "#4) Find top 10 people with highest income in United States of america. (Print their names, income and jobs)\n",
    "sqlDF = spark.sql(\"SELECT First_Name, Income, Job FROM people WHERE Birth_Country = 'United States of America' ORDER BY cast(Income as int) DESC\")\n",
    "sqlDF.show(10)"
   ]
  },
  {
   "cell_type": "code",
   "execution_count": 232,
   "metadata": {},
   "outputs": [
    {
     "name": "stdout",
     "output_type": "stream",
     "text": [
      "+-------------------+\n",
      "|count(DISTINCT Job)|\n",
      "+-------------------+\n",
      "|                639|\n",
      "+-------------------+\n",
      "\n"
     ]
    }
   ],
   "source": [
    "# 5) How many number of distinct jobs are there?\n",
    "sqlDF = spark.sql(\"SELECT COUNT (DISTINCT Job) from people\")\n",
    "sqlDF.show()"
   ]
  },
  {
   "cell_type": "code",
   "execution_count": 233,
   "metadata": {},
   "outputs": [
    {
     "name": "stdout",
     "output_type": "stream",
     "text": [
      "+---------------------+\n",
      "|count((Job = Writer))|\n",
      "+---------------------+\n",
      "|                 2033|\n",
      "+---------------------+\n",
      "\n"
     ]
    }
   ],
   "source": [
    "# 6) How many writers earn less than 100,000? \n",
    "sqlDF = spark.sql(\"SELECT COUNT (Job = 'Writer') from people WHERE Income < 100000\")\n",
    "sqlDF.show()"
   ]
  },
  {
   "cell_type": "code",
   "execution_count": null,
   "metadata": {},
   "outputs": [],
   "source": []
  }
 ],
 "metadata": {
  "kernelspec": {
   "display_name": "Python 3",
   "language": "python",
   "name": "python3"
  },
  "language_info": {
   "codemirror_mode": {
    "name": "ipython",
    "version": 3
   },
   "file_extension": ".py",
   "mimetype": "text/x-python",
   "name": "python",
   "nbconvert_exporter": "python",
   "pygments_lexer": "ipython3",
   "version": "3.7.3"
  }
 },
 "nbformat": 4,
 "nbformat_minor": 2
}
