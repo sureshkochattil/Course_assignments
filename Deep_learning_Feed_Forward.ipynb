{
 "cells": [
  {
   "cell_type": "code",
   "execution_count": 240,
   "metadata": {},
   "outputs": [],
   "source": [
    "import numpy as np\n",
    "\n",
    "n_x = 5\n",
    "n_h = 3\n",
    "n_y = 1"
   ]
  },
  {
   "cell_type": "code",
   "execution_count": 241,
   "metadata": {},
   "outputs": [],
   "source": [
    "X = np.random.randn(n_x,1)\n",
    "W1 = np.random.randn(n_h,n_x) \n",
    "b1 = np.zeros(shape=(n_h, 1))\n",
    "W2 = np.random.randn(n_y,n_h) * 0.01\n",
    "b2 = np.zeros(shape=(n_y, 1))"
   ]
  },
  {
   "cell_type": "code",
   "execution_count": 242,
   "metadata": {},
   "outputs": [],
   "source": [
    "# Implement Forward Propagation to calculate A2 (probabilities)\n",
    "import math\n",
    "\n",
    "def sigmoid(x):\n",
    "  return 1 / (1 + math.exp(-x))\n",
    "\n",
    "def reluDerivative(x):\n",
    "    x[x<=0] = 0\n",
    "    x[x>0] = 1\n",
    "    return x\n",
    "\n",
    "Z1 = np.dot(W1,X) + b1\n",
    "A1 = reluDerivative(Z1)\n",
    "Z2 = np.dot(W2,A1) + b2\n",
    "A2 = sigmoid(Z2) # Final "
   ]
  },
  {
   "cell_type": "code",
   "execution_count": 243,
   "metadata": {},
   "outputs": [
    {
     "name": "stdout",
     "output_type": "stream",
     "text": [
      "0.5010301803582545\n"
     ]
    }
   ],
   "source": [
    "print(A2)"
   ]
  },
  {
   "cell_type": "code",
   "execution_count": 244,
   "metadata": {},
   "outputs": [],
   "source": [
    "X_plug = [[1],[2],[3],[4],[5]]\n",
    "\n",
    "W1_plug = [[.01, .01, .01, .01, .01], [.01, .01, .01, .01, .01], [.01, .01, .01, .01, .01]]\n",
    "\n",
    "b1_plug = [[1],[1],[1]]\n",
    "\n",
    "W2_plug = [[.02,.02,.02]]\n",
    "\n",
    "b2_plug = [[1]]"
   ]
  },
  {
   "cell_type": "code",
   "execution_count": 245,
   "metadata": {},
   "outputs": [],
   "source": [
    "# Implement Forward Propagation to calculate A2 (probabilities)\n",
    "import math\n",
    "\n",
    "def sigmoid(x):\n",
    "  return 1 / (1 + math.exp(-x))\n",
    "\n",
    "def reluDerivative(x):\n",
    "    x[x<=0] = 0\n",
    "    x[x>0] = 1\n",
    "    return x\n",
    "\n",
    "Z1_plug = np.dot(W1_plug,X_plug) + b1_plug\n",
    "A1_plug = reluDerivative(Z1_plug)\n",
    "Z2_plug = np.dot(W2_plug,A1_plug) + b2_plug\n",
    "A2_plug = sigmoid(Z2_plug) # Final "
   ]
  },
  {
   "cell_type": "code",
   "execution_count": 246,
   "metadata": {},
   "outputs": [
    {
     "name": "stdout",
     "output_type": "stream",
     "text": [
      "0.7426905453026857\n"
     ]
    }
   ],
   "source": [
    "print(A2_plug)"
   ]
  },
  {
   "cell_type": "code",
   "execution_count": 247,
   "metadata": {},
   "outputs": [],
   "source": [
    "X_trial = [[1],[2],[3],[4],[5]]\n",
    "\n",
    "W1_trial = [[.01, .01, .01, .01, .01], [.01, .01, .01, .01, .01], [.01, .01, .01, .01, .01]]\n",
    "\n",
    "b1_trial = [[1],[1],[1]]\n",
    "\n",
    "W2_trial = [[.02,.02,.02]]\n",
    "\n",
    "b2_trial = [[-6.8]]"
   ]
  },
  {
   "cell_type": "code",
   "execution_count": 248,
   "metadata": {},
   "outputs": [
    {
     "name": "stdout",
     "output_type": "stream",
     "text": [
      "0.0011812501544791263\n"
     ]
    }
   ],
   "source": [
    "# Implement Forward Propagation to calculate A2 (probabilities)\n",
    "import math\n",
    "\n",
    "def sigmoid(x):\n",
    "  return 1 / (1 + math.exp(-x))\n",
    "\n",
    "def reluDerivative(x):\n",
    "    x[x<=0] = 0\n",
    "    x[x>0] = 1\n",
    "    return x\n",
    "\n",
    "Z1_trial = np.dot(W1_trial,X_trial) + b1_trial\n",
    "A1_trial = reluDerivative(Z1_trial)\n",
    "Z2_trial = np.dot(W2_trial,A1_trial) + b2_trial\n",
    "A2_trial = sigmoid(Z2_trial) # Final \n",
    "print(A2_trial)"
   ]
  },
  {
   "cell_type": "code",
   "execution_count": 249,
   "metadata": {},
   "outputs": [],
   "source": [
    "X_trial = [[1],[2],[3],[4],[5]]\n",
    "\n",
    "W1_trial = [[.01, .01, .01, .01, .01], [.01, .01, .01, .01, .01], [.01, .01, .01, .01, .01]]\n",
    "\n",
    "b1_trial = [[1],[1],[1]]\n",
    "\n",
    "W2_trial = [[.02,.02,.02]]\n",
    "\n",
    "b2_trial = [[-0.3]]"
   ]
  },
  {
   "cell_type": "code",
   "execution_count": 250,
   "metadata": {},
   "outputs": [
    {
     "name": "stdout",
     "output_type": "stream",
     "text": [
      "0.44028635073280703\n"
     ]
    }
   ],
   "source": [
    "# Implement Forward Propagation to calculate A2 (probabilities)\n",
    "import math\n",
    "\n",
    "def sigmoid(x):\n",
    "  return 1 / (1 + math.exp(-x))\n",
    "\n",
    "def reluDerivative(x):\n",
    "    x[x<=0] = 0\n",
    "    x[x>0] = 1\n",
    "    return x\n",
    "\n",
    "Z1_trial = np.dot(W1_trial,X_trial) + b1_trial\n",
    "A1_trial = reluDerivative(Z1_trial)\n",
    "Z2_trial = np.dot(W2_trial,A1_trial) + b2_trial\n",
    "A2_trial = sigmoid(Z2_trial) # Final \n",
    "print(A2_trial)"
   ]
  },
  {
   "cell_type": "markdown",
   "metadata": {},
   "source": [
    "## Note\n",
    "By manually plugging the values of bias b2 from -6.8 to -0.3, we could change the output value from .001 to .44"
   ]
  },
  {
   "cell_type": "code",
   "execution_count": null,
   "metadata": {},
   "outputs": [],
   "source": []
  }
 ],
 "metadata": {
  "kernelspec": {
   "display_name": "Python 3",
   "language": "python",
   "name": "python3"
  },
  "language_info": {
   "codemirror_mode": {
    "name": "ipython",
    "version": 3
   },
   "file_extension": ".py",
   "mimetype": "text/x-python",
   "name": "python",
   "nbconvert_exporter": "python",
   "pygments_lexer": "ipython3",
   "version": "3.7.3"
  }
 },
 "nbformat": 4,
 "nbformat_minor": 2
}
