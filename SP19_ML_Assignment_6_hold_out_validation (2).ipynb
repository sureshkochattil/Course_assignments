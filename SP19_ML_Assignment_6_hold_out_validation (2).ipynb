{
 "cells": [
  {
   "cell_type": "code",
   "execution_count": 18,
   "metadata": {},
   "outputs": [
    {
     "name": "stdout",
     "output_type": "stream",
     "text": [
      "Test Data Prediction Accuracy:  81.33 %\n"
     ]
    }
   ],
   "source": [
    "import pandas as pd\n",
    "import math\n",
    "import random\n",
    "from sklearn import tree\n",
    "\n",
    "#load tae dataset \n",
    "ta_eval_raw = pd.read_csv(\"C:\\\\Users\\\\sures\\\\Downloads\\\\tae_data.csv\")\n",
    "\n",
    "total_sample_num = ta_eval_raw.shape[0]\n",
    "\n",
    "data_to_train_on = ta_eval_raw.sample(int(0.5*total_sample_num), replace=False)\n",
    "\n",
    "ta_eval_X = data_to_train_on.iloc[:, :5]\n",
    "ta_eval_Y = data_to_train_on.iloc[:, 5:6]\n",
    "    \n",
    "decision_tree = tree.DecisionTreeClassifier(min_samples_leaf = 1, max_depth = 20)\n",
    "decision_tree = decision_tree.fit(ta_eval_X, ta_eval_Y)\n",
    "\n",
    "data_to_test_on = ta_eval_raw.sample(int(0.5*total_sample_num), replace=False)   \n",
    "\n",
    "true_value_test = list(data_to_test_on.iloc[:,5])\n",
    "    \n",
    "prediction_on_testdata = decision_tree.predict(data_to_test_on.iloc[:, :5])\n",
    " \n",
    "print(\"Test Data Prediction Accuracy: \", round(sum(true_value_test == prediction_on_testdata)/len(prediction_on_testdata)*100,2), \"%\")\n",
    "    "
   ]
  },
  {
   "cell_type": "code",
   "execution_count": null,
   "metadata": {},
   "outputs": [],
   "source": []
  },
  {
   "cell_type": "code",
   "execution_count": null,
   "metadata": {},
   "outputs": [],
   "source": []
  },
  {
   "cell_type": "code",
   "execution_count": null,
   "metadata": {},
   "outputs": [],
   "source": []
  },
  {
   "cell_type": "code",
   "execution_count": null,
   "metadata": {},
   "outputs": [],
   "source": []
  }
 ],
 "metadata": {
  "kernelspec": {
   "display_name": "Python 3",
   "language": "python",
   "name": "python3"
  },
  "language_info": {
   "codemirror_mode": {
    "name": "ipython",
    "version": 3
   },
   "file_extension": ".py",
   "mimetype": "text/x-python",
   "name": "python",
   "nbconvert_exporter": "python",
   "pygments_lexer": "ipython3",
   "version": "3.7.0"
  }
 },
 "nbformat": 4,
 "nbformat_minor": 1
}
