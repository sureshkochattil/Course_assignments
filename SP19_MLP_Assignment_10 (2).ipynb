{
 "cells": [
  {
   "cell_type": "markdown",
   "metadata": {},
   "source": [
    "## Assignment_10: Logistic Regression Using Linear Regression sklearn package "
   ]
  },
  {
   "cell_type": "markdown",
   "metadata": {},
   "source": [
    "### Import and Split Data"
   ]
  },
  {
   "cell_type": "code",
   "execution_count": 71,
   "metadata": {},
   "outputs": [],
   "source": [
    "import pandas as pd\n",
    "import numpy as np\n",
    "import random\n",
    "from sklearn.linear_model import LogisticRegression\n",
    "\n",
    "#Data\n",
    "#https://archive.ics.uci.edu/ml/datasets/Tic-Tac-Toe+Endgame\n",
    "\n",
    "#reading data\n",
    "tictactoe_raw = pd.read_csv(\"tic-tac-toe.txt\", sep=\",\")\n",
    "\n",
    "#turning all data as categorical and numerical\n",
    "for column in tictactoe_raw:\n",
    "    tictactoe_raw[column] = tictactoe_raw[column].astype('category')\n",
    "    tictactoe_raw[column] = tictactoe_raw[column].cat.codes\n",
    "    \n",
    "training_data = tictactoe_raw.sample(frac=0.5, replace=True)\n",
    "test_data = tictactoe_raw.sample(frac=0.5, replace=True)\n",
    "\n",
    "#Selecting win/lose as our Y dependent variable (as ndarray)\n",
    "Y_train = training_data['class'].values\n",
    "\n",
    "#Selecting the rest of the features for our independent X variables\n",
    "X_train = training_data[['top-left-square', 'top-middle-square', 'top-right-square',\n",
    " 'middle-left-square', 'middle-middle-square', 'middle-right-square',\n",
    " 'bottom-left-square', 'bottom-middle-square', 'bottom-right-square']].values\n",
    "\n",
    "#Test Data\n",
    "Y_test = test_data['class'].values\n",
    "X_test = test_data[['top-left-square', 'top-middle-square', 'top-right-square',\n",
    " 'middle-left-square', 'middle-middle-square', 'middle-right-square',\n",
    " 'bottom-left-square', 'bottom-middle-square', 'bottom-right-square']].values"
   ]
  },
  {
   "cell_type": "markdown",
   "metadata": {},
   "source": [
    "### Logistc regression Step"
   ]
  },
  {
   "cell_type": "code",
   "execution_count": 72,
   "metadata": {},
   "outputs": [
    {
     "name": "stdout",
     "output_type": "stream",
     "text": [
      "Train Accuracy Stochastic Gradient Ascent: 72.44258872651356 %\n"
     ]
    }
   ],
   "source": [
    "lr = LogisticRegression(C=0.3, class_weight=None, dual=False, fit_intercept=True,\n",
    "          intercept_scaling=1, max_iter=100, multi_class='ovr', n_jobs=1,\n",
    "          penalty='l2', random_state=None, solver='lbfgs', tol=0.0000001, \n",
    "          verbose=0, warm_start=False)\n",
    "lr.fit(X_train, Y_train)\n",
    "\n",
    "Y_train_predict = lr.predict(X_train)\n",
    "\n",
    "print(\"Train Accuracy Stochastic Gradient Ascent:\", 100*sum(Y_train_predict == Y_train)/len(Y_train_predict),\"%\")"
   ]
  },
  {
   "cell_type": "markdown",
   "metadata": {},
   "source": [
    "### Testing Results"
   ]
  },
  {
   "cell_type": "code",
   "execution_count": 73,
   "metadata": {},
   "outputs": [
    {
     "name": "stdout",
     "output_type": "stream",
     "text": [
      "Test Accuracy Stochastic Gradient Ascent: 71.81628392484342 %\n"
     ]
    }
   ],
   "source": [
    "Y_test_predict = lr.predict(X_test)\n",
    "\n",
    "print(\"Test Accuracy Stochastic Gradient Ascent:\", 100*sum(Y_test_predict == Y_test)/len(Y_predict),\"%\")"
   ]
  },
  {
   "cell_type": "code",
   "execution_count": 75,
   "metadata": {},
   "outputs": [
    {
     "name": "stdout",
     "output_type": "stream",
     "text": [
      "Optimal accuracy around 72% achieved by lowering the regularization parameter C from the default of 1 to 0.3. Also, the data and model were sensitive to the max_iterations (default 100 produced best results) as well as tolerance (lower values gave better results\n"
     ]
    }
   ],
   "source": [
    "print(\"Optimal accuracy around 72% achieved by lowering the regularization parameter C from the default of 1 to 0.3. Also, the data and model were sensitive to the max_iterations (default 100 produced best results) as well as tolerance (lower values gave better results\")"
   ]
  }
 ],
 "metadata": {
  "kernelspec": {
   "display_name": "Python 3",
   "language": "python",
   "name": "python3"
  },
  "language_info": {
   "codemirror_mode": {
    "name": "ipython",
    "version": 3
   },
   "file_extension": ".py",
   "mimetype": "text/x-python",
   "name": "python",
   "nbconvert_exporter": "python",
   "pygments_lexer": "ipython3",
   "version": "3.7.0"
  }
 },
 "nbformat": 4,
 "nbformat_minor": 1
}
