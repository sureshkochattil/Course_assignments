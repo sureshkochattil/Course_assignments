{
 "cells": [
  {
   "cell_type": "markdown",
   "metadata": {},
   "source": [
    "# Module 6: Data types and tidy data"
   ]
  },
  {
   "cell_type": "markdown",
   "metadata": {},
   "source": [
    "## Tidy data\n",
    "\n",
    "Let's do some tidy exercise first. This is one of the non-tidy dataset assembled by Hadley Wickham (check out [here](https://github.com/tidyverse/tidyr/tree/4c0a8d0fdb9372302fcc57ad995d57a43d9e4337/vignettes) for more datasets, explanation, and R code). \n",
    "\n",
    "Let's take a look at this small dataset: https://raw.githubusercontent.com/tidyverse/tidyr/4c0a8d0fdb9372302fcc57ad995d57a43d9e4337/vignettes/pew.csv"
   ]
  },
  {
   "cell_type": "code",
   "execution_count": 64,
   "metadata": {},
   "outputs": [],
   "source": [
    "import pandas as pd"
   ]
  },
  {
   "cell_type": "code",
   "execution_count": 65,
   "metadata": {},
   "outputs": [
    {
     "data": {
      "text/html": [
       "<div>\n",
       "<style scoped>\n",
       "    .dataframe tbody tr th:only-of-type {\n",
       "        vertical-align: middle;\n",
       "    }\n",
       "\n",
       "    .dataframe tbody tr th {\n",
       "        vertical-align: top;\n",
       "    }\n",
       "\n",
       "    .dataframe thead th {\n",
       "        text-align: right;\n",
       "    }\n",
       "</style>\n",
       "<table border=\"1\" class=\"dataframe\">\n",
       "  <thead>\n",
       "    <tr style=\"text-align: right;\">\n",
       "      <th></th>\n",
       "      <th>religion</th>\n",
       "      <th>&lt;$10k</th>\n",
       "      <th>$10-20k</th>\n",
       "      <th>$20-30k</th>\n",
       "      <th>$30-40k</th>\n",
       "      <th>$40-50k</th>\n",
       "      <th>$50-75k</th>\n",
       "      <th>$75-100k</th>\n",
       "      <th>$100-150k</th>\n",
       "      <th>&gt;150k</th>\n",
       "      <th>Don't know/refused</th>\n",
       "    </tr>\n",
       "  </thead>\n",
       "  <tbody>\n",
       "    <tr>\n",
       "      <th>0</th>\n",
       "      <td>Agnostic</td>\n",
       "      <td>27</td>\n",
       "      <td>34</td>\n",
       "      <td>60</td>\n",
       "      <td>81</td>\n",
       "      <td>76</td>\n",
       "      <td>137</td>\n",
       "      <td>122</td>\n",
       "      <td>109</td>\n",
       "      <td>84</td>\n",
       "      <td>96</td>\n",
       "    </tr>\n",
       "    <tr>\n",
       "      <th>1</th>\n",
       "      <td>Atheist</td>\n",
       "      <td>12</td>\n",
       "      <td>27</td>\n",
       "      <td>37</td>\n",
       "      <td>52</td>\n",
       "      <td>35</td>\n",
       "      <td>70</td>\n",
       "      <td>73</td>\n",
       "      <td>59</td>\n",
       "      <td>74</td>\n",
       "      <td>76</td>\n",
       "    </tr>\n",
       "    <tr>\n",
       "      <th>2</th>\n",
       "      <td>Buddhist</td>\n",
       "      <td>27</td>\n",
       "      <td>21</td>\n",
       "      <td>30</td>\n",
       "      <td>34</td>\n",
       "      <td>33</td>\n",
       "      <td>58</td>\n",
       "      <td>62</td>\n",
       "      <td>39</td>\n",
       "      <td>53</td>\n",
       "      <td>54</td>\n",
       "    </tr>\n",
       "    <tr>\n",
       "      <th>3</th>\n",
       "      <td>Catholic</td>\n",
       "      <td>418</td>\n",
       "      <td>617</td>\n",
       "      <td>732</td>\n",
       "      <td>670</td>\n",
       "      <td>638</td>\n",
       "      <td>1116</td>\n",
       "      <td>949</td>\n",
       "      <td>792</td>\n",
       "      <td>633</td>\n",
       "      <td>1489</td>\n",
       "    </tr>\n",
       "    <tr>\n",
       "      <th>4</th>\n",
       "      <td>Don’t know/refused</td>\n",
       "      <td>15</td>\n",
       "      <td>14</td>\n",
       "      <td>15</td>\n",
       "      <td>11</td>\n",
       "      <td>10</td>\n",
       "      <td>35</td>\n",
       "      <td>21</td>\n",
       "      <td>17</td>\n",
       "      <td>18</td>\n",
       "      <td>116</td>\n",
       "    </tr>\n",
       "    <tr>\n",
       "      <th>5</th>\n",
       "      <td>Evangelical Prot</td>\n",
       "      <td>575</td>\n",
       "      <td>869</td>\n",
       "      <td>1064</td>\n",
       "      <td>982</td>\n",
       "      <td>881</td>\n",
       "      <td>1486</td>\n",
       "      <td>949</td>\n",
       "      <td>723</td>\n",
       "      <td>414</td>\n",
       "      <td>1529</td>\n",
       "    </tr>\n",
       "    <tr>\n",
       "      <th>6</th>\n",
       "      <td>Hindu</td>\n",
       "      <td>1</td>\n",
       "      <td>9</td>\n",
       "      <td>7</td>\n",
       "      <td>9</td>\n",
       "      <td>11</td>\n",
       "      <td>34</td>\n",
       "      <td>47</td>\n",
       "      <td>48</td>\n",
       "      <td>54</td>\n",
       "      <td>37</td>\n",
       "    </tr>\n",
       "    <tr>\n",
       "      <th>7</th>\n",
       "      <td>Historically Black Prot</td>\n",
       "      <td>228</td>\n",
       "      <td>244</td>\n",
       "      <td>236</td>\n",
       "      <td>238</td>\n",
       "      <td>197</td>\n",
       "      <td>223</td>\n",
       "      <td>131</td>\n",
       "      <td>81</td>\n",
       "      <td>78</td>\n",
       "      <td>339</td>\n",
       "    </tr>\n",
       "    <tr>\n",
       "      <th>8</th>\n",
       "      <td>Jehovah's Witness</td>\n",
       "      <td>20</td>\n",
       "      <td>27</td>\n",
       "      <td>24</td>\n",
       "      <td>24</td>\n",
       "      <td>21</td>\n",
       "      <td>30</td>\n",
       "      <td>15</td>\n",
       "      <td>11</td>\n",
       "      <td>6</td>\n",
       "      <td>37</td>\n",
       "    </tr>\n",
       "    <tr>\n",
       "      <th>9</th>\n",
       "      <td>Jewish</td>\n",
       "      <td>19</td>\n",
       "      <td>19</td>\n",
       "      <td>25</td>\n",
       "      <td>25</td>\n",
       "      <td>30</td>\n",
       "      <td>95</td>\n",
       "      <td>69</td>\n",
       "      <td>87</td>\n",
       "      <td>151</td>\n",
       "      <td>162</td>\n",
       "    </tr>\n",
       "    <tr>\n",
       "      <th>10</th>\n",
       "      <td>Mainline Prot</td>\n",
       "      <td>289</td>\n",
       "      <td>495</td>\n",
       "      <td>619</td>\n",
       "      <td>655</td>\n",
       "      <td>651</td>\n",
       "      <td>1107</td>\n",
       "      <td>939</td>\n",
       "      <td>753</td>\n",
       "      <td>634</td>\n",
       "      <td>1328</td>\n",
       "    </tr>\n",
       "    <tr>\n",
       "      <th>11</th>\n",
       "      <td>Mormon</td>\n",
       "      <td>29</td>\n",
       "      <td>40</td>\n",
       "      <td>48</td>\n",
       "      <td>51</td>\n",
       "      <td>56</td>\n",
       "      <td>112</td>\n",
       "      <td>85</td>\n",
       "      <td>49</td>\n",
       "      <td>42</td>\n",
       "      <td>69</td>\n",
       "    </tr>\n",
       "    <tr>\n",
       "      <th>12</th>\n",
       "      <td>Muslim</td>\n",
       "      <td>6</td>\n",
       "      <td>7</td>\n",
       "      <td>9</td>\n",
       "      <td>10</td>\n",
       "      <td>9</td>\n",
       "      <td>23</td>\n",
       "      <td>16</td>\n",
       "      <td>8</td>\n",
       "      <td>6</td>\n",
       "      <td>22</td>\n",
       "    </tr>\n",
       "    <tr>\n",
       "      <th>13</th>\n",
       "      <td>Orthodox</td>\n",
       "      <td>13</td>\n",
       "      <td>17</td>\n",
       "      <td>23</td>\n",
       "      <td>32</td>\n",
       "      <td>32</td>\n",
       "      <td>47</td>\n",
       "      <td>38</td>\n",
       "      <td>42</td>\n",
       "      <td>46</td>\n",
       "      <td>73</td>\n",
       "    </tr>\n",
       "    <tr>\n",
       "      <th>14</th>\n",
       "      <td>Other Christian</td>\n",
       "      <td>9</td>\n",
       "      <td>7</td>\n",
       "      <td>11</td>\n",
       "      <td>13</td>\n",
       "      <td>13</td>\n",
       "      <td>14</td>\n",
       "      <td>18</td>\n",
       "      <td>14</td>\n",
       "      <td>12</td>\n",
       "      <td>18</td>\n",
       "    </tr>\n",
       "    <tr>\n",
       "      <th>15</th>\n",
       "      <td>Other Faiths</td>\n",
       "      <td>20</td>\n",
       "      <td>33</td>\n",
       "      <td>40</td>\n",
       "      <td>46</td>\n",
       "      <td>49</td>\n",
       "      <td>63</td>\n",
       "      <td>46</td>\n",
       "      <td>40</td>\n",
       "      <td>41</td>\n",
       "      <td>71</td>\n",
       "    </tr>\n",
       "    <tr>\n",
       "      <th>16</th>\n",
       "      <td>Other World Religions</td>\n",
       "      <td>5</td>\n",
       "      <td>2</td>\n",
       "      <td>3</td>\n",
       "      <td>4</td>\n",
       "      <td>2</td>\n",
       "      <td>7</td>\n",
       "      <td>3</td>\n",
       "      <td>4</td>\n",
       "      <td>4</td>\n",
       "      <td>8</td>\n",
       "    </tr>\n",
       "    <tr>\n",
       "      <th>17</th>\n",
       "      <td>Unaffiliated</td>\n",
       "      <td>217</td>\n",
       "      <td>299</td>\n",
       "      <td>374</td>\n",
       "      <td>365</td>\n",
       "      <td>341</td>\n",
       "      <td>528</td>\n",
       "      <td>407</td>\n",
       "      <td>321</td>\n",
       "      <td>258</td>\n",
       "      <td>597</td>\n",
       "    </tr>\n",
       "  </tbody>\n",
       "</table>\n",
       "</div>"
      ],
      "text/plain": [
       "                   religion  <$10k  $10-20k  $20-30k  $30-40k  $40-50k  \\\n",
       "0                  Agnostic     27       34       60       81       76   \n",
       "1                   Atheist     12       27       37       52       35   \n",
       "2                  Buddhist     27       21       30       34       33   \n",
       "3                  Catholic    418      617      732      670      638   \n",
       "4        Don’t know/refused     15       14       15       11       10   \n",
       "5          Evangelical Prot    575      869     1064      982      881   \n",
       "6                     Hindu      1        9        7        9       11   \n",
       "7   Historically Black Prot    228      244      236      238      197   \n",
       "8         Jehovah's Witness     20       27       24       24       21   \n",
       "9                    Jewish     19       19       25       25       30   \n",
       "10            Mainline Prot    289      495      619      655      651   \n",
       "11                   Mormon     29       40       48       51       56   \n",
       "12                   Muslim      6        7        9       10        9   \n",
       "13                 Orthodox     13       17       23       32       32   \n",
       "14          Other Christian      9        7       11       13       13   \n",
       "15             Other Faiths     20       33       40       46       49   \n",
       "16    Other World Religions      5        2        3        4        2   \n",
       "17             Unaffiliated    217      299      374      365      341   \n",
       "\n",
       "    $50-75k  $75-100k  $100-150k  >150k  Don't know/refused  \n",
       "0       137       122        109     84                  96  \n",
       "1        70        73         59     74                  76  \n",
       "2        58        62         39     53                  54  \n",
       "3      1116       949        792    633                1489  \n",
       "4        35        21         17     18                 116  \n",
       "5      1486       949        723    414                1529  \n",
       "6        34        47         48     54                  37  \n",
       "7       223       131         81     78                 339  \n",
       "8        30        15         11      6                  37  \n",
       "9        95        69         87    151                 162  \n",
       "10     1107       939        753    634                1328  \n",
       "11      112        85         49     42                  69  \n",
       "12       23        16          8      6                  22  \n",
       "13       47        38         42     46                  73  \n",
       "14       14        18         14     12                  18  \n",
       "15       63        46         40     41                  71  \n",
       "16        7         3          4      4                   8  \n",
       "17      528       407        321    258                 597  "
      ]
     },
     "execution_count": 65,
     "metadata": {},
     "output_type": "execute_result"
    }
   ],
   "source": [
    "pew_df = pd.read_csv('https://raw.githubusercontent.com/tidyverse/tidyr/4c0a8d0fdb9372302fcc57ad995d57a43d9e4337/vignettes/pew.csv')\n",
    "pew_df"
   ]
  },
  {
   "cell_type": "markdown",
   "metadata": {},
   "source": [
    "This dataset is about the relationships between income and religion, assembled from a research by the Pew Research Center. You can read more details [here](https://github.com/tidyverse/tidyr/blob/master/vignettes/tidy-data.Rmd#column-headers-are-values-not-variable-names). Is this dataset tidy or not? Why?\n",
    "\n",
    "Yes, many of the columns are values, not variable names. How should we fix it? \n",
    "\n",
    "Pandas provides a convenient function called [melt](http://pandas.pydata.org/pandas-docs/stable/generated/pandas.melt.html). You specify the `id_vars` that are variable columns, and `value_vars` that are value columns, and provide the name for the variable as well as the name for the values. \n",
    "\n",
    "**Q: so please go ahead and tidy it up! I'd suggest to use the variable name \"income\" and value name \"frequency\"**"
   ]
  },
  {
   "cell_type": "code",
   "execution_count": 66,
   "metadata": {},
   "outputs": [],
   "source": [
    "# TODO: put your code here\n",
    "pew_tidy_df = pd.melt(pew_df,id_vars='religion', value_vars=None,var_name=\"income\", value_name=\"frequency\", col_level=None)"
   ]
  },
  {
   "cell_type": "code",
   "execution_count": 67,
   "metadata": {},
   "outputs": [
    {
     "data": {
      "text/html": [
       "<div>\n",
       "<style scoped>\n",
       "    .dataframe tbody tr th:only-of-type {\n",
       "        vertical-align: middle;\n",
       "    }\n",
       "\n",
       "    .dataframe tbody tr th {\n",
       "        vertical-align: top;\n",
       "    }\n",
       "\n",
       "    .dataframe thead th {\n",
       "        text-align: right;\n",
       "    }\n",
       "</style>\n",
       "<table border=\"1\" class=\"dataframe\">\n",
       "  <thead>\n",
       "    <tr style=\"text-align: right;\">\n",
       "      <th></th>\n",
       "      <th>religion</th>\n",
       "      <th>income</th>\n",
       "      <th>frequency</th>\n",
       "    </tr>\n",
       "  </thead>\n",
       "  <tbody>\n",
       "    <tr>\n",
       "      <th>27</th>\n",
       "      <td>Jewish</td>\n",
       "      <td>$10-20k</td>\n",
       "      <td>19</td>\n",
       "    </tr>\n",
       "    <tr>\n",
       "      <th>144</th>\n",
       "      <td>Agnostic</td>\n",
       "      <td>&gt;150k</td>\n",
       "      <td>84</td>\n",
       "    </tr>\n",
       "    <tr>\n",
       "      <th>121</th>\n",
       "      <td>Orthodox</td>\n",
       "      <td>$75-100k</td>\n",
       "      <td>38</td>\n",
       "    </tr>\n",
       "    <tr>\n",
       "      <th>21</th>\n",
       "      <td>Catholic</td>\n",
       "      <td>$10-20k</td>\n",
       "      <td>617</td>\n",
       "    </tr>\n",
       "    <tr>\n",
       "      <th>5</th>\n",
       "      <td>Evangelical Prot</td>\n",
       "      <td>&lt;$10k</td>\n",
       "      <td>575</td>\n",
       "    </tr>\n",
       "    <tr>\n",
       "      <th>130</th>\n",
       "      <td>Don’t know/refused</td>\n",
       "      <td>$100-150k</td>\n",
       "      <td>17</td>\n",
       "    </tr>\n",
       "    <tr>\n",
       "      <th>123</th>\n",
       "      <td>Other Faiths</td>\n",
       "      <td>$75-100k</td>\n",
       "      <td>46</td>\n",
       "    </tr>\n",
       "    <tr>\n",
       "      <th>110</th>\n",
       "      <td>Buddhist</td>\n",
       "      <td>$75-100k</td>\n",
       "      <td>62</td>\n",
       "    </tr>\n",
       "    <tr>\n",
       "      <th>58</th>\n",
       "      <td>Don’t know/refused</td>\n",
       "      <td>$30-40k</td>\n",
       "      <td>11</td>\n",
       "    </tr>\n",
       "    <tr>\n",
       "      <th>101</th>\n",
       "      <td>Mormon</td>\n",
       "      <td>$50-75k</td>\n",
       "      <td>112</td>\n",
       "    </tr>\n",
       "  </tbody>\n",
       "</table>\n",
       "</div>"
      ],
      "text/plain": [
       "               religion     income  frequency\n",
       "27               Jewish    $10-20k         19\n",
       "144            Agnostic      >150k         84\n",
       "121            Orthodox   $75-100k         38\n",
       "21             Catholic    $10-20k        617\n",
       "5      Evangelical Prot      <$10k        575\n",
       "130  Don’t know/refused  $100-150k         17\n",
       "123        Other Faiths   $75-100k         46\n",
       "110            Buddhist   $75-100k         62\n",
       "58   Don’t know/refused    $30-40k         11\n",
       "101              Mormon    $50-75k        112"
      ]
     },
     "execution_count": 67,
     "metadata": {},
     "output_type": "execute_result"
    }
   ],
   "source": [
    "pew_tidy_df.sample(10)"
   ]
  },
  {
   "cell_type": "markdown",
   "metadata": {},
   "source": [
    "If you were successful, you'll have something like this:"
   ]
  },
  {
   "cell_type": "code",
   "execution_count": 68,
   "metadata": {},
   "outputs": [
    {
     "data": {
      "text/html": [
       "<div>\n",
       "<style scoped>\n",
       "    .dataframe tbody tr th:only-of-type {\n",
       "        vertical-align: middle;\n",
       "    }\n",
       "\n",
       "    .dataframe tbody tr th {\n",
       "        vertical-align: top;\n",
       "    }\n",
       "\n",
       "    .dataframe thead th {\n",
       "        text-align: right;\n",
       "    }\n",
       "</style>\n",
       "<table border=\"1\" class=\"dataframe\">\n",
       "  <thead>\n",
       "    <tr style=\"text-align: right;\">\n",
       "      <th></th>\n",
       "      <th>religion</th>\n",
       "      <th>income</th>\n",
       "      <th>frequency</th>\n",
       "    </tr>\n",
       "  </thead>\n",
       "  <tbody>\n",
       "    <tr>\n",
       "      <th>153</th>\n",
       "      <td>Jewish</td>\n",
       "      <td>&gt;150k</td>\n",
       "      <td>151</td>\n",
       "    </tr>\n",
       "    <tr>\n",
       "      <th>95</th>\n",
       "      <td>Evangelical Prot</td>\n",
       "      <td>$50-75k</td>\n",
       "      <td>1486</td>\n",
       "    </tr>\n",
       "    <tr>\n",
       "      <th>97</th>\n",
       "      <td>Historically Black Prot</td>\n",
       "      <td>$50-75k</td>\n",
       "      <td>223</td>\n",
       "    </tr>\n",
       "    <tr>\n",
       "      <th>176</th>\n",
       "      <td>Other Christian</td>\n",
       "      <td>Don't know/refused</td>\n",
       "      <td>18</td>\n",
       "    </tr>\n",
       "    <tr>\n",
       "      <th>103</th>\n",
       "      <td>Orthodox</td>\n",
       "      <td>$50-75k</td>\n",
       "      <td>47</td>\n",
       "    </tr>\n",
       "    <tr>\n",
       "      <th>107</th>\n",
       "      <td>Unaffiliated</td>\n",
       "      <td>$50-75k</td>\n",
       "      <td>528</td>\n",
       "    </tr>\n",
       "    <tr>\n",
       "      <th>156</th>\n",
       "      <td>Muslim</td>\n",
       "      <td>&gt;150k</td>\n",
       "      <td>6</td>\n",
       "    </tr>\n",
       "    <tr>\n",
       "      <th>17</th>\n",
       "      <td>Unaffiliated</td>\n",
       "      <td>&lt;$10k</td>\n",
       "      <td>217</td>\n",
       "    </tr>\n",
       "    <tr>\n",
       "      <th>128</th>\n",
       "      <td>Buddhist</td>\n",
       "      <td>$100-150k</td>\n",
       "      <td>39</td>\n",
       "    </tr>\n",
       "    <tr>\n",
       "      <th>75</th>\n",
       "      <td>Catholic</td>\n",
       "      <td>$40-50k</td>\n",
       "      <td>638</td>\n",
       "    </tr>\n",
       "  </tbody>\n",
       "</table>\n",
       "</div>"
      ],
      "text/plain": [
       "                    religion              income  frequency\n",
       "153                   Jewish               >150k        151\n",
       "95          Evangelical Prot             $50-75k       1486\n",
       "97   Historically Black Prot             $50-75k        223\n",
       "176          Other Christian  Don't know/refused         18\n",
       "103                 Orthodox             $50-75k         47\n",
       "107             Unaffiliated             $50-75k        528\n",
       "156                   Muslim               >150k          6\n",
       "17              Unaffiliated               <$10k        217\n",
       "128                 Buddhist           $100-150k         39\n",
       "75                  Catholic             $40-50k        638"
      ]
     },
     "execution_count": 68,
     "metadata": {},
     "output_type": "execute_result"
    }
   ],
   "source": [
    "pew_tidy_df.sample(10)"
   ]
  },
  {
   "cell_type": "markdown",
   "metadata": {},
   "source": [
    "## Data types\n",
    "\n",
    "Let's talk about data types briefly. Understanding data types is not only important for choosing the right visualizations, but also important for efficient computing and storage of data. You may not have thought about how pandas represent data in memory. A Pandas `Dataframe` is essentially a bunch of `Series`, and those `Series` are essentially `numpy` arrays. An array may contain a fixed-length items such as integers or variable length items such as strings. Putting some efforts to think about the correct data type can potentially save a lot of memory as well as time. \n",
    "\n",
    "A nice example would be the categorical data type. If you have a variable that only has several possible values, it's essentially a categorical data. Take a look at the `income` variable. "
   ]
  },
  {
   "cell_type": "code",
   "execution_count": 69,
   "metadata": {},
   "outputs": [
    {
     "data": {
      "text/plain": [
       "$50-75k               18\n",
       "$20-30k               18\n",
       "Don't know/refused    18\n",
       "$100-150k             18\n",
       "<$10k                 18\n",
       "$10-20k               18\n",
       "$40-50k               18\n",
       "$30-40k               18\n",
       "$75-100k              18\n",
       ">150k                 18\n",
       "Name: income, dtype: int64"
      ]
     },
     "execution_count": 69,
     "metadata": {},
     "output_type": "execute_result"
    }
   ],
   "source": [
    "pew_tidy_df.income.value_counts()"
   ]
  },
  {
   "cell_type": "markdown",
   "metadata": {},
   "source": [
    "These were the column names in the original messy data. The value can take only one of these income ranges and thus it is a categorical data. What is the data type that pandas use to store this column?"
   ]
  },
  {
   "cell_type": "code",
   "execution_count": 70,
   "metadata": {},
   "outputs": [
    {
     "data": {
      "text/plain": [
       "dtype('O')"
      ]
     },
     "execution_count": 70,
     "metadata": {},
     "output_type": "execute_result"
    }
   ],
   "source": [
    "pew_tidy_df.income.dtype"
   ]
  },
  {
   "cell_type": "markdown",
   "metadata": {},
   "source": [
    "The `O` means that it is an object data type, which does not have a fixed size like integer or float. The series contains a sort of pointer to the actual text objects. You can actually inspect the amount of memory used by the dataset. "
   ]
  },
  {
   "cell_type": "code",
   "execution_count": 71,
   "metadata": {},
   "outputs": [
    {
     "data": {
      "text/plain": [
       "Index          80\n",
       "religion     1440\n",
       "income       1440\n",
       "frequency    1440\n",
       "dtype: int64"
      ]
     },
     "execution_count": 71,
     "metadata": {},
     "output_type": "execute_result"
    }
   ],
   "source": [
    "pew_tidy_df.memory_usage()"
   ]
  },
  {
   "cell_type": "code",
   "execution_count": 72,
   "metadata": {},
   "outputs": [
    {
     "data": {
      "text/plain": [
       "Index           80\n",
       "religion     12780\n",
       "income       11700\n",
       "frequency     1440\n",
       "dtype: int64"
      ]
     },
     "execution_count": 72,
     "metadata": {},
     "output_type": "execute_result"
    }
   ],
   "source": [
    "pew_tidy_df.memory_usage(deep=True)"
   ]
  },
  {
   "cell_type": "markdown",
   "metadata": {},
   "source": [
    "What's going on with the `deep=True` option? When you don't specify `deep=True`, the memory usage method just tells you the amount of memory used by the numpy arrays in the pandas dataframe. When you pass `deep=True`, it tells you the total amount of memory by including the memory used by all the text objects. So, the `religion` and `income` columns occupies almost ten times of memory than the `frequency` column, which is simply an array of integers. "
   ]
  },
  {
   "cell_type": "code",
   "execution_count": 73,
   "metadata": {},
   "outputs": [
    {
     "data": {
      "text/plain": [
       "dtype('int64')"
      ]
     },
     "execution_count": 73,
     "metadata": {},
     "output_type": "execute_result"
    }
   ],
   "source": [
    "pew_tidy_df.frequency.dtype"
   ]
  },
  {
   "cell_type": "markdown",
   "metadata": {},
   "source": [
    "Is there any way to save up the memory? Note that there are only 10 categories in the income variable. That means we just need 10 numbers to represent the categories! Of course we need to store the names of each category, but that's just one-time cost. The simplest way to convert a column is using `astype` method. "
   ]
  },
  {
   "cell_type": "code",
   "execution_count": 74,
   "metadata": {},
   "outputs": [],
   "source": [
    "# you can do pew_tidy_df.income = pew_tidy_df.income.astype('category')\n",
    "income_categorical_series = pew_tidy_df.income.astype('category')"
   ]
  },
  {
   "cell_type": "markdown",
   "metadata": {},
   "source": [
    "Now, this series has the `CategoricalDtype` dtype. "
   ]
  },
  {
   "cell_type": "code",
   "execution_count": 75,
   "metadata": {},
   "outputs": [
    {
     "data": {
      "text/plain": [
       "CategoricalDtype(categories=['$10-20k', '$100-150k', '$20-30k', '$30-40k', '$40-50k',\n",
       "                  '$50-75k', '$75-100k', '<$10k', '>150k',\n",
       "                  'Don't know/refused'],\n",
       "                 ordered=False)"
      ]
     },
     "execution_count": 75,
     "metadata": {},
     "output_type": "execute_result"
    }
   ],
   "source": [
    "income_categorical_series.dtype"
   ]
  },
  {
   "cell_type": "markdown",
   "metadata": {},
   "source": [
    "How much memory do we use?"
   ]
  },
  {
   "cell_type": "code",
   "execution_count": 76,
   "metadata": {},
   "outputs": [
    {
     "data": {
      "text/plain": [
       "1230"
      ]
     },
     "execution_count": 76,
     "metadata": {},
     "output_type": "execute_result"
    }
   ],
   "source": [
    "income_categorical_series.memory_usage(deep=True)"
   ]
  },
  {
   "cell_type": "code",
   "execution_count": 77,
   "metadata": {},
   "outputs": [
    {
     "data": {
      "text/plain": [
       "11780"
      ]
     },
     "execution_count": 77,
     "metadata": {},
     "output_type": "execute_result"
    }
   ],
   "source": [
    "pew_tidy_df.income.memory_usage(deep=True)"
   ]
  },
  {
   "cell_type": "markdown",
   "metadata": {},
   "source": [
    "We have reduced the memory usage by almost 10 fold! Not only that, because now the values are just numbers, it will be much faster to match, filter, manipulate. If your dataset is huge, this can save up a lot of space and time. \n",
    "\n",
    "If the categories have ordering, you can specify the ordering too. "
   ]
  },
  {
   "cell_type": "code",
   "execution_count": 78,
   "metadata": {},
   "outputs": [
    {
     "data": {
      "text/plain": [
       "CategoricalDtype(categories=['Don't know/refused', '<$10k', '$10-20k', '$20-30k',\n",
       "                  '$30-40k', '$40-50k', '$50-75k', '$75-100k', '$100-150k',\n",
       "                  '>150k'],\n",
       "                 ordered=True)"
      ]
     },
     "execution_count": 78,
     "metadata": {},
     "output_type": "execute_result"
    }
   ],
   "source": [
    "from pandas.api.types import CategoricalDtype\n",
    "income_type = CategoricalDtype(categories=[\"Don't know/refused\", '<$10k', '$10-20k', '$20-30k', '$30-40k', \n",
    "                                           '$40-50k', '$50-75k', '$75-100k', '$100-150k', '>150k'], ordered=True)\n",
    "income_type"
   ]
  },
  {
   "cell_type": "code",
   "execution_count": 79,
   "metadata": {},
   "outputs": [
    {
     "data": {
      "text/plain": [
       "CategoricalDtype(categories=['Don't know/refused', '<$10k', '$10-20k', '$20-30k',\n",
       "                  '$30-40k', '$40-50k', '$50-75k', '$75-100k', '$100-150k',\n",
       "                  '>150k'],\n",
       "                 ordered=True)"
      ]
     },
     "execution_count": 79,
     "metadata": {},
     "output_type": "execute_result"
    }
   ],
   "source": [
    "pew_tidy_df.income.astype(income_type).dtype"
   ]
  },
  {
   "cell_type": "markdown",
   "metadata": {},
   "source": [
    "This data type now allows you to compare and sort based on the ordering. \n",
    "\n",
    "**Q: ok, now convert both religion and income columns of `pew_tidy_df` as categorical dtype (in place) and show that `pew_tidy_df` now uses much less memory**"
   ]
  },
  {
   "cell_type": "code",
   "execution_count": 80,
   "metadata": {},
   "outputs": [
    {
     "name": "stdout",
     "output_type": "stream",
     "text": [
      "2199\n",
      "13070\n"
     ]
    }
   ],
   "source": [
    "# TODO: put your code here\n",
    "religion_categorical_series = pew_tidy_df.religion.astype('category')\n",
    "\n",
    "# Converted the religion column to category and on comparing with the original dataframe, we can see a one sixth reduction in memory usage\n",
    "\n",
    "print(religion_categorical_series.memory_usage(deep=True))\n",
    "print(pew_tidy_df.religion.memory_usage(deep=True))"
   ]
  },
  {
   "cell_type": "code",
   "execution_count": 81,
   "metadata": {},
   "outputs": [
    {
     "name": "stdout",
     "output_type": "stream",
     "text": [
      "Index           80\n",
      "religion     12990\n",
      "income       11700\n",
      "frequency     1440\n",
      "dtype: int64\n",
      "Index          80\n",
      "religion     2119\n",
      "income       1150\n",
      "frequency    6252\n",
      "dtype: int64\n"
     ]
    }
   ],
   "source": [
    "# Converting the entire dataframe to \"category\" type\n",
    "pew_tidy_categorical_series = pew_tidy_df.astype('category')\n",
    "\n",
    "# Comparing the memory usage before and after conversion, we can see significant drop in the memory usage\n",
    "print(pew_tidy_df.memory_usage(deep=True))\n",
    "print(pew_tidy_categorical_series.memory_usage(deep=True))"
   ]
  },
  {
   "cell_type": "markdown",
   "metadata": {},
   "source": [
    "## If you want to know more\n",
    "\n",
    "- [Jean-Nicholas Hould: Tidy Data in Python](http://www.jeannicholashould.com/tidy-data-in-python.html)\n",
    "- [Stephen Simmons | Pandas from the Inside](https://www.youtube.com/watch?v=CowlcrtSyME)\n",
    "- [Data school: How do I make my pandas DataFrame smaller and faster?](https://www.youtube.com/watch?v=wDYDYGyN_cw)"
   ]
  },
  {
   "cell_type": "markdown",
   "metadata": {},
   "source": [
    "## Visualization\n",
    "\n",
    "Now we have a well-organized table.\n",
    "Here, we first generate a bar graph using Altair and edit it on Vega Editor.\n",
    "Finally, we'll put the figure into a webpage.\n",
    "\n",
    "First, import Altair. If you didn't install it yet, follow the instruction [here](https://altair-viz.github.io/getting_started/installation.html)."
   ]
  },
  {
   "cell_type": "code",
   "execution_count": 82,
   "metadata": {},
   "outputs": [],
   "source": [
    "#conda install -c conda-forge altair vega_datasets jupyterlab\n",
    "#conda install -c conda-forge altair vega_datasets notebook vega"
   ]
  },
  {
   "cell_type": "code",
   "execution_count": 83,
   "metadata": {},
   "outputs": [],
   "source": [
    "import altair as alt"
   ]
  },
  {
   "cell_type": "code",
   "execution_count": 85,
   "metadata": {},
   "outputs": [
    {
     "data": {
      "text/plain": [
       "RendererRegistry.enable('notebook')"
      ]
     },
     "execution_count": 85,
     "metadata": {},
     "output_type": "execute_result"
    }
   ],
   "source": [
    "import altair as alt\n",
    "alt.renderers.enable('notebook')"
   ]
  },
  {
   "cell_type": "markdown",
   "metadata": {},
   "source": [
    "Basic object of Altair for further process of visualization is \"Chart\", which takes a dataframe as an input. Let's put our dataframe as an argument for the Chart object."
   ]
  },
  {
   "cell_type": "code",
   "execution_count": 91,
   "metadata": {},
   "outputs": [],
   "source": [
    "chart = alt.Chart(pew_tidy_df)"
   ]
  },
  {
   "cell_type": "markdown",
   "metadata": {},
   "source": [
    "There are multiple ways to visualize it but here we draw a stacked bar chart showing frequencies for each income category with different colors for different religion. \n",
    "\n",
    "By using the [example code](https://altair-viz.github.io/gallery/stacked_bar_chart.html) on Altair website, create a stacked bar chart, looks like the following figure.\n",
    "\n",
    "![Stacked Bar Chart](visualization.png)"
   ]
  },
  {
   "cell_type": "code",
   "execution_count": 93,
   "metadata": {},
   "outputs": [
    {
     "data": {
      "application/javascript": [
       "var spec = {\"config\": {\"view\": {\"width\": 400, \"height\": 300}, \"mark\": {\"tooltip\": null}}, \"data\": {\"name\": \"data-35cb11bed41e71a31789f5b89f0de5ab\"}, \"mark\": \"bar\", \"encoding\": {\"color\": {\"type\": \"nominal\", \"field\": \"religion\"}, \"x\": {\"type\": \"nominal\", \"field\": \"income\"}, \"y\": {\"type\": \"quantitative\", \"field\": \"frequency\"}}, \"$schema\": \"https://vega.github.io/schema/vega-lite/v3.3.0.json\", \"datasets\": {\"data-35cb11bed41e71a31789f5b89f0de5ab\": [{\"religion\": \"Agnostic\", \"income\": \"<$10k\", \"frequency\": 27}, {\"religion\": \"Atheist\", \"income\": \"<$10k\", \"frequency\": 12}, {\"religion\": \"Buddhist\", \"income\": \"<$10k\", \"frequency\": 27}, {\"religion\": \"Catholic\", \"income\": \"<$10k\", \"frequency\": 418}, {\"religion\": \"Don\\u2019t know/refused\", \"income\": \"<$10k\", \"frequency\": 15}, {\"religion\": \"Evangelical Prot\", \"income\": \"<$10k\", \"frequency\": 575}, {\"religion\": \"Hindu\", \"income\": \"<$10k\", \"frequency\": 1}, {\"religion\": \"Historically Black Prot\", \"income\": \"<$10k\", \"frequency\": 228}, {\"religion\": \"Jehovah's Witness\", \"income\": \"<$10k\", \"frequency\": 20}, {\"religion\": \"Jewish\", \"income\": \"<$10k\", \"frequency\": 19}, {\"religion\": \"Mainline Prot\", \"income\": \"<$10k\", \"frequency\": 289}, {\"religion\": \"Mormon\", \"income\": \"<$10k\", \"frequency\": 29}, {\"religion\": \"Muslim\", \"income\": \"<$10k\", \"frequency\": 6}, {\"religion\": \"Orthodox\", \"income\": \"<$10k\", \"frequency\": 13}, {\"religion\": \"Other Christian\", \"income\": \"<$10k\", \"frequency\": 9}, {\"religion\": \"Other Faiths\", \"income\": \"<$10k\", \"frequency\": 20}, {\"religion\": \"Other World Religions\", \"income\": \"<$10k\", \"frequency\": 5}, {\"religion\": \"Unaffiliated\", \"income\": \"<$10k\", \"frequency\": 217}, {\"religion\": \"Agnostic\", \"income\": \"$10-20k\", \"frequency\": 34}, {\"religion\": \"Atheist\", \"income\": \"$10-20k\", \"frequency\": 27}, {\"religion\": \"Buddhist\", \"income\": \"$10-20k\", \"frequency\": 21}, {\"religion\": \"Catholic\", \"income\": \"$10-20k\", \"frequency\": 617}, {\"religion\": \"Don\\u2019t know/refused\", \"income\": \"$10-20k\", \"frequency\": 14}, {\"religion\": \"Evangelical Prot\", \"income\": \"$10-20k\", \"frequency\": 869}, {\"religion\": \"Hindu\", \"income\": \"$10-20k\", \"frequency\": 9}, {\"religion\": \"Historically Black Prot\", \"income\": \"$10-20k\", \"frequency\": 244}, {\"religion\": \"Jehovah's Witness\", \"income\": \"$10-20k\", \"frequency\": 27}, {\"religion\": \"Jewish\", \"income\": \"$10-20k\", \"frequency\": 19}, {\"religion\": \"Mainline Prot\", \"income\": \"$10-20k\", \"frequency\": 495}, {\"religion\": \"Mormon\", \"income\": \"$10-20k\", \"frequency\": 40}, {\"religion\": \"Muslim\", \"income\": \"$10-20k\", \"frequency\": 7}, {\"religion\": \"Orthodox\", \"income\": \"$10-20k\", \"frequency\": 17}, {\"religion\": \"Other Christian\", \"income\": \"$10-20k\", \"frequency\": 7}, {\"religion\": \"Other Faiths\", \"income\": \"$10-20k\", \"frequency\": 33}, {\"religion\": \"Other World Religions\", \"income\": \"$10-20k\", \"frequency\": 2}, {\"religion\": \"Unaffiliated\", \"income\": \"$10-20k\", \"frequency\": 299}, {\"religion\": \"Agnostic\", \"income\": \"$20-30k\", \"frequency\": 60}, {\"religion\": \"Atheist\", \"income\": \"$20-30k\", \"frequency\": 37}, {\"religion\": \"Buddhist\", \"income\": \"$20-30k\", \"frequency\": 30}, {\"religion\": \"Catholic\", \"income\": \"$20-30k\", \"frequency\": 732}, {\"religion\": \"Don\\u2019t know/refused\", \"income\": \"$20-30k\", \"frequency\": 15}, {\"religion\": \"Evangelical Prot\", \"income\": \"$20-30k\", \"frequency\": 1064}, {\"religion\": \"Hindu\", \"income\": \"$20-30k\", \"frequency\": 7}, {\"religion\": \"Historically Black Prot\", \"income\": \"$20-30k\", \"frequency\": 236}, {\"religion\": \"Jehovah's Witness\", \"income\": \"$20-30k\", \"frequency\": 24}, {\"religion\": \"Jewish\", \"income\": \"$20-30k\", \"frequency\": 25}, {\"religion\": \"Mainline Prot\", \"income\": \"$20-30k\", \"frequency\": 619}, {\"religion\": \"Mormon\", \"income\": \"$20-30k\", \"frequency\": 48}, {\"religion\": \"Muslim\", \"income\": \"$20-30k\", \"frequency\": 9}, {\"religion\": \"Orthodox\", \"income\": \"$20-30k\", \"frequency\": 23}, {\"religion\": \"Other Christian\", \"income\": \"$20-30k\", \"frequency\": 11}, {\"religion\": \"Other Faiths\", \"income\": \"$20-30k\", \"frequency\": 40}, {\"religion\": \"Other World Religions\", \"income\": \"$20-30k\", \"frequency\": 3}, {\"religion\": \"Unaffiliated\", \"income\": \"$20-30k\", \"frequency\": 374}, {\"religion\": \"Agnostic\", \"income\": \"$30-40k\", \"frequency\": 81}, {\"religion\": \"Atheist\", \"income\": \"$30-40k\", \"frequency\": 52}, {\"religion\": \"Buddhist\", \"income\": \"$30-40k\", \"frequency\": 34}, {\"religion\": \"Catholic\", \"income\": \"$30-40k\", \"frequency\": 670}, {\"religion\": \"Don\\u2019t know/refused\", \"income\": \"$30-40k\", \"frequency\": 11}, {\"religion\": \"Evangelical Prot\", \"income\": \"$30-40k\", \"frequency\": 982}, {\"religion\": \"Hindu\", \"income\": \"$30-40k\", \"frequency\": 9}, {\"religion\": \"Historically Black Prot\", \"income\": \"$30-40k\", \"frequency\": 238}, {\"religion\": \"Jehovah's Witness\", \"income\": \"$30-40k\", \"frequency\": 24}, {\"religion\": \"Jewish\", \"income\": \"$30-40k\", \"frequency\": 25}, {\"religion\": \"Mainline Prot\", \"income\": \"$30-40k\", \"frequency\": 655}, {\"religion\": \"Mormon\", \"income\": \"$30-40k\", \"frequency\": 51}, {\"religion\": \"Muslim\", \"income\": \"$30-40k\", \"frequency\": 10}, {\"religion\": \"Orthodox\", \"income\": \"$30-40k\", \"frequency\": 32}, {\"religion\": \"Other Christian\", \"income\": \"$30-40k\", \"frequency\": 13}, {\"religion\": \"Other Faiths\", \"income\": \"$30-40k\", \"frequency\": 46}, {\"religion\": \"Other World Religions\", \"income\": \"$30-40k\", \"frequency\": 4}, {\"religion\": \"Unaffiliated\", \"income\": \"$30-40k\", \"frequency\": 365}, {\"religion\": \"Agnostic\", \"income\": \"$40-50k\", \"frequency\": 76}, {\"religion\": \"Atheist\", \"income\": \"$40-50k\", \"frequency\": 35}, {\"religion\": \"Buddhist\", \"income\": \"$40-50k\", \"frequency\": 33}, {\"religion\": \"Catholic\", \"income\": \"$40-50k\", \"frequency\": 638}, {\"religion\": \"Don\\u2019t know/refused\", \"income\": \"$40-50k\", \"frequency\": 10}, {\"religion\": \"Evangelical Prot\", \"income\": \"$40-50k\", \"frequency\": 881}, {\"religion\": \"Hindu\", \"income\": \"$40-50k\", \"frequency\": 11}, {\"religion\": \"Historically Black Prot\", \"income\": \"$40-50k\", \"frequency\": 197}, {\"religion\": \"Jehovah's Witness\", \"income\": \"$40-50k\", \"frequency\": 21}, {\"religion\": \"Jewish\", \"income\": \"$40-50k\", \"frequency\": 30}, {\"religion\": \"Mainline Prot\", \"income\": \"$40-50k\", \"frequency\": 651}, {\"religion\": \"Mormon\", \"income\": \"$40-50k\", \"frequency\": 56}, {\"religion\": \"Muslim\", \"income\": \"$40-50k\", \"frequency\": 9}, {\"religion\": \"Orthodox\", \"income\": \"$40-50k\", \"frequency\": 32}, {\"religion\": \"Other Christian\", \"income\": \"$40-50k\", \"frequency\": 13}, {\"religion\": \"Other Faiths\", \"income\": \"$40-50k\", \"frequency\": 49}, {\"religion\": \"Other World Religions\", \"income\": \"$40-50k\", \"frequency\": 2}, {\"religion\": \"Unaffiliated\", \"income\": \"$40-50k\", \"frequency\": 341}, {\"religion\": \"Agnostic\", \"income\": \"$50-75k\", \"frequency\": 137}, {\"religion\": \"Atheist\", \"income\": \"$50-75k\", \"frequency\": 70}, {\"religion\": \"Buddhist\", \"income\": \"$50-75k\", \"frequency\": 58}, {\"religion\": \"Catholic\", \"income\": \"$50-75k\", \"frequency\": 1116}, {\"religion\": \"Don\\u2019t know/refused\", \"income\": \"$50-75k\", \"frequency\": 35}, {\"religion\": \"Evangelical Prot\", \"income\": \"$50-75k\", \"frequency\": 1486}, {\"religion\": \"Hindu\", \"income\": \"$50-75k\", \"frequency\": 34}, {\"religion\": \"Historically Black Prot\", \"income\": \"$50-75k\", \"frequency\": 223}, {\"religion\": \"Jehovah's Witness\", \"income\": \"$50-75k\", \"frequency\": 30}, {\"religion\": \"Jewish\", \"income\": \"$50-75k\", \"frequency\": 95}, {\"religion\": \"Mainline Prot\", \"income\": \"$50-75k\", \"frequency\": 1107}, {\"religion\": \"Mormon\", \"income\": \"$50-75k\", \"frequency\": 112}, {\"religion\": \"Muslim\", \"income\": \"$50-75k\", \"frequency\": 23}, {\"religion\": \"Orthodox\", \"income\": \"$50-75k\", \"frequency\": 47}, {\"religion\": \"Other Christian\", \"income\": \"$50-75k\", \"frequency\": 14}, {\"religion\": \"Other Faiths\", \"income\": \"$50-75k\", \"frequency\": 63}, {\"religion\": \"Other World Religions\", \"income\": \"$50-75k\", \"frequency\": 7}, {\"religion\": \"Unaffiliated\", \"income\": \"$50-75k\", \"frequency\": 528}, {\"religion\": \"Agnostic\", \"income\": \"$75-100k\", \"frequency\": 122}, {\"religion\": \"Atheist\", \"income\": \"$75-100k\", \"frequency\": 73}, {\"religion\": \"Buddhist\", \"income\": \"$75-100k\", \"frequency\": 62}, {\"religion\": \"Catholic\", \"income\": \"$75-100k\", \"frequency\": 949}, {\"religion\": \"Don\\u2019t know/refused\", \"income\": \"$75-100k\", \"frequency\": 21}, {\"religion\": \"Evangelical Prot\", \"income\": \"$75-100k\", \"frequency\": 949}, {\"religion\": \"Hindu\", \"income\": \"$75-100k\", \"frequency\": 47}, {\"religion\": \"Historically Black Prot\", \"income\": \"$75-100k\", \"frequency\": 131}, {\"religion\": \"Jehovah's Witness\", \"income\": \"$75-100k\", \"frequency\": 15}, {\"religion\": \"Jewish\", \"income\": \"$75-100k\", \"frequency\": 69}, {\"religion\": \"Mainline Prot\", \"income\": \"$75-100k\", \"frequency\": 939}, {\"religion\": \"Mormon\", \"income\": \"$75-100k\", \"frequency\": 85}, {\"religion\": \"Muslim\", \"income\": \"$75-100k\", \"frequency\": 16}, {\"religion\": \"Orthodox\", \"income\": \"$75-100k\", \"frequency\": 38}, {\"religion\": \"Other Christian\", \"income\": \"$75-100k\", \"frequency\": 18}, {\"religion\": \"Other Faiths\", \"income\": \"$75-100k\", \"frequency\": 46}, {\"religion\": \"Other World Religions\", \"income\": \"$75-100k\", \"frequency\": 3}, {\"religion\": \"Unaffiliated\", \"income\": \"$75-100k\", \"frequency\": 407}, {\"religion\": \"Agnostic\", \"income\": \"$100-150k\", \"frequency\": 109}, {\"religion\": \"Atheist\", \"income\": \"$100-150k\", \"frequency\": 59}, {\"religion\": \"Buddhist\", \"income\": \"$100-150k\", \"frequency\": 39}, {\"religion\": \"Catholic\", \"income\": \"$100-150k\", \"frequency\": 792}, {\"religion\": \"Don\\u2019t know/refused\", \"income\": \"$100-150k\", \"frequency\": 17}, {\"religion\": \"Evangelical Prot\", \"income\": \"$100-150k\", \"frequency\": 723}, {\"religion\": \"Hindu\", \"income\": \"$100-150k\", \"frequency\": 48}, {\"religion\": \"Historically Black Prot\", \"income\": \"$100-150k\", \"frequency\": 81}, {\"religion\": \"Jehovah's Witness\", \"income\": \"$100-150k\", \"frequency\": 11}, {\"religion\": \"Jewish\", \"income\": \"$100-150k\", \"frequency\": 87}, {\"religion\": \"Mainline Prot\", \"income\": \"$100-150k\", \"frequency\": 753}, {\"religion\": \"Mormon\", \"income\": \"$100-150k\", \"frequency\": 49}, {\"religion\": \"Muslim\", \"income\": \"$100-150k\", \"frequency\": 8}, {\"religion\": \"Orthodox\", \"income\": \"$100-150k\", \"frequency\": 42}, {\"religion\": \"Other Christian\", \"income\": \"$100-150k\", \"frequency\": 14}, {\"religion\": \"Other Faiths\", \"income\": \"$100-150k\", \"frequency\": 40}, {\"religion\": \"Other World Religions\", \"income\": \"$100-150k\", \"frequency\": 4}, {\"religion\": \"Unaffiliated\", \"income\": \"$100-150k\", \"frequency\": 321}, {\"religion\": \"Agnostic\", \"income\": \">150k\", \"frequency\": 84}, {\"religion\": \"Atheist\", \"income\": \">150k\", \"frequency\": 74}, {\"religion\": \"Buddhist\", \"income\": \">150k\", \"frequency\": 53}, {\"religion\": \"Catholic\", \"income\": \">150k\", \"frequency\": 633}, {\"religion\": \"Don\\u2019t know/refused\", \"income\": \">150k\", \"frequency\": 18}, {\"religion\": \"Evangelical Prot\", \"income\": \">150k\", \"frequency\": 414}, {\"religion\": \"Hindu\", \"income\": \">150k\", \"frequency\": 54}, {\"religion\": \"Historically Black Prot\", \"income\": \">150k\", \"frequency\": 78}, {\"religion\": \"Jehovah's Witness\", \"income\": \">150k\", \"frequency\": 6}, {\"religion\": \"Jewish\", \"income\": \">150k\", \"frequency\": 151}, {\"religion\": \"Mainline Prot\", \"income\": \">150k\", \"frequency\": 634}, {\"religion\": \"Mormon\", \"income\": \">150k\", \"frequency\": 42}, {\"religion\": \"Muslim\", \"income\": \">150k\", \"frequency\": 6}, {\"religion\": \"Orthodox\", \"income\": \">150k\", \"frequency\": 46}, {\"religion\": \"Other Christian\", \"income\": \">150k\", \"frequency\": 12}, {\"religion\": \"Other Faiths\", \"income\": \">150k\", \"frequency\": 41}, {\"religion\": \"Other World Religions\", \"income\": \">150k\", \"frequency\": 4}, {\"religion\": \"Unaffiliated\", \"income\": \">150k\", \"frequency\": 258}, {\"religion\": \"Agnostic\", \"income\": \"Don't know/refused\", \"frequency\": 96}, {\"religion\": \"Atheist\", \"income\": \"Don't know/refused\", \"frequency\": 76}, {\"religion\": \"Buddhist\", \"income\": \"Don't know/refused\", \"frequency\": 54}, {\"religion\": \"Catholic\", \"income\": \"Don't know/refused\", \"frequency\": 1489}, {\"religion\": \"Don\\u2019t know/refused\", \"income\": \"Don't know/refused\", \"frequency\": 116}, {\"religion\": \"Evangelical Prot\", \"income\": \"Don't know/refused\", \"frequency\": 1529}, {\"religion\": \"Hindu\", \"income\": \"Don't know/refused\", \"frequency\": 37}, {\"religion\": \"Historically Black Prot\", \"income\": \"Don't know/refused\", \"frequency\": 339}, {\"religion\": \"Jehovah's Witness\", \"income\": \"Don't know/refused\", \"frequency\": 37}, {\"religion\": \"Jewish\", \"income\": \"Don't know/refused\", \"frequency\": 162}, {\"religion\": \"Mainline Prot\", \"income\": \"Don't know/refused\", \"frequency\": 1328}, {\"religion\": \"Mormon\", \"income\": \"Don't know/refused\", \"frequency\": 69}, {\"religion\": \"Muslim\", \"income\": \"Don't know/refused\", \"frequency\": 22}, {\"religion\": \"Orthodox\", \"income\": \"Don't know/refused\", \"frequency\": 73}, {\"religion\": \"Other Christian\", \"income\": \"Don't know/refused\", \"frequency\": 18}, {\"religion\": \"Other Faiths\", \"income\": \"Don't know/refused\", \"frequency\": 71}, {\"religion\": \"Other World Religions\", \"income\": \"Don't know/refused\", \"frequency\": 8}, {\"religion\": \"Unaffiliated\", \"income\": \"Don't know/refused\", \"frequency\": 597}]}};\n",
       "var opt = {};\n",
       "var type = \"vega-lite\";\n",
       "var id = \"4c0052d4-5e78-46af-8178-0aeaac5b4c7c\";\n",
       "\n",
       "var output_area = this;\n",
       "\n",
       "require([\"nbextensions/jupyter-vega/index\"], function(vega) {\n",
       "  var target = document.createElement(\"div\");\n",
       "  target.id = id;\n",
       "  target.className = \"vega-embed\";\n",
       "\n",
       "  var style = document.createElement(\"style\");\n",
       "  style.textContent = [\n",
       "    \".vega-embed .error p {\",\n",
       "    \"  color: firebrick;\",\n",
       "    \"  font-size: 14px;\",\n",
       "    \"}\",\n",
       "  ].join(\"\\\\n\");\n",
       "\n",
       "  // element is a jQuery wrapped DOM element inside the output area\n",
       "  // see http://ipython.readthedocs.io/en/stable/api/generated/\\\n",
       "  // IPython.display.html#IPython.display.Javascript.__init__\n",
       "  element[0].appendChild(target);\n",
       "  element[0].appendChild(style);\n",
       "\n",
       "  vega.render(\"#\" + id, spec, type, opt, output_area);\n",
       "}, function (err) {\n",
       "  if (err.requireType !== \"scripterror\") {\n",
       "    throw(err);\n",
       "  }\n",
       "});\n"
      ],
      "text/plain": [
       "<vega.vegalite.VegaLite at 0x2023fc2ec50>"
      ]
     },
     "metadata": {
      "jupyter-vega": "#4c0052d4-5e78-46af-8178-0aeaac5b4c7c"
     },
     "output_type": "display_data"
    },
    {
     "data": {
      "text/plain": []
     },
     "execution_count": 93,
     "metadata": {},
     "output_type": "execute_result"
    },
    {
     "data": {
      "image/png": "[encoded data removed]"
     },
     "metadata": {
      "jupyter-vega": "#4c0052d4-5e78-46af-8178-0aeaac5b4c7c"
     },
     "output_type": "display_data"
    },
    {
     "data": {
      "image/png": "[encoded data removed]"
     },
     "metadata": {
      "jupyter-vega": "#4c0052d4-5e78-46af-8178-0aeaac5b4c7c"
     },
     "output_type": "display_data"
    }
   ],
   "source": [
    "# TODO: put your code here\n",
    "chart.mark_bar().encode(x='income', y='frequency', color='religion')"
   ]
  },
  {
   "cell_type": "markdown",
   "metadata": {},
   "source": [
    "Looks good, except the orientation - it seems better if we can turn it about 90 degrees so the vertical axis becomes income while the horizontal axis becomes frequency.\n",
    "\n",
    "Let's move to Vega Editor to change the size of figure and other small features. \n",
    "\n",
    "If you click ![menu button](menu1.png) at the rigt top side of the figure, \n",
    "you can see the menus including **Save as SVG**, **Save as PNG**, ..., **Open in Vega Editor**.\n",
    "\n",
    "In this editor, you can conver the orientation of this figure by changing values of x-axis and y-axis each other.\n",
    "\n",
    "Does it look like the following figure now?\n",
    "\n",
    "![new stacked bar chart](visualization2.png)"
   ]
  },
  {
   "cell_type": "markdown",
   "metadata": {},
   "source": [
    "The bars still look uneven. Can we sort the bars so that the longest bar is at the top? Your figure should look like this:\n",
    "![sorted stacked bar chart](visualization3.png)"
   ]
  },
  {
   "cell_type": "code",
   "execution_count": 89,
   "metadata": {},
   "outputs": [],
   "source": [
    "# TODO: put your code here\n",
    "{\n",
    "  \"config\": {\"view\": {\"width\": 400, \"height\": 300}, \"mark\": {\"tooltip\": null}},\n",
    "  \"data\": {\"name\": \"data-35cb11bed41e71a31789f5b89f0de5ab\"},\n",
    "  \"mark\": \"bar\",\n",
    "  \"encoding\": {\n",
    "    \"color\": {\"type\": \"nominal\", \"field\": \"religion\"},\n",
    "    \"y\": {\"type\": \"nominal\", \"field\": \"income\",\n",
    "    \"sort\": {\"encoding\": \"x\"}},\n",
    "    \"x\": {\"type\": \"quantitative\", \"field\": \"frequency\"}\n",
    "  },\n",
    "  \"$schema\": \"https://vega.github.io/schema/vega-lite/v3.3.0.json\",\n",
    "  \"datasets\": {\n",
    "    \"data-35cb11bed41e71a31789f5b89f0de5ab\": [\n",
    "      {\"religion\": \"Agnostic\", \"income\": \"<$10k\", \"frequency\": 27},\n",
    "      {\"religion\": \"Atheist\", \"income\": \"<$10k\", \"frequency\": 12},\n",
    "      {\"religion\": \"Buddhist\", \"income\": \"<$10k\", \"frequency\": 27},\n",
    "      {\"religion\": \"Catholic\", \"income\": \"<$10k\", \"frequency\": 418},\n",
    "      {\"religion\": \"Don’t know/refused\", \"income\": \"<$10k\", \"frequency\": 15},\n",
    "      {\"religion\": \"Evangelical Prot\", \"income\": \"<$10k\", \"frequency\": 575},\n",
    "      {\"religion\": \"Hindu\", \"income\": \"<$10k\", \"frequency\": 1},\n",
    "      {\n",
    "        \"religion\": \"Historically Black Prot\",\n",
    "        \"income\": \"<$10k\",\n",
    "        \"frequency\": 228\n",
    "      },\n",
    "      {\"religion\": \"Jehovah's Witness\", \"income\": \"<$10k\", \"frequency\": 20},\n",
    "      {\"religion\": \"Jewish\", \"income\": \"<$10k\", \"frequency\": 19},\n",
    "      {\"religion\": \"Mainline Prot\", \"income\": \"<$10k\", \"frequency\": 289},\n",
    "      {\"religion\": \"Mormon\", \"income\": \"<$10k\", \"frequency\": 29},\n",
    "      {\"religion\": \"Muslim\", \"income\": \"<$10k\", \"frequency\": 6},\n",
    "      {\"religion\": \"Orthodox\", \"income\": \"<$10k\", \"frequency\": 13},\n",
    "      {\"religion\": \"Other Christian\", \"income\": \"<$10k\", \"frequency\": 9},\n",
    "      {\"religion\": \"Other Faiths\", \"income\": \"<$10k\", \"frequency\": 20},\n",
    "      {\"religion\": \"Other World Religions\", \"income\": \"<$10k\", \"frequency\": 5},\n",
    "      {\"religion\": \"Unaffiliated\", \"income\": \"<$10k\", \"frequency\": 217},\n",
    "      {\"religion\": \"Agnostic\", \"income\": \"$10-20k\", \"frequency\": 34},\n",
    "      {\"religion\": \"Atheist\", \"income\": \"$10-20k\", \"frequency\": 27},\n",
    "      {\"religion\": \"Buddhist\", \"income\": \"$10-20k\", \"frequency\": 21},\n",
    "      {\"religion\": \"Catholic\", \"income\": \"$10-20k\", \"frequency\": 617},\n",
    "      {\"religion\": \"Don’t know/refused\", \"income\": \"$10-20k\", \"frequency\": 14},\n",
    "      {\"religion\": \"Evangelical Prot\", \"income\": \"$10-20k\", \"frequency\": 869},\n",
    "      {\"religion\": \"Hindu\", \"income\": \"$10-20k\", \"frequency\": 9},\n",
    "      {\n",
    "        \"religion\": \"Historically Black Prot\",\n",
    "        \"income\": \"$10-20k\",\n",
    "        \"frequency\": 244\n",
    "      },\n",
    "      {\"religion\": \"Jehovah's Witness\", \"income\": \"$10-20k\", \"frequency\": 27},\n",
    "      {\"religion\": \"Jewish\", \"income\": \"$10-20k\", \"frequency\": 19},\n",
    "      {\"religion\": \"Mainline Prot\", \"income\": \"$10-20k\", \"frequency\": 495},\n",
    "      {\"religion\": \"Mormon\", \"income\": \"$10-20k\", \"frequency\": 40},\n",
    "      {\"religion\": \"Muslim\", \"income\": \"$10-20k\", \"frequency\": 7},\n",
    "      {\"religion\": \"Orthodox\", \"income\": \"$10-20k\", \"frequency\": 17},\n",
    "      {\"religion\": \"Other Christian\", \"income\": \"$10-20k\", \"frequency\": 7},\n",
    "      {\"religion\": \"Other Faiths\", \"income\": \"$10-20k\", \"frequency\": 33},\n",
    "      {\n",
    "        \"religion\": \"Other World Religions\",\n",
    "        \"income\": \"$10-20k\",\n",
    "        \"frequency\": 2\n",
    "      },\n",
    "      {\"religion\": \"Unaffiliated\", \"income\": \"$10-20k\", \"frequency\": 299},\n",
    "      {\"religion\": \"Agnostic\", \"income\": \"$20-30k\", \"frequency\": 60},\n",
    "      {\"religion\": \"Atheist\", \"income\": \"$20-30k\", \"frequency\": 37},\n",
    "      {\"religion\": \"Buddhist\", \"income\": \"$20-30k\", \"frequency\": 30},\n",
    "      {\"religion\": \"Catholic\", \"income\": \"$20-30k\", \"frequency\": 732},\n",
    "      {\"religion\": \"Don’t know/refused\", \"income\": \"$20-30k\", \"frequency\": 15},\n",
    "      {\"religion\": \"Evangelical Prot\", \"income\": \"$20-30k\", \"frequency\": 1064},\n",
    "      {\"religion\": \"Hindu\", \"income\": \"$20-30k\", \"frequency\": 7},\n",
    "      {\n",
    "        \"religion\": \"Historically Black Prot\",\n",
    "        \"income\": \"$20-30k\",\n",
    "        \"frequency\": 236\n",
    "      },\n",
    "      {\"religion\": \"Jehovah's Witness\", \"income\": \"$20-30k\", \"frequency\": 24},\n",
    "      {\"religion\": \"Jewish\", \"income\": \"$20-30k\", \"frequency\": 25},\n",
    "      {\"religion\": \"Mainline Prot\", \"income\": \"$20-30k\", \"frequency\": 619},\n",
    "      {\"religion\": \"Mormon\", \"income\": \"$20-30k\", \"frequency\": 48},\n",
    "      {\"religion\": \"Muslim\", \"income\": \"$20-30k\", \"frequency\": 9},\n",
    "      {\"religion\": \"Orthodox\", \"income\": \"$20-30k\", \"frequency\": 23},\n",
    "      {\"religion\": \"Other Christian\", \"income\": \"$20-30k\", \"frequency\": 11},\n",
    "      {\"religion\": \"Other Faiths\", \"income\": \"$20-30k\", \"frequency\": 40},\n",
    "      {\n",
    "        \"religion\": \"Other World Religions\",\n",
    "        \"income\": \"$20-30k\",\n",
    "        \"frequency\": 3\n",
    "      },\n",
    "      {\"religion\": \"Unaffiliated\", \"income\": \"$20-30k\", \"frequency\": 374},\n",
    "      {\"religion\": \"Agnostic\", \"income\": \"$30-40k\", \"frequency\": 81},\n",
    "      {\"religion\": \"Atheist\", \"income\": \"$30-40k\", \"frequency\": 52},\n",
    "      {\"religion\": \"Buddhist\", \"income\": \"$30-40k\", \"frequency\": 34},\n",
    "      {\"religion\": \"Catholic\", \"income\": \"$30-40k\", \"frequency\": 670},\n",
    "      {\"religion\": \"Don’t know/refused\", \"income\": \"$30-40k\", \"frequency\": 11},\n",
    "      {\"religion\": \"Evangelical Prot\", \"income\": \"$30-40k\", \"frequency\": 982},\n",
    "      {\"religion\": \"Hindu\", \"income\": \"$30-40k\", \"frequency\": 9},\n",
    "      {\n",
    "        \"religion\": \"Historically Black Prot\",\n",
    "        \"income\": \"$30-40k\",\n",
    "        \"frequency\": 238\n",
    "      },\n",
    "      {\"religion\": \"Jehovah's Witness\", \"income\": \"$30-40k\", \"frequency\": 24},\n",
    "      {\"religion\": \"Jewish\", \"income\": \"$30-40k\", \"frequency\": 25},\n",
    "      {\"religion\": \"Mainline Prot\", \"income\": \"$30-40k\", \"frequency\": 655},\n",
    "      {\"religion\": \"Mormon\", \"income\": \"$30-40k\", \"frequency\": 51},\n",
    "      {\"religion\": \"Muslim\", \"income\": \"$30-40k\", \"frequency\": 10},\n",
    "      {\"religion\": \"Orthodox\", \"income\": \"$30-40k\", \"frequency\": 32},\n",
    "      {\"religion\": \"Other Christian\", \"income\": \"$30-40k\", \"frequency\": 13},\n",
    "      {\"religion\": \"Other Faiths\", \"income\": \"$30-40k\", \"frequency\": 46},\n",
    "      {\n",
    "        \"religion\": \"Other World Religions\",\n",
    "        \"income\": \"$30-40k\",\n",
    "        \"frequency\": 4\n",
    "      },\n",
    "      {\"religion\": \"Unaffiliated\", \"income\": \"$30-40k\", \"frequency\": 365},\n",
    "      {\"religion\": \"Agnostic\", \"income\": \"$40-50k\", \"frequency\": 76},\n",
    "      {\"religion\": \"Atheist\", \"income\": \"$40-50k\", \"frequency\": 35},\n",
    "      {\"religion\": \"Buddhist\", \"income\": \"$40-50k\", \"frequency\": 33},\n",
    "      {\"religion\": \"Catholic\", \"income\": \"$40-50k\", \"frequency\": 638},\n",
    "      {\"religion\": \"Don’t know/refused\", \"income\": \"$40-50k\", \"frequency\": 10},\n",
    "      {\"religion\": \"Evangelical Prot\", \"income\": \"$40-50k\", \"frequency\": 881},\n",
    "      {\"religion\": \"Hindu\", \"income\": \"$40-50k\", \"frequency\": 11},\n",
    "      {\n",
    "        \"religion\": \"Historically Black Prot\",\n",
    "        \"income\": \"$40-50k\",\n",
    "        \"frequency\": 197\n",
    "      },\n",
    "      {\"religion\": \"Jehovah's Witness\", \"income\": \"$40-50k\", \"frequency\": 21},\n",
    "      {\"religion\": \"Jewish\", \"income\": \"$40-50k\", \"frequency\": 30},\n",
    "      {\"religion\": \"Mainline Prot\", \"income\": \"$40-50k\", \"frequency\": 651},\n",
    "      {\"religion\": \"Mormon\", \"income\": \"$40-50k\", \"frequency\": 56},\n",
    "      {\"religion\": \"Muslim\", \"income\": \"$40-50k\", \"frequency\": 9},\n",
    "      {\"religion\": \"Orthodox\", \"income\": \"$40-50k\", \"frequency\": 32},\n",
    "      {\"religion\": \"Other Christian\", \"income\": \"$40-50k\", \"frequency\": 13},\n",
    "      {\"religion\": \"Other Faiths\", \"income\": \"$40-50k\", \"frequency\": 49},\n",
    "      {\n",
    "        \"religion\": \"Other World Religions\",\n",
    "        \"income\": \"$40-50k\",\n",
    "        \"frequency\": 2\n",
    "      },\n",
    "      {\"religion\": \"Unaffiliated\", \"income\": \"$40-50k\", \"frequency\": 341},\n",
    "      {\"religion\": \"Agnostic\", \"income\": \"$50-75k\", \"frequency\": 137},\n",
    "      {\"religion\": \"Atheist\", \"income\": \"$50-75k\", \"frequency\": 70},\n",
    "      {\"religion\": \"Buddhist\", \"income\": \"$50-75k\", \"frequency\": 58},\n",
    "      {\"religion\": \"Catholic\", \"income\": \"$50-75k\", \"frequency\": 1116},\n",
    "      {\"religion\": \"Don’t know/refused\", \"income\": \"$50-75k\", \"frequency\": 35},\n",
    "      {\"religion\": \"Evangelical Prot\", \"income\": \"$50-75k\", \"frequency\": 1486},\n",
    "      {\"religion\": \"Hindu\", \"income\": \"$50-75k\", \"frequency\": 34},\n",
    "      {\n",
    "        \"religion\": \"Historically Black Prot\",\n",
    "        \"income\": \"$50-75k\",\n",
    "        \"frequency\": 223\n",
    "      },\n",
    "      {\"religion\": \"Jehovah's Witness\", \"income\": \"$50-75k\", \"frequency\": 30},\n",
    "      {\"religion\": \"Jewish\", \"income\": \"$50-75k\", \"frequency\": 95},\n",
    "      {\"religion\": \"Mainline Prot\", \"income\": \"$50-75k\", \"frequency\": 1107},\n",
    "      {\"religion\": \"Mormon\", \"income\": \"$50-75k\", \"frequency\": 112},\n",
    "      {\"religion\": \"Muslim\", \"income\": \"$50-75k\", \"frequency\": 23},\n",
    "      {\"religion\": \"Orthodox\", \"income\": \"$50-75k\", \"frequency\": 47},\n",
    "      {\"religion\": \"Other Christian\", \"income\": \"$50-75k\", \"frequency\": 14},\n",
    "      {\"religion\": \"Other Faiths\", \"income\": \"$50-75k\", \"frequency\": 63},\n",
    "      {\n",
    "        \"religion\": \"Other World Religions\",\n",
    "        \"income\": \"$50-75k\",\n",
    "        \"frequency\": 7\n",
    "      },\n",
    "      {\"religion\": \"Unaffiliated\", \"income\": \"$50-75k\", \"frequency\": 528},\n",
    "      {\"religion\": \"Agnostic\", \"income\": \"$75-100k\", \"frequency\": 122},\n",
    "      {\"religion\": \"Atheist\", \"income\": \"$75-100k\", \"frequency\": 73},\n",
    "      {\"religion\": \"Buddhist\", \"income\": \"$75-100k\", \"frequency\": 62},\n",
    "      {\"religion\": \"Catholic\", \"income\": \"$75-100k\", \"frequency\": 949},\n",
    "      {\"religion\": \"Don’t know/refused\", \"income\": \"$75-100k\", \"frequency\": 21},\n",
    "      {\"religion\": \"Evangelical Prot\", \"income\": \"$75-100k\", \"frequency\": 949},\n",
    "      {\"religion\": \"Hindu\", \"income\": \"$75-100k\", \"frequency\": 47},\n",
    "      {\n",
    "        \"religion\": \"Historically Black Prot\",\n",
    "        \"income\": \"$75-100k\",\n",
    "        \"frequency\": 131\n",
    "      },\n",
    "      {\"religion\": \"Jehovah's Witness\", \"income\": \"$75-100k\", \"frequency\": 15},\n",
    "      {\"religion\": \"Jewish\", \"income\": \"$75-100k\", \"frequency\": 69},\n",
    "      {\"religion\": \"Mainline Prot\", \"income\": \"$75-100k\", \"frequency\": 939},\n",
    "      {\"religion\": \"Mormon\", \"income\": \"$75-100k\", \"frequency\": 85},\n",
    "      {\"religion\": \"Muslim\", \"income\": \"$75-100k\", \"frequency\": 16},\n",
    "      {\"religion\": \"Orthodox\", \"income\": \"$75-100k\", \"frequency\": 38},\n",
    "      {\"religion\": \"Other Christian\", \"income\": \"$75-100k\", \"frequency\": 18},\n",
    "      {\"religion\": \"Other Faiths\", \"income\": \"$75-100k\", \"frequency\": 46},\n",
    "      {\n",
    "        \"religion\": \"Other World Religions\",\n",
    "        \"income\": \"$75-100k\",\n",
    "        \"frequency\": 3\n",
    "      },\n",
    "      {\"religion\": \"Unaffiliated\", \"income\": \"$75-100k\", \"frequency\": 407},\n",
    "      {\"religion\": \"Agnostic\", \"income\": \"$100-150k\", \"frequency\": 109},\n",
    "      {\"religion\": \"Atheist\", \"income\": \"$100-150k\", \"frequency\": 59},\n",
    "      {\"religion\": \"Buddhist\", \"income\": \"$100-150k\", \"frequency\": 39},\n",
    "      {\"religion\": \"Catholic\", \"income\": \"$100-150k\", \"frequency\": 792},\n",
    "      {\n",
    "        \"religion\": \"Don’t know/refused\",\n",
    "        \"income\": \"$100-150k\",\n",
    "        \"frequency\": 17\n",
    "      },\n",
    "      {\"religion\": \"Evangelical Prot\", \"income\": \"$100-150k\", \"frequency\": 723},\n",
    "      {\"religion\": \"Hindu\", \"income\": \"$100-150k\", \"frequency\": 48},\n",
    "      {\n",
    "        \"religion\": \"Historically Black Prot\",\n",
    "        \"income\": \"$100-150k\",\n",
    "        \"frequency\": 81\n",
    "      },\n",
    "      {\"religion\": \"Jehovah's Witness\", \"income\": \"$100-150k\", \"frequency\": 11},\n",
    "      {\"religion\": \"Jewish\", \"income\": \"$100-150k\", \"frequency\": 87},\n",
    "      {\"religion\": \"Mainline Prot\", \"income\": \"$100-150k\", \"frequency\": 753},\n",
    "      {\"religion\": \"Mormon\", \"income\": \"$100-150k\", \"frequency\": 49},\n",
    "      {\"religion\": \"Muslim\", \"income\": \"$100-150k\", \"frequency\": 8},\n",
    "      {\"religion\": \"Orthodox\", \"income\": \"$100-150k\", \"frequency\": 42},\n",
    "      {\"religion\": \"Other Christian\", \"income\": \"$100-150k\", \"frequency\": 14},\n",
    "      {\"religion\": \"Other Faiths\", \"income\": \"$100-150k\", \"frequency\": 40},\n",
    "      {\n",
    "        \"religion\": \"Other World Religions\",\n",
    "        \"income\": \"$100-150k\",\n",
    "        \"frequency\": 4\n",
    "      },\n",
    "      {\"religion\": \"Unaffiliated\", \"income\": \"$100-150k\", \"frequency\": 321},\n",
    "      {\"religion\": \"Agnostic\", \"income\": \">150k\", \"frequency\": 84},\n",
    "      {\"religion\": \"Atheist\", \"income\": \">150k\", \"frequency\": 74},\n",
    "      {\"religion\": \"Buddhist\", \"income\": \">150k\", \"frequency\": 53},\n",
    "      {\"religion\": \"Catholic\", \"income\": \">150k\", \"frequency\": 633},\n",
    "      {\"religion\": \"Don’t know/refused\", \"income\": \">150k\", \"frequency\": 18},\n",
    "      {\"religion\": \"Evangelical Prot\", \"income\": \">150k\", \"frequency\": 414},\n",
    "      {\"religion\": \"Hindu\", \"income\": \">150k\", \"frequency\": 54},\n",
    "      {\n",
    "        \"religion\": \"Historically Black Prot\",\n",
    "        \"income\": \">150k\",\n",
    "        \"frequency\": 78\n",
    "      },\n",
    "      {\"religion\": \"Jehovah's Witness\", \"income\": \">150k\", \"frequency\": 6},\n",
    "      {\"religion\": \"Jewish\", \"income\": \">150k\", \"frequency\": 151},\n",
    "      {\"religion\": \"Mainline Prot\", \"income\": \">150k\", \"frequency\": 634},\n",
    "      {\"religion\": \"Mormon\", \"income\": \">150k\", \"frequency\": 42},\n",
    "      {\"religion\": \"Muslim\", \"income\": \">150k\", \"frequency\": 6},\n",
    "      {\"religion\": \"Orthodox\", \"income\": \">150k\", \"frequency\": 46},\n",
    "      {\"religion\": \"Other Christian\", \"income\": \">150k\", \"frequency\": 12},\n",
    "      {\"religion\": \"Other Faiths\", \"income\": \">150k\", \"frequency\": 41},\n",
    "      {\"religion\": \"Other World Religions\", \"income\": \">150k\", \"frequency\": 4},\n",
    "      {\"religion\": \"Unaffiliated\", \"income\": \">150k\", \"frequency\": 258},\n",
    "      {\"religion\": \"Agnostic\", \"income\": \"Don't know/refused\", \"frequency\": 96},\n",
    "      {\"religion\": \"Atheist\", \"income\": \"Don't know/refused\", \"frequency\": 76},\n",
    "      {\"religion\": \"Buddhist\", \"income\": \"Don't know/refused\", \"frequency\": 54},\n",
    "      {\n",
    "        \"religion\": \"Catholic\",\n",
    "        \"income\": \"Don't know/refused\",\n",
    "        \"frequency\": 1489\n",
    "      },\n",
    "      {\n",
    "        \"religion\": \"Don’t know/refused\",\n",
    "        \"income\": \"Don't know/refused\",\n",
    "        \"frequency\": 116\n",
    "      },\n",
    "      {\n",
    "        \"religion\": \"Evangelical Prot\",\n",
    "        \"income\": \"Don't know/refused\",\n",
    "        \"frequency\": 1529\n",
    "      },\n",
    "      {\"religion\": \"Hindu\", \"income\": \"Don't know/refused\", \"frequency\": 37},\n",
    "      {\n",
    "        \"religion\": \"Historically Black Prot\",\n",
    "        \"income\": \"Don't know/refused\",\n",
    "        \"frequency\": 339\n",
    "      },\n",
    "      {\n",
    "        \"religion\": \"Jehovah's Witness\",\n",
    "        \"income\": \"Don't know/refused\",\n",
    "        \"frequency\": 37\n",
    "      },\n",
    "      {\"religion\": \"Jewish\", \"income\": \"Don't know/refused\", \"frequency\": 162},\n",
    "      {\n",
    "        \"religion\": \"Mainline Prot\",\n",
    "        \"income\": \"Don't know/refused\",\n",
    "        \"frequency\": 1328\n",
    "      },\n",
    "      {\"religion\": \"Mormon\", \"income\": \"Don't know/refused\", \"frequency\": 69},\n",
    "      {\"religion\": \"Muslim\", \"income\": \"Don't know/refused\", \"frequency\": 22},\n",
    "      {\"religion\": \"Orthodox\", \"income\": \"Don't know/refused\", \"frequency\": 73},\n",
    "      {\n",
    "        \"religion\": \"Other Christian\",\n",
    "        \"income\": \"Don't know/refused\",\n",
    "        \"frequency\": 18\n",
    "      },\n",
    "      {\n",
    "        \"religion\": \"Other Faiths\",\n",
    "        \"income\": \"Don't know/refused\",\n",
    "        \"frequency\": 71\n",
    "      },\n",
    "      {\n",
    "        \"religion\": \"Other World Religions\",\n",
    "        \"income\": \"Don't know/refused\",\n",
    "        \"frequency\": 8\n",
    "      },\n",
    "      {\n",
    "        \"religion\": \"Unaffiliated\",\n",
    "        \"income\": \"Don't know/refused\",\n",
    "        \"frequency\": 597\n",
    "      }\n",
    "    ]\n",
    "  }\n",
    "}"
   ]
  },
  {
   "cell_type": "markdown",
   "metadata": {},
   "source": [
    "Now, put this figure into the html file to publish it on the web.\n",
    "\n",
    "Open the `result.html` file in this folder, and put your code in Vega Editor in the right format with the right variable, \n",
    "following [this example](https://vega.github.io/vega-lite/tutorials/getting_started.html#embed)."
   ]
  },
  {
   "cell_type": "code",
   "execution_count": 90,
   "metadata": {},
   "outputs": [],
   "source": [
    "# TODO: Submit the result.html including your figure.\n",
    "# Submitted as a file on Canvas"
   ]
  }
 ],
 "metadata": {
  "anaconda-cloud": {},
  "kernelspec": {
   "display_name": "Python 3",
   "language": "python",
   "name": "python3"
  },
  "language_info": {
   "codemirror_mode": {
    "name": "ipython",
    "version": 3
   },
   "file_extension": ".py",
   "mimetype": "text/x-python",
   "name": "python",
   "nbconvert_exporter": "python",
   "pygments_lexer": "ipython3",
   "version": "3.7.3"
  }
 },
 "nbformat": 4,
 "nbformat_minor": 2
}
