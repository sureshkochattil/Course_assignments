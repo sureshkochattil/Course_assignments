{
 "cells": [
  {
   "cell_type": "markdown",
   "metadata": {},
   "source": [
    "# Continuation of Deep_Learning_Assignment_10_1_submit "
   ]
  },
  {
   "cell_type": "code",
   "execution_count": 4,
   "metadata": {},
   "outputs": [],
   "source": [
    "import numpy as np\n",
    "W= np.load(\"W_pg345.npy\")\n",
    "id2word =[w.strip() for w in open(\"Assignment_DL.txt\")]\n",
    "word2id = {w:i for i,w in enumerate(id2word)}"
   ]
  },
  {
   "cell_type": "code",
   "execution_count": 5,
   "metadata": {},
   "outputs": [],
   "source": [
    "from sklearn.preprocessing import normalize\n",
    "W = normalize(W)"
   ]
  },
  {
   "cell_type": "code",
   "execution_count": 6,
   "metadata": {},
   "outputs": [],
   "source": [
    "def print_similar_words(word, topk = 10):\n",
    "    word_vec1 = W[word2id[word]]\n",
    "\n",
    "    sim = np.dot(W, word_vec1)\n",
    "    sim_idx = np.argsort(sim)[::-1]\n",
    "\n",
    "    for idx in sim_idx[1:topk+1]:\n",
    "        print(id2word[idx])"
   ]
  },
  {
   "cell_type": "code",
   "execution_count": 7,
   "metadata": {},
   "outputs": [
    {
     "name": "stdout",
     "output_type": "stream",
     "text": [
      "face\n",
      "so\n",
      "own\n",
      "as\n",
      "out\n",
      "very\n",
      "old\n",
      "some\n",
      "it\n",
      "but\n"
     ]
    }
   ],
   "source": [
    "print_similar_words('blood')"
   ]
  },
  {
   "cell_type": "code",
   "execution_count": 8,
   "metadata": {},
   "outputs": [
    {
     "name": "stdout",
     "output_type": "stream",
     "text": [
      "time\n",
      "then\n",
      "when\n",
      "same\n",
      "one\n",
      "over\n",
      "first\n",
      "again\n",
      "last\n",
      "that\n"
     ]
    }
   ],
   "source": [
    "print_similar_words('night')"
   ]
  },
  {
   "cell_type": "code",
   "execution_count": 9,
   "metadata": {},
   "outputs": [
    {
     "name": "stdout",
     "output_type": "stream",
     "text": [
      "account\n",
      "tongue\n",
      "tone\n",
      "shrunk\n",
      "anxiety\n",
      "ivory\n",
      "big\n",
      "dog\n",
      "taking\n",
      "sleepwalking\n"
     ]
    }
   ],
   "source": [
    "print_similar_words('grey')"
   ]
  },
  {
   "cell_type": "code",
   "execution_count": 10,
   "metadata": {},
   "outputs": [
    {
     "name": "stdout",
     "output_type": "stream",
     "text": [
      "peoplesand\n",
      "distribution\n",
      "degree\n",
      "otherhere\n",
      "electronic\n",
      "untouched\n",
      "closely\n",
      "minddid\n",
      "thirst\n",
      "chloral\n"
     ]
    }
   ],
   "source": [
    "print_similar_words('knife')"
   ]
  },
  {
   "cell_type": "code",
   "execution_count": 11,
   "metadata": {},
   "outputs": [
    {
     "name": "stdout",
     "output_type": "stream",
     "text": [
      "fateful\n",
      "bicyclists\n",
      "diseaseinterest\n",
      "conscience\n",
      "grumpylike\n",
      "plunging\n",
      "picturesqueness\n",
      "insensibly\n",
      "bat\n",
      "snare\n"
     ]
    }
   ],
   "source": [
    "print_similar_words('ghoorka')"
   ]
  },
  {
   "cell_type": "code",
   "execution_count": null,
   "metadata": {},
   "outputs": [],
   "source": []
  }
 ],
 "metadata": {
  "kernelspec": {
   "display_name": "Python 3",
   "language": "python",
   "name": "python3"
  },
  "language_info": {
   "codemirror_mode": {
    "name": "ipython",
    "version": 3
   },
   "file_extension": ".py",
   "mimetype": "text/x-python",
   "name": "python",
   "nbconvert_exporter": "python",
   "pygments_lexer": "ipython3",
   "version": "3.7.3"
  }
 },
 "nbformat": 4,
 "nbformat_minor": 2
}
