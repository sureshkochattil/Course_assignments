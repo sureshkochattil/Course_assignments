{
 "cells": [
  {
   "cell_type": "code",
   "execution_count": 64,
   "metadata": {},
   "outputs": [
    {
     "name": "stdout",
     "output_type": "stream",
     "text": [
      "W_in: [[0. 0. 0.]\n",
      " [0. 0. 0.]\n",
      " [0. 0. 0.]\n",
      " [0. 0. 0.]\n",
      " [0. 0. 0.]] b_in: [0. 0. 0.]\n",
      "W_out: [[0.]\n",
      " [0.]\n",
      " [0.]] b_out: [-0.8477392]\n",
      "Value of y: [[0.29990733]]\n"
     ]
    }
   ],
   "source": [
    "import numpy as np\n",
    "import tensorflow as tf\n",
    "\n",
    "# training data\n",
    "\n",
    "x_train = np.random.randn(1,5)\n",
    "y_train = [[0.3]]\n",
    "#y_train = np.random.randn(0,1)\n",
    "\n",
    "\n",
    "input_num_units = 5\n",
    "hidden_num_units = 3\n",
    "output_num_units = 1\n",
    "\n",
    "# define placeholders\n",
    "\n",
    "x = tf.placeholder(tf.float32, [None, input_num_units])\n",
    "y = tf.placeholder(tf.float32)\n",
    " \n",
    "\n",
    "# define computational graph\n",
    "# Create the model\n",
    "\n",
    "W_in = tf.Variable(tf.zeros([input_num_units, hidden_num_units]))\n",
    "b_in = tf.Variable(tf.zeros([hidden_num_units]))\n",
    "x_out = tf.matmul(x, W_in) + b_in\n",
    "h_in = tf.nn.relu(x_out)\n",
    "W_out = tf.Variable(tf.zeros([hidden_num_units, output_num_units]))\n",
    "b_out = tf.Variable(tf.zeros([output_num_units]))\n",
    "h_out = tf.matmul(h_in, W_out) + b_out\n",
    "y_out= tf.nn.sigmoid(h_out) \n",
    "\n",
    "\n",
    "#initializer\n",
    "init = tf.global_variables_initializer()\n",
    "\n",
    "\n",
    "# loss\n",
    "#loss = tf.nn.l2_loss(y_out - y_train) # sum of the squares\n",
    "loss = abs(y_out - y_train)\n",
    "\n",
    "\n",
    "# optimizer\n",
    "optimizer = tf.train.GradientDescentOptimizer(0.01)# 0.01 is learning rate\n",
    "train = optimizer.minimize(loss)\n",
    "\n",
    "\n",
    "#initializer\n",
    "init = tf.global_variables_initializer()\n",
    "\n",
    "#run the graph as session\n",
    "\n",
    "\n",
    "with tf.Session() as sess:\n",
    "    sess.run(init) # reset values to wrong\n",
    "    # training loop\n",
    "    for i in range(500):\n",
    "        sess.run(train, {x:x_train, y:y_train})\n",
    "                \n",
    "\n",
    "    # evaluate training accuracy\n",
    "    #curr_W, curr_b, curr_loss = sess.run([W, b, loss], {x_in:x_train, y_out:y_train})\n",
    "    #print(\"W: %s b: %s loss: %s\"%(curr_W, curr_b, curr_loss))\n",
    "    \n",
    "    curr_W_in, curr_b_in = sess.run([W_in, b_in], {x:x_train, y:y_train})\n",
    "    print(\"W_in: %s b_in: %s\"%(curr_W_in, curr_b_in))\n",
    "    \n",
    "    curr_W_out, curr_b_out = sess.run([W_out, b_out], {x:x_train, y:y_train})\n",
    "    print(\"W_out: %s b_out: %s\"%(curr_W_out, curr_b_out))\n",
    "    x = sess.run((y_out), {x:x_train, y:y_train})\n",
    "    print(\"Value of y:\",x)"
   ]
  },
  {
   "cell_type": "code",
   "execution_count": null,
   "metadata": {},
   "outputs": [],
   "source": []
  }
 ],
 "metadata": {
  "kernelspec": {
   "display_name": "Python 3",
   "language": "python",
   "name": "python3"
  },
  "language_info": {
   "codemirror_mode": {
    "name": "ipython",
    "version": 3
   },
   "file_extension": ".py",
   "mimetype": "text/x-python",
   "name": "python",
   "nbconvert_exporter": "python",
   "pygments_lexer": "ipython3",
   "version": "3.7.3"
  }
 },
 "nbformat": 4,
 "nbformat_minor": 2
}
