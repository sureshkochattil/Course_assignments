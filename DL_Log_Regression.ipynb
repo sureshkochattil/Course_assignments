{
 "cells": [
  {
   "cell_type": "code",
   "execution_count": 343,
   "metadata": {},
   "outputs": [],
   "source": [
    "import numpy as np\n",
    "\n",
    "class Two2dGaussianData(object):\n",
    "    '''\n",
    "    Dataset of two 2d gaussian as a toy binary classification\n",
    "    '''\n",
    "    def __init__(self):\n",
    "        '''\n",
    "        initialize data with 2000 data points for training, \n",
    "        200 data points for validiation, 200 data points for test \n",
    "        '''\n",
    "        N = 2000\n",
    "        x0 = np.random.randn(N, 2) + np.array([0.9, 0.9])\n",
    "        x1 = np.random.randn(N, 2) + np.array([-0.9, -0.9])\n",
    "        self.X = {}\n",
    "        self.X[\"train\"]=np.vstack((x0[0:1000], x1[0:1000]))\n",
    "        self.X[\"val\"]=np.vstack((x0[1000:1200], x1[1000:1200]))\n",
    "        self.X[\"test\"]=np.vstack((x0[1000:2000], x1[1000:2000]))\n",
    "        y0=np.zeros(N)#.astype(np.int)\n",
    "        y1=np.ones(N)#.astype(np.int)\n",
    "        self.y={}\n",
    "        self.y[\"train\"]=np.hstack((y0[0:1000], y1[0:1000]))\n",
    "        self.y[\"val\"]=np.hstack((y0[1000:1200], y1[1000:1200]))\n",
    "        self.y[\"test\"]=np.hstack((y0[1000:2000], y1[1000:2000]))\n",
    "        \n",
    "    def get_batch(self,batch_size,mode):\n",
    "        #get random batch\n",
    "        num_all_data=len(self.X[mode])\n",
    "        random_indices=np.random.choice(num_all_data, batch_size, replace=False)\n",
    "        Xbatch=self.X[mode][random_indices]\n",
    "        ybatch=self.y[mode][random_indices]\n",
    "\n",
    "        return Xbatch,ybatch"
   ]
  },
  {
   "cell_type": "code",
   "execution_count": 344,
   "metadata": {},
   "outputs": [],
   "source": [
    "gauss_sample = Two2dGaussianData()"
   ]
  },
  {
   "cell_type": "code",
   "execution_count": 345,
   "metadata": {},
   "outputs": [],
   "source": [
    "train_batch= gauss_sample.get_batch(100, mode=\"train\")\n",
    "train_batch_X = train_batch[0]\n",
    "# response vector \n",
    "train_batch_y = train_batch[1] "
   ]
  },
  {
   "cell_type": "code",
   "execution_count": 346,
   "metadata": {},
   "outputs": [],
   "source": [
    "def normalize(X): \n",
    "    ''' \n",
    "    function to normalize feature matrix, X \n",
    "    '''\n",
    "    mins = np.min(X, axis = 0) \n",
    "    maxs = np.max(X, axis = 0) \n",
    "    rng = maxs - mins \n",
    "    norm_X = 1 - ((maxs - X)/rng) \n",
    "    return norm_X "
   ]
  },
  {
   "cell_type": "code",
   "execution_count": 347,
   "metadata": {},
   "outputs": [],
   "source": [
    "train_batch_X = normalize(train_batch_X) "
   ]
  },
  {
   "cell_type": "code",
   "execution_count": 348,
   "metadata": {},
   "outputs": [],
   "source": [
    "train_batch_X= np.hstack((np.matrix(np.ones(train_batch_X.shape[0])).T, train_batch_X)) "
   ]
  },
  {
   "cell_type": "code",
   "execution_count": 350,
   "metadata": {},
   "outputs": [],
   "source": [
    "# initial beta values \n",
    "beta_train = np.matrix(np.zeros(train_batch_X.shape[1])) "
   ]
  },
  {
   "cell_type": "code",
   "execution_count": 351,
   "metadata": {},
   "outputs": [],
   "source": [
    "def logistic_func(beta, X): \n",
    "    ''' \n",
    "    logistic(sigmoid) function \n",
    "    '''\n",
    "    return 1.0/(1 + np.exp(-np.dot(X, beta.T))) \n",
    "  \n",
    "  \n",
    "def log_gradient(beta, X, y): \n",
    "    ''' \n",
    "    logistic gradient function \n",
    "    '''\n",
    "    first_calc = logistic_func(beta, X) - y.reshape(X.shape[0], -1) \n",
    "    final_calc = np.dot(first_calc.T, X) \n",
    "    return final_calc \n",
    "\n",
    "def cost_func(beta, X, y): \n",
    "    ''' \n",
    "    cost function, J \n",
    "    '''\n",
    "    log_func_v = logistic_func(beta, X) \n",
    "    y = np.squeeze(y) \n",
    "    step1 = y * np.log(log_func_v) \n",
    "    step2 = (1 - y) * np.log(1 - log_func_v) \n",
    "    final = -step1 - step2 \n",
    "    return np.mean(final) \n",
    "  \n",
    "  \n",
    "def grad_desc(X, y, beta, lr=.01, converge_change=.001): \n",
    "    ''' \n",
    "    gradient descent function \n",
    "    '''\n",
    "    cost = cost_func(beta, X, y) \n",
    "    change_cost = 1\n",
    "    num_iter = 1\n",
    "      \n",
    "    while(change_cost > converge_change): \n",
    "        old_cost = cost \n",
    "        beta = beta - (lr * log_gradient(beta, X, y)) \n",
    "        cost = cost_func(beta, X, y) \n",
    "        change_cost = old_cost - cost \n",
    "        num_iter += 1\n",
    "      \n",
    "    return beta, num_iter  "
   ]
  },
  {
   "cell_type": "code",
   "execution_count": 352,
   "metadata": {},
   "outputs": [
    {
     "name": "stdout",
     "output_type": "stream",
     "text": [
      "Estimated regression coefficients: [[ 10.23433359 -10.8145039   -8.0709481 ]]\n",
      "No. of iterations: 1376\n"
     ]
    }
   ],
   "source": [
    "# beta values after running gradient descent \n",
    "beta_train, num_iter = grad_desc(train_batch_X, train_batch_y, beta_train) \n",
    "# estimated beta values and number of iterations \n",
    "print(\"Estimated regression coefficients:\", beta_train) \n",
    "print(\"No. of iterations:\", num_iter) "
   ]
  },
  {
   "cell_type": "code",
   "execution_count": 371,
   "metadata": {},
   "outputs": [],
   "source": [
    "def pred_values(beta,X): \n",
    "    ''' \n",
    "    function to predict labels \n",
    "    '''\n",
    "    pred_prob = logistic_func(beta, X) \n",
    "    pred_value = np.where(pred_prob >= .5, 1, 0) \n",
    "    return np.squeeze(pred_value) "
   ]
  },
  {
   "cell_type": "code",
   "execution_count": 372,
   "metadata": {},
   "outputs": [],
   "source": [
    " y_pred_train = pred_values(beta_train, train_batch_X) "
   ]
  },
  {
   "cell_type": "code",
   "execution_count": 373,
   "metadata": {},
   "outputs": [],
   "source": [
    "import matplotlib.pyplot as plt \n",
    "def plot_reg(X, y, beta): \n",
    "    ''' \n",
    "    function to plot decision boundary \n",
    "    '''\n",
    "    # labelled observations \n",
    "    x_0 = X[np.where(y == 0.0)] \n",
    "    x_1 = X[np.where(y == 1.0)] \n",
    "      \n",
    "    # plotting points with diff color for diff label \n",
    "    plt.scatter([x_0[:, 1]], [x_0[:, 2]], c='b', label='y = 0') \n",
    "    plt.scatter([x_1[:, 1]], [x_1[:, 2]], c='r', label='y = 1') \n",
    "      \n",
    "    # plotting decision boundary \n",
    "    x1 = np.arange(0, 1, 0.1) \n",
    "    x2 = -(beta[0,0] + beta[0,1]*x1)/beta[0,2] \n",
    "    plt.plot(x1, x2, c='k', label='reg line') \n",
    "  \n",
    "    plt.xlabel('x1') \n",
    "    plt.ylabel('x2') \n",
    "    plt.legend() \n",
    "    plt.show() \n",
    "      "
   ]
  },
  {
   "cell_type": "code",
   "execution_count": 374,
   "metadata": {},
   "outputs": [
    {
     "name": "stdout",
     "output_type": "stream",
     "text": [
      "Correctly predicted labels: 93\n"
     ]
    },
    {
     "data": {
      "image/png": "[encoded data removed]",
      "text/plain": [
       "<Figure size 432x288 with 1 Axes>"
      ]
     },
     "metadata": {
      "needs_background": "light"
     },
     "output_type": "display_data"
    }
   ],
   "source": [
    "# number of correctly predicted labels \n",
    "print(\"Correctly predicted labels:\", np.sum(train_batch_y == y_pred_train)) \n",
    "      \n",
    "# plotting regression line \n",
    "plot_reg(train_batch_X, train_batch_y, beta_train) "
   ]
  },
  {
   "cell_type": "code",
   "execution_count": 375,
   "metadata": {},
   "outputs": [],
   "source": [
    "validation_batch= gauss_sample.get_batch(100, mode=\"val\")\n",
    "validation_batch_X = validation_batch[0]\n",
    "# response vector \n",
    "validation_batch_y = validation_batch[1] "
   ]
  },
  {
   "cell_type": "code",
   "execution_count": 376,
   "metadata": {},
   "outputs": [],
   "source": [
    "valdation_batch_X = normalize(validation_batch_X) "
   ]
  },
  {
   "cell_type": "code",
   "execution_count": 377,
   "metadata": {},
   "outputs": [],
   "source": [
    "validation_batch_X= np.hstack((np.matrix(np.ones(validation_batch_X.shape[0])).T, validation_batch_X))"
   ]
  },
  {
   "cell_type": "code",
   "execution_count": 378,
   "metadata": {},
   "outputs": [],
   "source": [
    "beta_validation = np.matrix(np.zeros(validation_batch_X.shape[1])) "
   ]
  },
  {
   "cell_type": "code",
   "execution_count": 379,
   "metadata": {},
   "outputs": [
    {
     "name": "stdout",
     "output_type": "stream",
     "text": [
      "Estimated regression coefficients: [[-0.02463997 -1.34444581 -1.62652692]]\n",
      "No. of iterations: 45\n"
     ]
    }
   ],
   "source": [
    "# beta values after running gradient descent \n",
    "beta_validation, num_iter = grad_desc(validation_batch_X, validation_batch_y, beta_validation) \n",
    "# estimated beta values and number of iterations \n",
    "print(\"Estimated regression coefficients:\", beta_validation) \n",
    "print(\"No. of iterations:\", num_iter) "
   ]
  },
  {
   "cell_type": "code",
   "execution_count": 380,
   "metadata": {},
   "outputs": [],
   "source": [
    "y_pred_validation = pred_values(beta_validation, validation_batch_X) "
   ]
  },
  {
   "cell_type": "code",
   "execution_count": 385,
   "metadata": {},
   "outputs": [
    {
     "name": "stdout",
     "output_type": "stream",
     "text": [
      "Correctly predicted labels: 89\n"
     ]
    },
    {
     "data": {
      "image/png": "[encoded data removed]",
      "text/plain": [
       "<Figure size 432x288 with 1 Axes>"
      ]
     },
     "metadata": {
      "needs_background": "light"
     },
     "output_type": "display_data"
    }
   ],
   "source": [
    "# number of correctly predicted labels \n",
    "print(\"Correctly predicted labels:\", np.sum(validation_batch_y == y_pred_validation)) \n",
    "      \n",
    "# plotting regression line \n",
    "plot_reg(validation_batch_X, validation_batch_y, beta_validation) "
   ]
  },
  {
   "cell_type": "code",
   "execution_count": 382,
   "metadata": {},
   "outputs": [],
   "source": [
    "test_batch= gauss_sample.get_batch(100, mode=\"test\")\n",
    "test_batch_X = test_batch[0]\n",
    "# response vector \n",
    "test_batch_y = test_batch[1] "
   ]
  },
  {
   "cell_type": "code",
   "execution_count": 383,
   "metadata": {},
   "outputs": [],
   "source": [
    "test_batch_X = normalize(test_batch_X) "
   ]
  },
  {
   "cell_type": "code",
   "execution_count": 384,
   "metadata": {},
   "outputs": [],
   "source": [
    "test_batch_X= np.hstack((np.matrix(np.ones(test_batch_X.shape[0])).T, test_batch_X))"
   ]
  },
  {
   "cell_type": "code",
   "execution_count": 367,
   "metadata": {},
   "outputs": [],
   "source": [
    "beta_test = np.matrix(np.zeros(test_batch_X.shape[1])) "
   ]
  },
  {
   "cell_type": "code",
   "execution_count": 368,
   "metadata": {},
   "outputs": [
    {
     "name": "stdout",
     "output_type": "stream",
     "text": [
      "Estimated regression coefficients: [[ 12.40388823  -8.94060183 -12.92532062]]\n",
      "No. of iterations: 1885\n"
     ]
    }
   ],
   "source": [
    "# beta values after running gradient descent \n",
    "beta_test, num_iter = grad_desc(test_batch_X, test_batch_y, beta_test) \n",
    "# estimated beta values and number of iterations \n",
    "print(\"Estimated regression coefficients:\", beta_test) \n",
    "print(\"No. of iterations:\", num_iter) "
   ]
  },
  {
   "cell_type": "code",
   "execution_count": 369,
   "metadata": {},
   "outputs": [],
   "source": [
    "y_pred_test = pred_values(beta_test, test_batch_X) "
   ]
  },
  {
   "cell_type": "code",
   "execution_count": 386,
   "metadata": {},
   "outputs": [
    {
     "name": "stdout",
     "output_type": "stream",
     "text": [
      "Correctly predicted labels: 49\n"
     ]
    },
    {
     "data": {
      "image/png": "[encoded data removed]",
      "text/plain": [
       "<Figure size 432x288 with 1 Axes>"
      ]
     },
     "metadata": {
      "needs_background": "light"
     },
     "output_type": "display_data"
    }
   ],
   "source": [
    "# number of correctly predicted labels \n",
    "print(\"Correctly predicted labels:\", np.sum(test_batch_y == y_pred_test)) \n",
    "      \n",
    "# plotting regression line \n",
    "plot_reg(test_batch_X, test_batch_y, beta_test) "
   ]
  },
  {
   "cell_type": "code",
   "execution_count": null,
   "metadata": {},
   "outputs": [],
   "source": []
  }
 ],
 "metadata": {
  "kernelspec": {
   "display_name": "Python 3",
   "language": "python",
   "name": "python3"
  },
  "language_info": {
   "codemirror_mode": {
    "name": "ipython",
    "version": 3
   },
   "file_extension": ".py",
   "mimetype": "text/x-python",
   "name": "python",
   "nbconvert_exporter": "python",
   "pygments_lexer": "ipython3",
   "version": "3.7.3"
  }
 },
 "nbformat": 4,
 "nbformat_minor": 2
}
