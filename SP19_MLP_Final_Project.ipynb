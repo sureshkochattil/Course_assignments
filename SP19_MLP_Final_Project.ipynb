{
 "cells": [
  {
   "cell_type": "code",
   "execution_count": 11,
   "metadata": {},
   "outputs": [],
   "source": [
    "# SUPERVISED - Naive Bayes"
   ]
  },
  {
   "cell_type": "code",
   "execution_count": 12,
   "metadata": {},
   "outputs": [],
   "source": [
    "import pandas as pd\n",
    "from sklearn.naive_bayes import GaussianNB\n",
    "import math"
   ]
  },
  {
   "cell_type": "code",
   "execution_count": 13,
   "metadata": {},
   "outputs": [
    {
     "name": "stdout",
     "output_type": "stream",
     "text": [
      "Computing fold where test chunk is: 9\n",
      "Fold Accuracy Training: 70.95 %\n",
      "Fold Accuracy Test: 80.0 %\n",
      "Computing fold where test chunk is: 8\n",
      "Fold Accuracy Training: 71.07 %\n",
      "Fold Accuracy Test: 78.0 %\n",
      "Computing fold where test chunk is: 7\n",
      "Fold Accuracy Training: 71.02 %\n",
      "Fold Accuracy Test: 79.0 %\n",
      "Computing fold where test chunk is: 6\n",
      "Fold Accuracy Training: 70.97 %\n",
      "Fold Accuracy Test: 78.0 %\n",
      "Computing fold where test chunk is: 5\n",
      "Fold Accuracy Training: 70.92 %\n",
      "Fold Accuracy Test: 80.0 %\n",
      "Computing fold where test chunk is: 4\n",
      "Fold Accuracy Training: 70.95 %\n",
      "Fold Accuracy Test: 79.0 %\n",
      "Computing fold where test chunk is: 3\n",
      "Fold Accuracy Training: 71.03 %\n",
      "Fold Accuracy Test: 79.0 %\n",
      "Computing fold where test chunk is: 2\n",
      "Fold Accuracy Training: 70.89 %\n",
      "Fold Accuracy Test: 79.0 %\n",
      "Computing fold where test chunk is: 1\n",
      "Fold Accuracy Training: 70.8 %\n",
      "Fold Accuracy Test: 79.0 %\n",
      "Computing fold where test chunk is: 0\n",
      "Fold Accuracy Training: 71.11 %\n",
      "Fold Accuracy Test: 78.0 %\n",
      "Averaged Accuracy Training: 70.97 %\n",
      "Averaged Error Training: 29.03 %\n",
      "Averaged Accuracy Test: 78.9 %\n",
      "Averaged Error Test: 21.1 %\n"
     ]
    }
   ],
   "source": [
    "#reading data\n",
    "adult_raw = pd.read_csv(\"C:\\\\Users\\\\sures\\\\OneDrive\\\\Documents\\\\Adult_UCI.csv\")\n",
    "\n",
    "#turning  as categorical and numerical\n",
    "\n",
    "adult_raw['Work_class'] = adult_raw['Work_class'].astype('category')\n",
    "adult_raw['Work_class'] = adult_raw['Work_class'].cat.codes\n",
    "\n",
    "adult_raw['Education'] = adult_raw['Education'].astype('category')\n",
    "adult_raw['Education'] = adult_raw['Education'].cat.codes\n",
    "\n",
    "adult_raw['Marital_status'] = adult_raw['Marital_status'].astype('category')\n",
    "adult_raw['Marital_status'] = adult_raw['Marital_status'].cat.codes\n",
    "\n",
    "adult_raw['Occupation'] = adult_raw['Occupation'].astype('category')\n",
    "adult_raw['Occupation'] = adult_raw['Occupation'].cat.codes\n",
    "\n",
    "adult_raw['Relationship'] = adult_raw['Relationship'].astype('category')\n",
    "adult_raw['Relationship'] = adult_raw['Relationship'].cat.codes\n",
    "\n",
    "adult_raw['Race'] = adult_raw['Race'].astype('category')\n",
    "adult_raw['Race'] = adult_raw['Race'].cat.codes\n",
    "\n",
    "adult_raw['Sex'] = adult_raw['Sex'].astype('category')\n",
    "adult_raw['Sex'] = adult_raw['Sex'].cat.codes\n",
    "\n",
    "adult_raw['Native_country'] = adult_raw['Native_country'].astype('category')\n",
    "adult_raw['Native_country'] = adult_raw['Native_country'].cat.codes\n",
    "\n",
    "adult_raw['Class'] = adult_raw['Class'].astype('category')\n",
    "adult_raw['Class'] = adult_raw['Class'].cat.codes\n",
    "\n",
    "#k-fold cross validation\n",
    "k=10\n",
    "\n",
    "chunk_size = math.floor(adult_raw.shape[0]/k)\n",
    "accuracy_accumulation_training = []\n",
    "accuracy_accumulation_test = []\n",
    "\n",
    "\n",
    "for iteration in range(1, k+1):\n",
    "    print(\"Computing fold where test chunk is:\", k-iteration)\n",
    "    \n",
    "    #Ascribing the test_set and training_set depending on the fold\n",
    "    test_set = adult_raw.iloc[(k-iteration)*chunk_size:(k-iteration+1)*chunk_size, ]\n",
    "    training_set_left = adult_raw.iloc[:(k-iteration)*chunk_size, ]\n",
    "    training_set_right = adult_raw.iloc[(k-iteration+1)*chunk_size:, ]\n",
    "    training_set = training_set_left.append(training_set_right)\n",
    "    \n",
    "    adult_X_training = training_set.iloc[:, :14]\n",
    "    adult_Y_training = training_set.iloc[:, 14:15]\n",
    "    \n",
    "# Training the model\n",
    "\n",
    "    \n",
    "    naive_bayes_gaussianlearner = GaussianNB()\n",
    "\n",
    "    nb_solver = naive_bayes_gaussianlearner.fit(adult_X_training, adult_Y_training.values.ravel())\n",
    "\n",
    "    prediction_training = nb_solver.predict(adult_X_training)\n",
    "    \n",
    "# mapping the training data\n",
    "    \n",
    "    predicted_values_training = []\n",
    "    predicted_values_training.append(prediction_training)\n",
    "    comparison_list_training = (adult_Y_training == predicted_values_training).values.T.tolist()\n",
    "    accuracy_training = sum(comparison_list_training[0])/(chunk_size*k)\n",
    "    print(\"Fold Accuracy Training:\", round(accuracy_training*100,2), \"%\")\n",
    "    accuracy_accumulation_training.append(accuracy_training)\n",
    "    \n",
    "\n",
    "# mapping test data\n",
    "\n",
    "    adult_X_test = test_set.iloc[:, :14]\n",
    "\n",
    "    adult_Y_test = test_set.iloc[:, 14:15]\n",
    "    \n",
    "    prediction_test = nb_solver.predict(adult_X_test)\n",
    "    \n",
    "    predicted_values_test = []\n",
    "    predicted_values_test.append(prediction_test)\n",
    "    comparison_list_test = (adult_Y_test == predicted_values_test).values.T.tolist()\n",
    "    accuracy_test = round(sum(comparison_list_test[0])/(chunk_size),2)\n",
    "    print(\"Fold Accuracy Test:\", round(accuracy_test*100,2), \"%\")\n",
    "    accuracy_accumulation_test.append(accuracy_test)\n",
    "\n",
    "\n",
    "#Printing averaged accuracy\n",
    "print(\"Averaged Accuracy Training:\", round(sum(accuracy_accumulation_training)/len(accuracy_accumulation_training)*100,2), \"%\")\n",
    "#Printing averaged error\n",
    "print(\"Averaged Error Training:\", round((1-sum(accuracy_accumulation_training)/len(accuracy_accumulation_training))*100,2), \"%\")\n",
    "\n",
    "\n",
    "#Printing averaged accuracy\n",
    "print(\"Averaged Accuracy Test:\", round(sum(accuracy_accumulation_test)/len(accuracy_accumulation_test)*100,2), \"%\")\n",
    "#Printing averaged error\n",
    "print(\"Averaged Error Test:\", round((1-sum(accuracy_accumulation_test)/len(accuracy_accumulation_test))*100,2), \"%\")\n",
    "\n",
    "    "
   ]
  },
  {
   "cell_type": "code",
   "execution_count": 14,
   "metadata": {},
   "outputs": [],
   "source": [
    "# UNSUPERVISED - KMeans"
   ]
  },
  {
   "cell_type": "code",
   "execution_count": 15,
   "metadata": {},
   "outputs": [],
   "source": [
    "import pandas as pd\n",
    "import matplotlib.pyplot as plt\n",
    "from sklearn.cluster import KMeans"
   ]
  },
  {
   "cell_type": "code",
   "execution_count": 16,
   "metadata": {},
   "outputs": [],
   "source": [
    "#reading data\n",
    "# https://archive.ics.uci.edu/ml/machine-learning-databases/00468/\n",
    "\n",
    "shoppers_raw = pd.read_csv(\"C:\\\\Users\\\\sures\\\\OneDrive\\\\Documents\\\\online_shoppers_intention.csv\")\n",
    "\n",
    "#turning  as categorical and numerical\n",
    "\n",
    "shoppers_raw['Month'] = shoppers_raw['Month'].astype('category')\n",
    "shoppers_raw['Month'] = shoppers_raw['Month'].cat.codes\n",
    "\n",
    "shoppers_raw['VisitorType'] = shoppers_raw['VisitorType'].astype('category')\n",
    "shoppers_raw['VisitorType'] = shoppers_raw['VisitorType'].cat.codes\n",
    "\n",
    "shoppers_raw['Weekend'] = shoppers_raw['Weekend'].astype('category')\n",
    "shoppers_raw['Weekend'] = shoppers_raw['Weekend'].cat.codes\n",
    "\n",
    "shoppers_raw['Revenue'] = shoppers_raw['Revenue'].astype('category')\n",
    "shoppers_raw['Revenue'] = shoppers_raw['Revenue'].cat.codes"
   ]
  },
  {
   "cell_type": "code",
   "execution_count": 17,
   "metadata": {},
   "outputs": [],
   "source": [
    "kmeans = KMeans(n_clusters=2, init='k-means++', n_init=10, max_iter=100, tol=0.001,precompute_distances='auto', verbose=0, random_state=None, copy_x=True, n_jobs=None, algorithm='auto')"
   ]
  },
  {
   "cell_type": "code",
   "execution_count": 18,
   "metadata": {},
   "outputs": [
    {
     "data": {
      "text/plain": [
       "KMeans(algorithm='auto', copy_x=True, init='k-means++', max_iter=100,\n",
       "    n_clusters=2, n_init=10, n_jobs=None, precompute_distances='auto',\n",
       "    random_state=None, tol=0.001, verbose=0)"
      ]
     },
     "execution_count": 18,
     "metadata": {},
     "output_type": "execute_result"
    }
   ],
   "source": [
    "kmeans.fit(shoppers_raw)"
   ]
  },
  {
   "cell_type": "code",
   "execution_count": 19,
   "metadata": {},
   "outputs": [],
   "source": [
    "y_kmeans = kmeans.predict(shoppers_raw)"
   ]
  },
  {
   "cell_type": "code",
   "execution_count": 20,
   "metadata": {},
   "outputs": [
    {
     "name": "stdout",
     "output_type": "stream",
     "text": [
      "Accuracy Test: 81.54906731549067 %\n"
     ]
    }
   ],
   "source": [
    "predicted_values = []\n",
    "accuracy_accumulation_test = []\n",
    "predicted_values.append(y_kmeans)\n",
    "Y_true = shoppers_raw.iloc[:, 17:18]\n",
    "comparison_list = (Y_true == predicted_values).values.T.tolist()\n",
    "accuracy_test = sum(comparison_list[0])/shoppers_raw.shape[0]\n",
    "print(\"Accuracy Test:\", accuracy_test*100, \"%\")"
   ]
  }
 ],
 "metadata": {
  "kernelspec": {
   "display_name": "Python 3",
   "language": "python",
   "name": "python3"
  },
  "language_info": {
   "codemirror_mode": {
    "name": "ipython",
    "version": 3
   },
   "file_extension": ".py",
   "mimetype": "text/x-python",
   "name": "python",
   "nbconvert_exporter": "python",
   "pygments_lexer": "ipython3",
   "version": "3.7.0"
  }
 },
 "nbformat": 4,
 "nbformat_minor": 2
}
