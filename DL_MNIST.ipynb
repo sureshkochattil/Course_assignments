{
 "cells": [
  {
   "cell_type": "code",
   "execution_count": 17,
   "metadata": {},
   "outputs": [
    {
     "name": "stdout",
     "output_type": "stream",
     "text": [
      "Extracting MNIST_data/train-images-idx3-ubyte.gz\n",
      "Extracting MNIST_data/train-labels-idx1-ubyte.gz\n",
      "Extracting MNIST_data/t10k-images-idx3-ubyte.gz\n",
      "Extracting MNIST_data/t10k-labels-idx1-ubyte.gz\n",
      "accucracy is  0.9137\n"
     ]
    }
   ],
   "source": [
    "import tensorflow as tf\n",
    "\n",
    "# training data\n",
    "#prepare dataset\n",
    "from tensorflow.examples.tutorials.mnist import input_data\n",
    "mnist = input_data.read_data_sets(\"MNIST_data/\", one_hot=True)\n",
    "\n",
    "# define computational graph\n",
    "# Create the model (1 hidden layer)\n",
    "x = tf.placeholder(tf.float32, [None, 784])\n",
    "h = tf.layers.dense(x,30)\n",
    "y = tf.layers.dense(h,10)\n",
    "\n",
    "#initializer\n",
    "init = tf.global_variables_initializer()\n",
    "\n",
    "# Define loss and optimizer\n",
    "y_ = tf.placeholder(tf.int64, [None,10])\n",
    "cross_entropy = tf.losses.softmax_cross_entropy(onehot_labels=y_, logits=y)\n",
    "train_step = tf.train.GradientDescentOptimizer(0.1).minimize(cross_entropy)\n",
    "\n",
    "loss_log = []\n",
    "\n",
    "#run the graph as session\n",
    "with tf.Session() as sess:\n",
    "    sess.run(init) # reset values to wrong\n",
    "    # training loop\n",
    "    for _ in range(1000):\n",
    "        batch_xs, batch_ys = mnist.train.next_batch(100)\n",
    "        loss,_ = sess.run([cross_entropy,train_step], feed_dict={x: batch_xs, y_: batch_ys})\n",
    "        loss_log.append(loss)\n",
    "\n",
    "    # Test trained model\n",
    "    correct_prediction = tf.equal(tf.argmax(y, 1),tf.argmax(y_,1))\n",
    "    accuracy = tf.reduce_mean(tf.cast(correct_prediction, tf.float32))\n",
    "    accuracy_result = sess.run(accuracy, feed_dict={x: mnist.test.images,y_: mnist.test.labels})\n",
    "    print(\"accucracy is \",accuracy_result)"
   ]
  },
  {
   "cell_type": "code",
   "execution_count": 22,
   "metadata": {},
   "outputs": [
    {
     "name": "stdout",
     "output_type": "stream",
     "text": [
      "accucracy is  0.9169\n"
     ]
    }
   ],
   "source": [
    "# define computational graph\n",
    "# Create the model (2 hidden layers)\n",
    "x = tf.placeholder(tf.float32, [None, 784])\n",
    "h1 = tf.layers.dense(x,30)\n",
    "h2 = tf.layers.dense(h1,28)\n",
    "y = tf.layers.dense(h2,10)\n",
    "\n",
    "#initializer\n",
    "init = tf.global_variables_initializer()\n",
    "\n",
    "# Define loss and optimizer\n",
    "y_ = tf.placeholder(tf.int64, [None,10])\n",
    "cross_entropy = tf.losses.softmax_cross_entropy(onehot_labels=y_, logits=y)\n",
    "train_step = tf.train.GradientDescentOptimizer(0.1).minimize(cross_entropy)\n",
    "\n",
    "loss_log = []\n",
    "\n",
    "#run the graph as session\n",
    "with tf.Session() as sess:\n",
    "    sess.run(init) # reset values to wrong\n",
    "    # training loop\n",
    "    for _ in range(1000):\n",
    "        batch_xs, batch_ys = mnist.train.next_batch(100)\n",
    "        loss,_ = sess.run([cross_entropy,train_step], feed_dict={x: batch_xs, y_: batch_ys})\n",
    "        loss_log.append(loss)\n",
    "\n",
    "    # Test trained model\n",
    "    correct_prediction = tf.equal(tf.argmax(y, 1),tf.argmax(y_,1))\n",
    "    accuracy = tf.reduce_mean(tf.cast(correct_prediction, tf.float32))\n",
    "    accuracy_result = sess.run(accuracy, feed_dict={x: mnist.test.images,y_: mnist.test.labels})\n",
    "    print(\"accucracy is \",accuracy_result)"
   ]
  },
  {
   "cell_type": "code",
   "execution_count": 19,
   "metadata": {},
   "outputs": [
    {
     "name": "stdout",
     "output_type": "stream",
     "text": [
      "accucracy is  0.9164\n"
     ]
    }
   ],
   "source": [
    "# define computational graph\n",
    "# Create the model (3 hidden layers)\n",
    "x = tf.placeholder(tf.float32, [None, 784])\n",
    "h1 = tf.layers.dense(x,30)\n",
    "h2 = tf.layers.dense(h1,30)\n",
    "h3 = tf.layers.dense(h2,30)\n",
    "y = tf.layers.dense(h3,10)\n",
    "\n",
    "#initializer\n",
    "init = tf.global_variables_initializer()\n",
    "\n",
    "# Define loss and optimizer\n",
    "y_ = tf.placeholder(tf.int64, [None,10])\n",
    "cross_entropy = tf.losses.softmax_cross_entropy(onehot_labels=y_, logits=y)\n",
    "train_step = tf.train.GradientDescentOptimizer(0.1).minimize(cross_entropy)\n",
    "\n",
    "loss_log = []\n",
    "\n",
    "#run the graph as session\n",
    "with tf.Session() as sess:\n",
    "    sess.run(init) # reset values to wrong\n",
    "    # training loop\n",
    "    for _ in range(1000):\n",
    "        batch_xs, batch_ys = mnist.train.next_batch(100)\n",
    "        loss,_ = sess.run([cross_entropy,train_step], feed_dict={x: batch_xs, y_: batch_ys})\n",
    "        loss_log.append(loss)\n",
    "\n",
    "    # Test trained model\n",
    "    correct_prediction = tf.equal(tf.argmax(y, 1),tf.argmax(y_,1))\n",
    "    accuracy = tf.reduce_mean(tf.cast(correct_prediction, tf.float32))\n",
    "    accuracy_result = sess.run(accuracy, feed_dict={x: mnist.test.images,y_: mnist.test.labels})\n",
    "    print(\"accucracy is \",accuracy_result)"
   ]
  },
  {
   "cell_type": "code",
   "execution_count": 20,
   "metadata": {},
   "outputs": [
    {
     "name": "stdout",
     "output_type": "stream",
     "text": [
      "accucracy is  0.9117\n"
     ]
    }
   ],
   "source": [
    "# define computational graph\n",
    "# Create the model (4 hidden layers)\n",
    "x = tf.placeholder(tf.float32, [None, 784])\n",
    "h1 = tf.layers.dense(x,31)\n",
    "h2 = tf.layers.dense(h1,30)\n",
    "h3 = tf.layers.dense(h2,28)\n",
    "h4 = tf.layers.dense(h3,29)\n",
    "y = tf.layers.dense(h4,10)\n",
    "\n",
    "#initializer\n",
    "init = tf.global_variables_initializer()\n",
    "\n",
    "# Define loss and optimizer\n",
    "y_ = tf.placeholder(tf.int64, [None,10])\n",
    "cross_entropy = tf.losses.softmax_cross_entropy(onehot_labels=y_, logits=y)\n",
    "train_step = tf.train.GradientDescentOptimizer(0.1).minimize(cross_entropy)\n",
    "\n",
    "loss_log = []\n",
    "\n",
    "#run the graph as session\n",
    "with tf.Session() as sess:\n",
    "    sess.run(init) # reset values to wrong\n",
    "    # training loop\n",
    "    for _ in range(1000):\n",
    "        batch_xs, batch_ys = mnist.train.next_batch(100)\n",
    "        loss,_ = sess.run([cross_entropy,train_step], feed_dict={x: batch_xs, y_: batch_ys})\n",
    "        loss_log.append(loss)\n",
    "\n",
    "    # Test trained model\n",
    "    correct_prediction = tf.equal(tf.argmax(y, 1),tf.argmax(y_,1))\n",
    "    accuracy = tf.reduce_mean(tf.cast(correct_prediction, tf.float32))\n",
    "    accuracy_result = sess.run(accuracy, feed_dict={x: mnist.test.images,y_: mnist.test.labels})\n",
    "    print(\"accucracy is \",accuracy_result)"
   ]
  },
  {
   "cell_type": "code",
   "execution_count": 21,
   "metadata": {},
   "outputs": [
    {
     "name": "stdout",
     "output_type": "stream",
     "text": [
      "accucracy is  0.9124\n"
     ]
    }
   ],
   "source": [
    "# define computational graph\n",
    "# Create the model (4 hidden layers)\n",
    "x = tf.placeholder(tf.float32, [None, 784])\n",
    "h1 = tf.layers.dense(x,30)\n",
    "h2 = tf.layers.dense(h1,28)\n",
    "h3 = tf.layers.dense(h2,30)\n",
    "h4 = tf.layers.dense(h3,29)\n",
    "h5 = tf.layers.dense(h4,30)\n",
    "y = tf.layers.dense(h5,10)\n",
    "\n",
    "#initializer\n",
    "init = tf.global_variables_initializer()\n",
    "\n",
    "# Define loss and optimizer\n",
    "y_ = tf.placeholder(tf.int64, [None,10])\n",
    "cross_entropy = tf.losses.softmax_cross_entropy(onehot_labels=y_, logits=y)\n",
    "train_step = tf.train.GradientDescentOptimizer(0.1).minimize(cross_entropy)\n",
    "\n",
    "loss_log = []\n",
    "\n",
    "#run the graph as session\n",
    "with tf.Session() as sess:\n",
    "    sess.run(init) # reset values to wrong\n",
    "    # training loop\n",
    "    for _ in range(1000):\n",
    "        batch_xs, batch_ys = mnist.train.next_batch(100)\n",
    "        loss,_ = sess.run([cross_entropy,train_step], feed_dict={x: batch_xs, y_: batch_ys})\n",
    "        loss_log.append(loss)\n",
    "\n",
    "    # Test trained model\n",
    "    correct_prediction = tf.equal(tf.argmax(y, 1),tf.argmax(y_,1))\n",
    "    accuracy = tf.reduce_mean(tf.cast(correct_prediction, tf.float32))\n",
    "    accuracy_result = sess.run(accuracy, feed_dict={x: mnist.test.images,y_: mnist.test.labels})\n",
    "    print(\"accucracy is \",accuracy_result)"
   ]
  },
  {
   "cell_type": "code",
   "execution_count": null,
   "metadata": {},
   "outputs": [],
   "source": []
  }
 ],
 "metadata": {
  "kernelspec": {
   "display_name": "Python 3",
   "language": "python",
   "name": "python3"
  },
  "language_info": {
   "codemirror_mode": {
    "name": "ipython",
    "version": 3
   },
   "file_extension": ".py",
   "mimetype": "text/x-python",
   "name": "python",
   "nbconvert_exporter": "python",
   "pygments_lexer": "ipython3",
   "version": "3.7.3"
  }
 },
 "nbformat": 4,
 "nbformat_minor": 2
}
